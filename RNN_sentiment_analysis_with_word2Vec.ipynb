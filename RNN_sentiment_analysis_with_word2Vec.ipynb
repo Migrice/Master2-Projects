{
  "cells": [
    {
      "cell_type": "markdown",
      "metadata": {
        "id": "view-in-github",
        "colab_type": "text"
      },
      "source": [
        "<a href=\"https://colab.research.google.com/github/Migrice/Master2-Projects/blob/main/RNN_sentiment_analysis_with_word2Vec.ipynb\" target=\"_parent\"><img src=\"https://colab.research.google.com/assets/colab-badge.svg\" alt=\"Open In Colab\"/></a>"
      ]
    },
    {
      "cell_type": "code",
      "source": [
        "from zipfile import ZipFile \n",
        "  \n",
        "# spécifiant le nom du fichier zip\n",
        "file = \"Sentiment analysis dataset.zip\"\n",
        "  \n",
        "# ouvrir le fichier zip en mode lecture\n",
        "with ZipFile(file, 'r') as zip: \n",
        "    # afficher tout le contenu du fichier zip\n",
        "    zip.printdir() \n",
        "  \n",
        "    # extraire tous les fichiers\n",
        "    print('extraction...') \n",
        "    zip.extractall() \n",
        "    print('Terminé!')"
      ],
      "metadata": {
        "colab": {
          "base_uri": "https://localhost:8080/"
        },
        "id": "8bEZL4z7xxi5",
        "outputId": "21253cc0-2022-42de-bde3-92b5e55fb81e"
      },
      "id": "8bEZL4z7xxi5",
      "execution_count": 1,
      "outputs": [
        {
          "output_type": "stream",
          "name": "stdout",
          "text": [
            "File Name                                             Modified             Size\n",
            "Sentiment analysis dataset/                    2022-11-22 09:41:54            0\n",
            "Sentiment analysis dataset/Twitter Sentiments.csv 2021-11-06 11:57:06      3103165\n",
            "extraction...\n",
            "Terminé!\n"
          ]
        }
      ]
    },
    {
      "cell_type": "code",
      "execution_count": 2,
      "id": "2f419c5b",
      "metadata": {
        "id": "2f419c5b"
      },
      "outputs": [],
      "source": [
        "#load librairies\n",
        "\n",
        "import numpy as np\n",
        "import pandas as pd\n",
        "\n",
        "from keras.layers import Dense, Embedding, LSTM\n",
        "from keras.preprocessing.text import Tokenizer\n",
        "from keras_preprocessing.sequence import pad_sequences\n",
        "\n",
        "\n",
        "from sklearn.model_selection import train_test_split\n",
        "import re"
      ]
    },
    {
      "cell_type": "code",
      "execution_count": 3,
      "id": "43f21886",
      "metadata": {
        "id": "43f21886"
      },
      "outputs": [],
      "source": [
        "#load data\n",
        "df = pd.read_csv(\"Sentiment analysis dataset/Twitter Sentiments.csv\")"
      ]
    },
    {
      "cell_type": "code",
      "execution_count": 4,
      "id": "e08b6b89",
      "metadata": {
        "colab": {
          "base_uri": "https://localhost:8080/"
        },
        "id": "e08b6b89",
        "outputId": "a5de9625-a196-4690-f8a5-b4b2b544e314"
      },
      "outputs": [
        {
          "output_type": "stream",
          "name": "stdout",
          "text": [
            "Index(['id', 'label', 'tweet'], dtype='object')\n",
            "          id  label                                              tweet\n",
            "0          1      0   @user when a father is dysfunctional and is s...\n",
            "1          2      0  @user @user thanks for #lyft credit i can't us...\n",
            "2          3      0                                bihday your majesty\n",
            "3          4      0  #model   i love u take with u all the time in ...\n",
            "4          5      0             factsguide: society now    #motivation\n",
            "...      ...    ...                                                ...\n",
            "31957  31958      0  ate @user isz that youuu?ðððððð...\n",
            "31958  31959      0    to see nina turner on the airwaves trying to...\n",
            "31959  31960      0  listening to sad songs on a monday morning otw...\n",
            "31960  31961      1  @user #sikh #temple vandalised in in #calgary,...\n",
            "31961  31962      0                   thank you @user for you follow  \n",
            "\n",
            "[31962 rows x 3 columns]\n"
          ]
        }
      ],
      "source": [
        "print(df.columns)\n",
        "print(df)"
      ]
    },
    {
      "cell_type": "code",
      "execution_count": 5,
      "id": "978324dc",
      "metadata": {
        "colab": {
          "base_uri": "https://localhost:8080/",
          "height": 423
        },
        "id": "978324dc",
        "outputId": "77ed14c2-05a5-4a37-f10d-9457ab3d5f75"
      },
      "outputs": [
        {
          "output_type": "execute_result",
          "data": {
            "text/plain": [
              "       label                                              tweet\n",
              "0          0   @user when a father is dysfunctional and is s...\n",
              "1          0  @user @user thanks for #lyft credit i can't us...\n",
              "2          0                                bihday your majesty\n",
              "3          0  #model   i love u take with u all the time in ...\n",
              "4          0             factsguide: society now    #motivation\n",
              "...      ...                                                ...\n",
              "31957      0  ate @user isz that youuu?ðððððð...\n",
              "31958      0    to see nina turner on the airwaves trying to...\n",
              "31959      0  listening to sad songs on a monday morning otw...\n",
              "31960      1  @user #sikh #temple vandalised in in #calgary,...\n",
              "31961      0                   thank you @user for you follow  \n",
              "\n",
              "[31962 rows x 2 columns]"
            ],
            "text/html": [
              "\n",
              "  <div id=\"df-561e306e-c58b-45d2-9a11-8a4bc8e3baac\">\n",
              "    <div class=\"colab-df-container\">\n",
              "      <div>\n",
              "<style scoped>\n",
              "    .dataframe tbody tr th:only-of-type {\n",
              "        vertical-align: middle;\n",
              "    }\n",
              "\n",
              "    .dataframe tbody tr th {\n",
              "        vertical-align: top;\n",
              "    }\n",
              "\n",
              "    .dataframe thead th {\n",
              "        text-align: right;\n",
              "    }\n",
              "</style>\n",
              "<table border=\"1\" class=\"dataframe\">\n",
              "  <thead>\n",
              "    <tr style=\"text-align: right;\">\n",
              "      <th></th>\n",
              "      <th>label</th>\n",
              "      <th>tweet</th>\n",
              "    </tr>\n",
              "  </thead>\n",
              "  <tbody>\n",
              "    <tr>\n",
              "      <th>0</th>\n",
              "      <td>0</td>\n",
              "      <td>@user when a father is dysfunctional and is s...</td>\n",
              "    </tr>\n",
              "    <tr>\n",
              "      <th>1</th>\n",
              "      <td>0</td>\n",
              "      <td>@user @user thanks for #lyft credit i can't us...</td>\n",
              "    </tr>\n",
              "    <tr>\n",
              "      <th>2</th>\n",
              "      <td>0</td>\n",
              "      <td>bihday your majesty</td>\n",
              "    </tr>\n",
              "    <tr>\n",
              "      <th>3</th>\n",
              "      <td>0</td>\n",
              "      <td>#model   i love u take with u all the time in ...</td>\n",
              "    </tr>\n",
              "    <tr>\n",
              "      <th>4</th>\n",
              "      <td>0</td>\n",
              "      <td>factsguide: society now    #motivation</td>\n",
              "    </tr>\n",
              "    <tr>\n",
              "      <th>...</th>\n",
              "      <td>...</td>\n",
              "      <td>...</td>\n",
              "    </tr>\n",
              "    <tr>\n",
              "      <th>31957</th>\n",
              "      <td>0</td>\n",
              "      <td>ate @user isz that youuu?ðððððð...</td>\n",
              "    </tr>\n",
              "    <tr>\n",
              "      <th>31958</th>\n",
              "      <td>0</td>\n",
              "      <td>to see nina turner on the airwaves trying to...</td>\n",
              "    </tr>\n",
              "    <tr>\n",
              "      <th>31959</th>\n",
              "      <td>0</td>\n",
              "      <td>listening to sad songs on a monday morning otw...</td>\n",
              "    </tr>\n",
              "    <tr>\n",
              "      <th>31960</th>\n",
              "      <td>1</td>\n",
              "      <td>@user #sikh #temple vandalised in in #calgary,...</td>\n",
              "    </tr>\n",
              "    <tr>\n",
              "      <th>31961</th>\n",
              "      <td>0</td>\n",
              "      <td>thank you @user for you follow</td>\n",
              "    </tr>\n",
              "  </tbody>\n",
              "</table>\n",
              "<p>31962 rows × 2 columns</p>\n",
              "</div>\n",
              "      <button class=\"colab-df-convert\" onclick=\"convertToInteractive('df-561e306e-c58b-45d2-9a11-8a4bc8e3baac')\"\n",
              "              title=\"Convert this dataframe to an interactive table.\"\n",
              "              style=\"display:none;\">\n",
              "        \n",
              "  <svg xmlns=\"http://www.w3.org/2000/svg\" height=\"24px\"viewBox=\"0 0 24 24\"\n",
              "       width=\"24px\">\n",
              "    <path d=\"M0 0h24v24H0V0z\" fill=\"none\"/>\n",
              "    <path d=\"M18.56 5.44l.94 2.06.94-2.06 2.06-.94-2.06-.94-.94-2.06-.94 2.06-2.06.94zm-11 1L8.5 8.5l.94-2.06 2.06-.94-2.06-.94L8.5 2.5l-.94 2.06-2.06.94zm10 10l.94 2.06.94-2.06 2.06-.94-2.06-.94-.94-2.06-.94 2.06-2.06.94z\"/><path d=\"M17.41 7.96l-1.37-1.37c-.4-.4-.92-.59-1.43-.59-.52 0-1.04.2-1.43.59L10.3 9.45l-7.72 7.72c-.78.78-.78 2.05 0 2.83L4 21.41c.39.39.9.59 1.41.59.51 0 1.02-.2 1.41-.59l7.78-7.78 2.81-2.81c.8-.78.8-2.07 0-2.86zM5.41 20L4 18.59l7.72-7.72 1.47 1.35L5.41 20z\"/>\n",
              "  </svg>\n",
              "      </button>\n",
              "      \n",
              "  <style>\n",
              "    .colab-df-container {\n",
              "      display:flex;\n",
              "      flex-wrap:wrap;\n",
              "      gap: 12px;\n",
              "    }\n",
              "\n",
              "    .colab-df-convert {\n",
              "      background-color: #E8F0FE;\n",
              "      border: none;\n",
              "      border-radius: 50%;\n",
              "      cursor: pointer;\n",
              "      display: none;\n",
              "      fill: #1967D2;\n",
              "      height: 32px;\n",
              "      padding: 0 0 0 0;\n",
              "      width: 32px;\n",
              "    }\n",
              "\n",
              "    .colab-df-convert:hover {\n",
              "      background-color: #E2EBFA;\n",
              "      box-shadow: 0px 1px 2px rgba(60, 64, 67, 0.3), 0px 1px 3px 1px rgba(60, 64, 67, 0.15);\n",
              "      fill: #174EA6;\n",
              "    }\n",
              "\n",
              "    [theme=dark] .colab-df-convert {\n",
              "      background-color: #3B4455;\n",
              "      fill: #D2E3FC;\n",
              "    }\n",
              "\n",
              "    [theme=dark] .colab-df-convert:hover {\n",
              "      background-color: #434B5C;\n",
              "      box-shadow: 0px 1px 3px 1px rgba(0, 0, 0, 0.15);\n",
              "      filter: drop-shadow(0px 1px 2px rgba(0, 0, 0, 0.3));\n",
              "      fill: #FFFFFF;\n",
              "    }\n",
              "  </style>\n",
              "\n",
              "      <script>\n",
              "        const buttonEl =\n",
              "          document.querySelector('#df-561e306e-c58b-45d2-9a11-8a4bc8e3baac button.colab-df-convert');\n",
              "        buttonEl.style.display =\n",
              "          google.colab.kernel.accessAllowed ? 'block' : 'none';\n",
              "\n",
              "        async function convertToInteractive(key) {\n",
              "          const element = document.querySelector('#df-561e306e-c58b-45d2-9a11-8a4bc8e3baac');\n",
              "          const dataTable =\n",
              "            await google.colab.kernel.invokeFunction('convertToInteractive',\n",
              "                                                     [key], {});\n",
              "          if (!dataTable) return;\n",
              "\n",
              "          const docLinkHtml = 'Like what you see? Visit the ' +\n",
              "            '<a target=\"_blank\" href=https://colab.research.google.com/notebooks/data_table.ipynb>data table notebook</a>'\n",
              "            + ' to learn more about interactive tables.';\n",
              "          element.innerHTML = '';\n",
              "          dataTable['output_type'] = 'display_data';\n",
              "          await google.colab.output.renderOutput(dataTable, element);\n",
              "          const docLink = document.createElement('div');\n",
              "          docLink.innerHTML = docLinkHtml;\n",
              "          element.appendChild(docLink);\n",
              "        }\n",
              "      </script>\n",
              "    </div>\n",
              "  </div>\n",
              "  "
            ]
          },
          "metadata": {},
          "execution_count": 5
        }
      ],
      "source": [
        "#remove id column\n",
        "new_df = df[[\"label\", \"tweet\"]]\n",
        "new_df"
      ]
    },
    {
      "cell_type": "code",
      "source": [
        "#preprocessing the tweets\n",
        "#new_df[\"tweet\"] = new_df[\"tweet\"].str.lower()\n",
        "\n",
        "#function = lambda x:re.sub('[^\\w\\s]','', x)\n",
        "#new_df[\"tweet\"] = new_df[\"tweet\"].apply(function)\n",
        "\n",
        "import gensim\n",
        "\n",
        "new_df = df[\"tweet\"].apply(gensim.utils.simple_preprocess)\n",
        "\n",
        "print(new_df)"
      ],
      "metadata": {
        "colab": {
          "base_uri": "https://localhost:8080/"
        },
        "id": "JrDyewnSW4pN",
        "outputId": "201e827b-271b-43fe-b9e8-2b537ccdb36a"
      },
      "id": "JrDyewnSW4pN",
      "execution_count": 6,
      "outputs": [
        {
          "output_type": "stream",
          "name": "stdout",
          "text": [
            "0        [user, when, father, is, dysfunctional, and, i...\n",
            "1        [user, user, thanks, for, lyft, credit, can, u...\n",
            "2                                  [bihday, your, majesty]\n",
            "3        [model, love, take, with, all, the, time, in, ...\n",
            "4                   [factsguide, society, now, motivation]\n",
            "                               ...                        \n",
            "31957                        [ate, user, isz, that, youuu]\n",
            "31958    [to, see, nina, turner, on, the, airwaves, try...\n",
            "31959    [listening, to, sad, songs, on, monday, mornin...\n",
            "31960    [user, sikh, temple, vandalised, in, in, calga...\n",
            "31961                 [thank, you, user, for, you, follow]\n",
            "Name: tweet, Length: 31962, dtype: object\n"
          ]
        }
      ]
    },
    {
      "cell_type": "code",
      "execution_count": 15,
      "id": "3873ad1a",
      "metadata": {
        "id": "3873ad1a",
        "colab": {
          "base_uri": "https://localhost:8080/"
        },
        "outputId": "24338c22-d6ce-4f8d-c957-ed0de2f8b8a1"
      },
      "outputs": [
        {
          "output_type": "stream",
          "name": "stdout",
          "text": [
            "Word2Vec<vocab=0, vector_size=300, alpha=0.025>\n"
          ]
        }
      ],
      "source": [
        "#initialize gensim model\n",
        "modelE = gensim.models.Word2Vec(window=10,vector_size=300, min_count=1,workers=2)\n",
        "print(modelE)"
      ]
    },
    {
      "cell_type": "code",
      "source": [
        "modelE.build_vocab(new_df, progress_per=1)"
      ],
      "metadata": {
        "id": "fCJN5WMAWPD5"
      },
      "id": "fCJN5WMAWPD5",
      "execution_count": 16,
      "outputs": []
    },
    {
      "cell_type": "code",
      "source": [
        "modelE.train(new_df, total_examples=modelE.corpus_count, epochs=modelE.epochs)\n"
      ],
      "metadata": {
        "colab": {
          "base_uri": "https://localhost:8080/"
        },
        "id": "TM8xCLr7XgXf",
        "outputId": "7688b676-0b7d-4d77-8aa0-078fede0757a"
      },
      "id": "TM8xCLr7XgXf",
      "execution_count": 31,
      "outputs": [
        {
          "output_type": "stream",
          "name": "stderr",
          "text": [
            "WARNING:gensim.models.word2vec:Effective 'alpha' higher than previous training cycles\n"
          ]
        },
        {
          "output_type": "execute_result",
          "data": {
            "text/plain": [
              "(1607805, 1945025)"
            ]
          },
          "metadata": {},
          "execution_count": 31
        }
      ]
    },
    {
      "cell_type": "code",
      "source": [
        "modelE.wv.most_similar(\"father\")"
      ],
      "metadata": {
        "colab": {
          "base_uri": "https://localhost:8080/"
        },
        "id": "aeQWQ60QXrU9",
        "outputId": "34ddfce5-c64e-430e-bdce-1449628b2a43"
      },
      "id": "aeQWQ60QXrU9",
      "execution_count": 18,
      "outputs": [
        {
          "output_type": "execute_result",
          "data": {
            "text/plain": [
              "[('fathers', 0.992978572845459),\n",
              " ('dad', 0.9894667863845825),\n",
              " ('fatherã', 0.9780062437057495),\n",
              " ('fathersday', 0.9708476066589355),\n",
              " ('day', 0.95847487449646),\n",
              " ('flag', 0.952197253704071),\n",
              " ('daddy', 0.9472179412841797),\n",
              " ('dads', 0.9470453858375549),\n",
              " ('heavenly', 0.9465005397796631),\n",
              " ('flagday', 0.9446587562561035)]"
            ]
          },
          "metadata": {},
          "execution_count": 18
        }
      ]
    },
    {
      "cell_type": "code",
      "source": [
        "modelE.wv.vectors"
      ],
      "metadata": {
        "colab": {
          "base_uri": "https://localhost:8080/"
        },
        "id": "iZZdvJ3cXur7",
        "outputId": "10c9b696-d590-4394-b3ee-341db8dcfedc"
      },
      "id": "iZZdvJ3cXur7",
      "execution_count": 19,
      "outputs": [
        {
          "output_type": "execute_result",
          "data": {
            "text/plain": [
              "array([[-1.7948069e-01,  7.2529835e-01,  1.5113737e-01, ...,\n",
              "        -6.4854968e-01,  6.6579807e-01, -1.3169190e-01],\n",
              "       [-1.2363248e+00,  7.7377778e-01,  7.4720308e-02, ...,\n",
              "        -6.2490100e-01,  6.3512278e-01, -2.4088103e-01],\n",
              "       [-8.1534433e-01,  6.5829390e-01,  1.4353622e-01, ...,\n",
              "        -2.7132896e-01,  1.7079358e-01, -7.4983847e-01],\n",
              "       ...,\n",
              "       [-2.3325291e-03,  7.0681050e-03, -4.2100553e-04, ...,\n",
              "         2.0044593e-03,  3.3791428e-03, -2.1422238e-03],\n",
              "       [-6.0133054e-04,  6.0479343e-03,  2.2447591e-03, ...,\n",
              "         8.2520151e-04,  3.6520901e-04,  1.6686483e-03],\n",
              "       [ 1.2726227e-03,  1.0396730e-02,  1.8602500e-04, ...,\n",
              "        -7.9024034e-03,  8.6711720e-03,  5.1149973e-03]], dtype=float32)"
            ]
          },
          "metadata": {},
          "execution_count": 19
        }
      ]
    },
    {
      "cell_type": "code",
      "execution_count": 24,
      "id": "c5a7f2ce",
      "metadata": {
        "colab": {
          "base_uri": "https://localhost:8080/"
        },
        "id": "c5a7f2ce",
        "outputId": "934d5420-04cd-4351-e378-ac3ece58226c"
      },
      "outputs": [
        {
          "output_type": "stream",
          "name": "stdout",
          "text": [
            "Model: \"sequential_5\"\n",
            "_________________________________________________________________\n",
            " Layer (type)                Output Shape              Param #   \n",
            "=================================================================\n",
            " embedding_3 (Embedding)     (None, 31, 300)           450000    \n",
            "                                                                 \n",
            " lstm_5 (LSTM)               (None, 196)               389648    \n",
            "                                                                 \n",
            " dense_5 (Dense)             (None, 1)                 197       \n",
            "                                                                 \n",
            "=================================================================\n",
            "Total params: 839,845\n",
            "Trainable params: 839,845\n",
            "Non-trainable params: 0\n",
            "_________________________________________________________________\n"
          ]
        }
      ],
      "source": [
        "from tensorflow import keras\n",
        "\n",
        "#LSTM model\n",
        "embed_dim = 300\n",
        "lstm_out = 196\n",
        "\n",
        "model = keras.Sequential()\n",
        "model.add(Embedding(1500, embed_dim, input_length = 31))\n",
        "model.add(LSTM(lstm_out, dropout=0.2, recurrent_dropout=0.2))\n",
        "model.add(Dense(1, activation = \"softmax\"))\n",
        "\n",
        "model.compile(loss = \"binary_crossentropy\", optimizer='adam', metrics = ['accuracy'])\n",
        "model.summary()\n",
        "          "
      ]
    },
    {
      "cell_type": "code",
      "execution_count": 26,
      "id": "59357e04",
      "metadata": {
        "colab": {
          "base_uri": "https://localhost:8080/"
        },
        "id": "59357e04",
        "outputId": "3e09e345-877d-4a49-90fd-c699c872c993"
      },
      "outputs": [
        {
          "output_type": "stream",
          "name": "stdout",
          "text": [
            "ft [0 0 0 ... 0 1 0]\n"
          ]
        }
      ],
      "source": [
        "#encode label\n",
        "from sklearn.preprocessing import LabelEncoder\n",
        "le = LabelEncoder()\n",
        "y = le.fit_transform(df[\"label\"])\n",
        "print(\"ft\",y)\n"
      ]
    },
    {
      "cell_type": "code",
      "source": [
        "print(len(modelE.wv.vectors))\n",
        "print(len(y))"
      ],
      "metadata": {
        "colab": {
          "base_uri": "https://localhost:8080/"
        },
        "id": "T4MguUQFbUn2",
        "outputId": "40f4acd8-0cb0-4498-a936-b831512f15ac"
      },
      "id": "T4MguUQFbUn2",
      "execution_count": 28,
      "outputs": [
        {
          "output_type": "stream",
          "name": "stdout",
          "text": [
            "37890\n",
            "31962\n"
          ]
        }
      ]
    },
    {
      "cell_type": "code",
      "execution_count": 27,
      "id": "defb96ca",
      "metadata": {
        "id": "defb96ca",
        "colab": {
          "base_uri": "https://localhost:8080/",
          "height": 381
        },
        "outputId": "4c53999e-b5af-481a-a2de-25e62364ae52"
      },
      "outputs": [
        {
          "output_type": "error",
          "ename": "ValueError",
          "evalue": "ignored",
          "traceback": [
            "\u001b[0;31m---------------------------------------------------------------------------\u001b[0m",
            "\u001b[0;31mValueError\u001b[0m                                Traceback (most recent call last)",
            "\u001b[0;32m<ipython-input-27-06ce37eca64e>\u001b[0m in \u001b[0;36m<module>\u001b[0;34m\u001b[0m\n\u001b[1;32m      1\u001b[0m \u001b[0;31m#divide in train-test split\u001b[0m\u001b[0;34m\u001b[0m\u001b[0;34m\u001b[0m\u001b[0;34m\u001b[0m\u001b[0m\n\u001b[0;32m----> 2\u001b[0;31m \u001b[0mx_train\u001b[0m\u001b[0;34m,\u001b[0m \u001b[0mx_test\u001b[0m\u001b[0;34m,\u001b[0m \u001b[0my_train\u001b[0m\u001b[0;34m,\u001b[0m \u001b[0my_test\u001b[0m \u001b[0;34m=\u001b[0m \u001b[0mtrain_test_split\u001b[0m\u001b[0;34m(\u001b[0m\u001b[0mmodelE\u001b[0m\u001b[0;34m.\u001b[0m\u001b[0mwv\u001b[0m\u001b[0;34m.\u001b[0m\u001b[0mvectors\u001b[0m\u001b[0;34m,\u001b[0m \u001b[0my\u001b[0m\u001b[0;34m,\u001b[0m \u001b[0mtest_size\u001b[0m \u001b[0;34m=\u001b[0m \u001b[0;36m0.15\u001b[0m\u001b[0;34m,\u001b[0m \u001b[0mrandom_state\u001b[0m \u001b[0;34m=\u001b[0m \u001b[0;36m42\u001b[0m\u001b[0;34m)\u001b[0m\u001b[0;34m\u001b[0m\u001b[0;34m\u001b[0m\u001b[0m\n\u001b[0m\u001b[1;32m      3\u001b[0m \u001b[0;34m\u001b[0m\u001b[0m\n\u001b[1;32m      4\u001b[0m \u001b[0my_train\u001b[0m \u001b[0;34m=\u001b[0m \u001b[0mnp\u001b[0m\u001b[0;34m.\u001b[0m\u001b[0masarray\u001b[0m\u001b[0;34m(\u001b[0m\u001b[0my_train\u001b[0m\u001b[0;34m)\u001b[0m\u001b[0;34m.\u001b[0m\u001b[0mastype\u001b[0m\u001b[0;34m(\u001b[0m\u001b[0;34m'float32'\u001b[0m\u001b[0;34m)\u001b[0m\u001b[0;34m.\u001b[0m\u001b[0mreshape\u001b[0m\u001b[0;34m(\u001b[0m\u001b[0;34m(\u001b[0m\u001b[0;34m-\u001b[0m\u001b[0;36m1\u001b[0m\u001b[0;34m,\u001b[0m\u001b[0;36m1\u001b[0m\u001b[0;34m)\u001b[0m\u001b[0;34m)\u001b[0m\u001b[0;34m\u001b[0m\u001b[0;34m\u001b[0m\u001b[0m\n\u001b[1;32m      5\u001b[0m \u001b[0my_test\u001b[0m \u001b[0;34m=\u001b[0m \u001b[0mnp\u001b[0m\u001b[0;34m.\u001b[0m\u001b[0masarray\u001b[0m\u001b[0;34m(\u001b[0m\u001b[0my_test\u001b[0m\u001b[0;34m)\u001b[0m\u001b[0;34m.\u001b[0m\u001b[0mastype\u001b[0m\u001b[0;34m(\u001b[0m\u001b[0;34m'float32'\u001b[0m\u001b[0;34m)\u001b[0m\u001b[0;34m.\u001b[0m\u001b[0mreshape\u001b[0m\u001b[0;34m(\u001b[0m\u001b[0;34m(\u001b[0m\u001b[0;34m-\u001b[0m\u001b[0;36m1\u001b[0m\u001b[0;34m,\u001b[0m\u001b[0;36m1\u001b[0m\u001b[0;34m)\u001b[0m\u001b[0;34m)\u001b[0m\u001b[0;34m\u001b[0m\u001b[0;34m\u001b[0m\u001b[0m\n",
            "\u001b[0;32m/usr/local/lib/python3.7/dist-packages/sklearn/model_selection/_split.py\u001b[0m in \u001b[0;36mtrain_test_split\u001b[0;34m(test_size, train_size, random_state, shuffle, stratify, *arrays)\u001b[0m\n\u001b[1;32m   2415\u001b[0m         \u001b[0;32mraise\u001b[0m \u001b[0mValueError\u001b[0m\u001b[0;34m(\u001b[0m\u001b[0;34m\"At least one array required as input\"\u001b[0m\u001b[0;34m)\u001b[0m\u001b[0;34m\u001b[0m\u001b[0;34m\u001b[0m\u001b[0m\n\u001b[1;32m   2416\u001b[0m \u001b[0;34m\u001b[0m\u001b[0m\n\u001b[0;32m-> 2417\u001b[0;31m     \u001b[0marrays\u001b[0m \u001b[0;34m=\u001b[0m \u001b[0mindexable\u001b[0m\u001b[0;34m(\u001b[0m\u001b[0;34m*\u001b[0m\u001b[0marrays\u001b[0m\u001b[0;34m)\u001b[0m\u001b[0;34m\u001b[0m\u001b[0;34m\u001b[0m\u001b[0m\n\u001b[0m\u001b[1;32m   2418\u001b[0m \u001b[0;34m\u001b[0m\u001b[0m\n\u001b[1;32m   2419\u001b[0m     \u001b[0mn_samples\u001b[0m \u001b[0;34m=\u001b[0m \u001b[0m_num_samples\u001b[0m\u001b[0;34m(\u001b[0m\u001b[0marrays\u001b[0m\u001b[0;34m[\u001b[0m\u001b[0;36m0\u001b[0m\u001b[0;34m]\u001b[0m\u001b[0;34m)\u001b[0m\u001b[0;34m\u001b[0m\u001b[0;34m\u001b[0m\u001b[0m\n",
            "\u001b[0;32m/usr/local/lib/python3.7/dist-packages/sklearn/utils/validation.py\u001b[0m in \u001b[0;36mindexable\u001b[0;34m(*iterables)\u001b[0m\n\u001b[1;32m    376\u001b[0m \u001b[0;34m\u001b[0m\u001b[0m\n\u001b[1;32m    377\u001b[0m     \u001b[0mresult\u001b[0m \u001b[0;34m=\u001b[0m \u001b[0;34m[\u001b[0m\u001b[0m_make_indexable\u001b[0m\u001b[0;34m(\u001b[0m\u001b[0mX\u001b[0m\u001b[0;34m)\u001b[0m \u001b[0;32mfor\u001b[0m \u001b[0mX\u001b[0m \u001b[0;32min\u001b[0m \u001b[0miterables\u001b[0m\u001b[0;34m]\u001b[0m\u001b[0;34m\u001b[0m\u001b[0;34m\u001b[0m\u001b[0m\n\u001b[0;32m--> 378\u001b[0;31m     \u001b[0mcheck_consistent_length\u001b[0m\u001b[0;34m(\u001b[0m\u001b[0;34m*\u001b[0m\u001b[0mresult\u001b[0m\u001b[0;34m)\u001b[0m\u001b[0;34m\u001b[0m\u001b[0;34m\u001b[0m\u001b[0m\n\u001b[0m\u001b[1;32m    379\u001b[0m     \u001b[0;32mreturn\u001b[0m \u001b[0mresult\u001b[0m\u001b[0;34m\u001b[0m\u001b[0;34m\u001b[0m\u001b[0m\n\u001b[1;32m    380\u001b[0m \u001b[0;34m\u001b[0m\u001b[0m\n",
            "\u001b[0;32m/usr/local/lib/python3.7/dist-packages/sklearn/utils/validation.py\u001b[0m in \u001b[0;36mcheck_consistent_length\u001b[0;34m(*arrays)\u001b[0m\n\u001b[1;32m    332\u001b[0m         raise ValueError(\n\u001b[1;32m    333\u001b[0m             \u001b[0;34m\"Found input variables with inconsistent numbers of samples: %r\"\u001b[0m\u001b[0;34m\u001b[0m\u001b[0;34m\u001b[0m\u001b[0m\n\u001b[0;32m--> 334\u001b[0;31m             \u001b[0;34m%\u001b[0m \u001b[0;34m[\u001b[0m\u001b[0mint\u001b[0m\u001b[0;34m(\u001b[0m\u001b[0ml\u001b[0m\u001b[0;34m)\u001b[0m \u001b[0;32mfor\u001b[0m \u001b[0ml\u001b[0m \u001b[0;32min\u001b[0m \u001b[0mlengths\u001b[0m\u001b[0;34m]\u001b[0m\u001b[0;34m\u001b[0m\u001b[0;34m\u001b[0m\u001b[0m\n\u001b[0m\u001b[1;32m    335\u001b[0m         )\n\u001b[1;32m    336\u001b[0m \u001b[0;34m\u001b[0m\u001b[0m\n",
            "\u001b[0;31mValueError\u001b[0m: Found input variables with inconsistent numbers of samples: [37890, 31962]"
          ]
        }
      ],
      "source": [
        "#divide in train-test split\n",
        "x_train, x_test, y_train, y_test = train_test_split(modelE.wv.vectors, y, test_size = 0.15, random_state = 42)\n",
        "\n",
        "y_train = np.asarray(y_train).astype('float32').reshape((-1,1))\n",
        "y_test = np.asarray(y_test).astype('float32').reshape((-1,1))"
      ]
    },
    {
      "cell_type": "code",
      "execution_count": null,
      "id": "392b853b",
      "metadata": {
        "colab": {
          "base_uri": "https://localhost:8080/"
        },
        "id": "392b853b",
        "outputId": "13b9fa60-a23f-4422-faec-962b5f7c82f1"
      },
      "outputs": [
        {
          "output_type": "stream",
          "name": "stdout",
          "text": [
            "Epoch 1/10\n",
            "849/849 [==============================] - 150s 174ms/step - loss: 0.1759 - accuracy: 0.0705 - val_loss: 0.1409 - val_accuracy: 0.0682\n",
            "Epoch 2/10\n",
            "849/849 [==============================] - 148s 174ms/step - loss: 0.1259 - accuracy: 0.0705 - val_loss: 0.1427 - val_accuracy: 0.0682\n",
            "Epoch 3/10\n",
            "849/849 [==============================] - 149s 176ms/step - loss: 0.1096 - accuracy: 0.0705 - val_loss: 0.1404 - val_accuracy: 0.0682\n",
            "Epoch 4/10\n",
            "849/849 [==============================] - 146s 173ms/step - loss: 0.0967 - accuracy: 0.0705 - val_loss: 0.1500 - val_accuracy: 0.0682\n",
            "Epoch 5/10\n",
            "849/849 [==============================] - 149s 176ms/step - loss: 0.0838 - accuracy: 0.0705 - val_loss: 0.1658 - val_accuracy: 0.0682\n",
            "Epoch 6/10\n",
            "849/849 [==============================] - 146s 172ms/step - loss: 0.0737 - accuracy: 0.0705 - val_loss: 0.1696 - val_accuracy: 0.0682\n",
            "Epoch 7/10\n",
            "849/849 [==============================] - 149s 175ms/step - loss: 0.0634 - accuracy: 0.0705 - val_loss: 0.1934 - val_accuracy: 0.0682\n",
            "Epoch 8/10\n",
            "849/849 [==============================] - 150s 176ms/step - loss: 0.0548 - accuracy: 0.0705 - val_loss: 0.2220 - val_accuracy: 0.0682\n",
            "Epoch 9/10\n",
            "849/849 [==============================] - 146s 172ms/step - loss: 0.0472 - accuracy: 0.0705 - val_loss: 0.2335 - val_accuracy: 0.0682\n",
            "Epoch 10/10\n",
            "849/849 [==============================] - 150s 177ms/step - loss: 0.0411 - accuracy: 0.0705 - val_loss: 0.2592 - val_accuracy: 0.0682\n"
          ]
        },
        {
          "output_type": "execute_result",
          "data": {
            "text/plain": [
              "<keras.callbacks.History at 0x7fe73e5d0d50>"
            ]
          },
          "metadata": {},
          "execution_count": 12
        }
      ],
      "source": [
        "#train the model\n",
        "model.fit(x_train, y_train, validation_data = (x_test, y_test), epochs = 10, batch_size = 32)"
      ]
    },
    {
      "cell_type": "code",
      "execution_count": null,
      "id": "29b8719a",
      "metadata": {
        "colab": {
          "base_uri": "https://localhost:8080/"
        },
        "id": "29b8719a",
        "outputId": "053f34e5-cc0f-4ec0-fa93-ab76f465ca21"
      },
      "outputs": [
        {
          "output_type": "stream",
          "name": "stdout",
          "text": [
            "150/150 [==============================] - 5s 33ms/step - loss: 0.2592 - accuracy: 0.0682\n"
          ]
        },
        {
          "output_type": "execute_result",
          "data": {
            "text/plain": [
              "[0.25923290848731995, 0.06819603592157364]"
            ]
          },
          "metadata": {},
          "execution_count": 13
        }
      ],
      "source": [
        "model.evaluate(x_test,y_test)\n",
        "\n"
      ]
    },
    {
      "cell_type": "code",
      "source": [
        "predict_x=model.predict(x_test[1:4]) \n",
        "classes_x=np.argmax(predict_x,axis=1)\n",
        "\n",
        "text = tokenizer.sequences_to_texts(x_test[1:4])\n",
        "\n",
        "# for i in text :\n",
        "#   print(i, end='\\n')\n",
        "\n",
        "print(\"dataset\", text)\n",
        "\n",
        "print(\"Prediction: \",classes_x)\n",
        "\n",
        "print(\"Actual: \\n\",y_test[1:4])"
      ],
      "metadata": {
        "colab": {
          "base_uri": "https://localhost:8080/"
        },
        "id": "JtIkGz_D8UC3",
        "outputId": "fc0fc10b-c06c-4195-cd54-039bcf18de36"
      },
      "id": "JtIkGz_D8UC3",
      "execution_count": null,
      "outputs": [
        {
          "output_type": "stream",
          "name": "stdout",
          "text": [
            "1/1 [==============================] - 0s 330ms/step\n",
            "dataset ['in 3 days i will be meeting my on our first lifestyle vacation', 'the using this tragedy as a way of not in my name you orlando', 'if this doesnt friday']\n",
            "Prediction:  [0 0 0]\n",
            "Actual: \n",
            " [[0.]\n",
            " [0.]\n",
            " [0.]]\n"
          ]
        }
      ]
    },
    {
      "cell_type": "code",
      "source": [],
      "metadata": {
        "id": "bMvHxQ439sBJ"
      },
      "id": "bMvHxQ439sBJ",
      "execution_count": null,
      "outputs": []
    }
  ],
  "metadata": {
    "kernelspec": {
      "display_name": "Python 3 (ipykernel)",
      "language": "python",
      "name": "python3"
    },
    "language_info": {
      "codemirror_mode": {
        "name": "ipython",
        "version": 3
      },
      "file_extension": ".py",
      "mimetype": "text/x-python",
      "name": "python",
      "nbconvert_exporter": "python",
      "pygments_lexer": "ipython3",
      "version": "3.8.10"
    },
    "colab": {
      "provenance": [],
      "include_colab_link": true
    }
  },
  "nbformat": 4,
  "nbformat_minor": 5
}