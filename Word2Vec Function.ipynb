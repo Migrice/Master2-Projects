{
 "cells": [
  {
   "cell_type": "code",
   "execution_count": 1,
   "id": "190055ef",
   "metadata": {},
   "outputs": [],
   "source": [
    "#load librairies\n",
    "\n",
    "import pandas as pd\n",
    "import numpy as np\n",
    "import gensim\n",
    "from gensim.models import Word2Vec, KeyedVectors"
   ]
  },
  {
   "cell_type": "code",
   "execution_count": 2,
   "id": "f07ff8b2",
   "metadata": {},
   "outputs": [
    {
     "data": {
      "text/html": [
       "<div>\n",
       "<style scoped>\n",
       "    .dataframe tbody tr th:only-of-type {\n",
       "        vertical-align: middle;\n",
       "    }\n",
       "\n",
       "    .dataframe tbody tr th {\n",
       "        vertical-align: top;\n",
       "    }\n",
       "\n",
       "    .dataframe thead th {\n",
       "        text-align: right;\n",
       "    }\n",
       "</style>\n",
       "<table border=\"1\" class=\"dataframe\">\n",
       "  <thead>\n",
       "    <tr style=\"text-align: right;\">\n",
       "      <th></th>\n",
       "      <th>id</th>\n",
       "      <th>label</th>\n",
       "      <th>tweet</th>\n",
       "    </tr>\n",
       "  </thead>\n",
       "  <tbody>\n",
       "    <tr>\n",
       "      <th>0</th>\n",
       "      <td>1</td>\n",
       "      <td>0</td>\n",
       "      <td>@user when a father is dysfunctional and is s...</td>\n",
       "    </tr>\n",
       "    <tr>\n",
       "      <th>1</th>\n",
       "      <td>2</td>\n",
       "      <td>0</td>\n",
       "      <td>@user @user thanks for #lyft credit i can't us...</td>\n",
       "    </tr>\n",
       "    <tr>\n",
       "      <th>2</th>\n",
       "      <td>3</td>\n",
       "      <td>0</td>\n",
       "      <td>bihday your majesty</td>\n",
       "    </tr>\n",
       "    <tr>\n",
       "      <th>3</th>\n",
       "      <td>4</td>\n",
       "      <td>0</td>\n",
       "      <td>#model   i love u take with u all the time in ...</td>\n",
       "    </tr>\n",
       "    <tr>\n",
       "      <th>4</th>\n",
       "      <td>5</td>\n",
       "      <td>0</td>\n",
       "      <td>factsguide: society now    #motivation</td>\n",
       "    </tr>\n",
       "  </tbody>\n",
       "</table>\n",
       "</div>"
      ],
      "text/plain": [
       "   id  label                                              tweet\n",
       "0   1      0   @user when a father is dysfunctional and is s...\n",
       "1   2      0  @user @user thanks for #lyft credit i can't us...\n",
       "2   3      0                                bihday your majesty\n",
       "3   4      0  #model   i love u take with u all the time in ...\n",
       "4   5      0             factsguide: society now    #motivation"
      ]
     },
     "execution_count": 2,
     "metadata": {},
     "output_type": "execute_result"
    }
   ],
   "source": [
    "#load datas\n",
    "df = pd.read_csv(\"Twitter Sentiments.csv\")\n",
    "df.head()"
   ]
  },
  {
   "cell_type": "code",
   "execution_count": 3,
   "id": "b5ca6511",
   "metadata": {},
   "outputs": [],
   "source": [
    "#load pre-trained word embedding\n",
    "model = KeyedVectors.load_word2vec_format('GoogleNews-vectors-negative300.bin.gz', binary=True, limit=100000)"
   ]
  },
  {
   "cell_type": "code",
   "execution_count": 22,
   "id": "749461a1",
   "metadata": {},
   "outputs": [
    {
     "data": {
      "text/plain": [
       "[('chemical', 0.7921848893165588),\n",
       " ('toxic_chemicals', 0.7350238561630249),\n",
       " ('toxic_substances', 0.6990134119987488),\n",
       " ('substances', 0.6987269520759583),\n",
       " ('solvents', 0.6921387910842896),\n",
       " ('hazardous_chemicals', 0.6881507039070129),\n",
       " ('pesticides', 0.6866018772125244),\n",
       " ('chemical_compounds', 0.6622983813285828),\n",
       " ('toxins', 0.6608934998512268),\n",
       " ('harmful_chemicals', 0.6476496458053589)]"
      ]
     },
     "execution_count": 22,
     "metadata": {},
     "output_type": "execute_result"
    }
   ],
   "source": [
    "#view similarity\n",
    "model.most_similar('chemicals')"
   ]
  },
  {
   "cell_type": "code",
   "execution_count": 13,
   "id": "45f811f8",
   "metadata": {},
   "outputs": [],
   "source": [
    "# text to use as input \n",
    "text = \"As we all know, essential oils are not made chemicals\""
   ]
  },
  {
   "cell_type": "code",
   "execution_count": 17,
   "id": "cf44b488",
   "metadata": {},
   "outputs": [
    {
     "name": "stdout",
     "output_type": "stream",
     "text": [
      "['as', 'we', 'all', 'know', 'essential', 'oils', 'are', 'not', 'made', 'chemicals']\n"
     ]
    }
   ],
   "source": [
    "#preprocess the text\n",
    "preprocess_text = gensim.utils.simple_preprocess(text)\n",
    "print(preprocess_text)"
   ]
  },
  {
   "cell_type": "code",
   "execution_count": 18,
   "id": "17036e15",
   "metadata": {},
   "outputs": [],
   "source": [
    "# apply embedding to each word of the sentence\n",
    "sentence_embedding = []\n",
    "for word in preprocess_text:\n",
    "    sentence_embedding.append(model[word])\n",
    "    \n",
    "\n",
    "    "
   ]
  },
  {
   "cell_type": "code",
   "execution_count": 19,
   "id": "fc262e67",
   "metadata": {},
   "outputs": [],
   "source": [
    "#define the function which takes as input the sentence and the model and return sentence embedding\n",
    "def SentenceEmbedding(sentence, model) :\n",
    "    \n",
    "    #preprocess the text\n",
    "    preprocess_text = gensim.utils.simple_preprocess(sentence)\n",
    "    \n",
    "    sentence_embedding = []\n",
    "    for word in preprocess_text:\n",
    "        sentence_embedding.append(model[word])\n",
    "  \n",
    "    return sentence_embedding\n",
    "    "
   ]
  },
  {
   "cell_type": "code",
   "execution_count": 21,
   "id": "a12bc362",
   "metadata": {},
   "outputs": [],
   "source": [
    "#call the function\n",
    "rep = SentenceEmbedding(text, model)"
   ]
  },
  {
   "cell_type": "code",
   "execution_count": 30,
   "id": "a7e2bce6",
   "metadata": {},
   "outputs": [],
   "source": [
    "#dataset embedding\n",
    "def Dataset_embedding (dataset, model):\n",
    "    dataset_embedding = []\n",
    "    for sentence in df[\"tweet\"] :\n",
    "        dataset_embedding.append(SentenceEmbedding(sentence, model)) \n",
    "        \n",
    "    return dataset_embedding"
   ]
  },
  {
   "cell_type": "code",
   "execution_count": null,
   "id": "93b6ae5b",
   "metadata": {},
   "outputs": [],
   "source": [
    "dataset = Dataset_embedding(df[\"tweet\"], model)"
   ]
  }
 ],
 "metadata": {
  "kernelspec": {
   "display_name": "Python 3 (ipykernel)",
   "language": "python",
   "name": "python3"
  },
  "language_info": {
   "codemirror_mode": {
    "name": "ipython",
    "version": 3
   },
   "file_extension": ".py",
   "mimetype": "text/x-python",
   "name": "python",
   "nbconvert_exporter": "python",
   "pygments_lexer": "ipython3",
   "version": "3.8.10"
  }
 },
 "nbformat": 4,
 "nbformat_minor": 5
}
