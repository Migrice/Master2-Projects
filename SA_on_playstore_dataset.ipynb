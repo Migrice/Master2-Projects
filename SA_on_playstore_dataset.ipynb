{
  "nbformat": 4,
  "nbformat_minor": 0,
  "metadata": {
    "colab": {
      "provenance": [],
      "authorship_tag": "ABX9TyPdr+VLcwot9Eb3990Q7oqN",
      "include_colab_link": true
    },
    "kernelspec": {
      "name": "python3",
      "display_name": "Python 3"
    },
    "language_info": {
      "name": "python"
    },
    "accelerator": "GPU",
    "gpuClass": "standard",
    "widgets": {
      "application/vnd.jupyter.widget-state+json": {
        "27e2d10a5692422d9e335c9e0e1255f1": {
          "model_module": "@jupyter-widgets/controls",
          "model_name": "HBoxModel",
          "model_module_version": "1.5.0",
          "state": {
            "_dom_classes": [],
            "_model_module": "@jupyter-widgets/controls",
            "_model_module_version": "1.5.0",
            "_model_name": "HBoxModel",
            "_view_count": null,
            "_view_module": "@jupyter-widgets/controls",
            "_view_module_version": "1.5.0",
            "_view_name": "HBoxView",
            "box_style": "",
            "children": [
              "IPY_MODEL_a76284247eef4265b4a10ff100e5708e",
              "IPY_MODEL_60d3f156059744deb04fffac247b5ba8",
              "IPY_MODEL_5669beb786b74424afd72e9032fafbbf"
            ],
            "layout": "IPY_MODEL_305fd07ea0d448db83c8adf23696b3e6"
          }
        },
        "a76284247eef4265b4a10ff100e5708e": {
          "model_module": "@jupyter-widgets/controls",
          "model_name": "HTMLModel",
          "model_module_version": "1.5.0",
          "state": {
            "_dom_classes": [],
            "_model_module": "@jupyter-widgets/controls",
            "_model_module_version": "1.5.0",
            "_model_name": "HTMLModel",
            "_view_count": null,
            "_view_module": "@jupyter-widgets/controls",
            "_view_module_version": "1.5.0",
            "_view_name": "HTMLView",
            "description": "",
            "description_tooltip": null,
            "layout": "IPY_MODEL_2444c2f920d34df0947dd869a132190c",
            "placeholder": "​",
            "style": "IPY_MODEL_b342eae75d9c468198ede6c7d266cc8d",
            "value": "Downloading: 100%"
          }
        },
        "60d3f156059744deb04fffac247b5ba8": {
          "model_module": "@jupyter-widgets/controls",
          "model_name": "FloatProgressModel",
          "model_module_version": "1.5.0",
          "state": {
            "_dom_classes": [],
            "_model_module": "@jupyter-widgets/controls",
            "_model_module_version": "1.5.0",
            "_model_name": "FloatProgressModel",
            "_view_count": null,
            "_view_module": "@jupyter-widgets/controls",
            "_view_module_version": "1.5.0",
            "_view_name": "ProgressView",
            "bar_style": "success",
            "description": "",
            "description_tooltip": null,
            "layout": "IPY_MODEL_db7f996cd7804f1ba0fc37fcceae62d1",
            "max": 213450,
            "min": 0,
            "orientation": "horizontal",
            "style": "IPY_MODEL_9e9e2d978be744af95b9883d2aefcf0e",
            "value": 213450
          }
        },
        "5669beb786b74424afd72e9032fafbbf": {
          "model_module": "@jupyter-widgets/controls",
          "model_name": "HTMLModel",
          "model_module_version": "1.5.0",
          "state": {
            "_dom_classes": [],
            "_model_module": "@jupyter-widgets/controls",
            "_model_module_version": "1.5.0",
            "_model_name": "HTMLModel",
            "_view_count": null,
            "_view_module": "@jupyter-widgets/controls",
            "_view_module_version": "1.5.0",
            "_view_name": "HTMLView",
            "description": "",
            "description_tooltip": null,
            "layout": "IPY_MODEL_9cd48464bf36494ba5e85faa78571eef",
            "placeholder": "​",
            "style": "IPY_MODEL_ace819a90965430a9c269988aa8af985",
            "value": " 213k/213k [00:00&lt;00:00, 208kB/s]"
          }
        },
        "305fd07ea0d448db83c8adf23696b3e6": {
          "model_module": "@jupyter-widgets/base",
          "model_name": "LayoutModel",
          "model_module_version": "1.2.0",
          "state": {
            "_model_module": "@jupyter-widgets/base",
            "_model_module_version": "1.2.0",
            "_model_name": "LayoutModel",
            "_view_count": null,
            "_view_module": "@jupyter-widgets/base",
            "_view_module_version": "1.2.0",
            "_view_name": "LayoutView",
            "align_content": null,
            "align_items": null,
            "align_self": null,
            "border": null,
            "bottom": null,
            "display": null,
            "flex": null,
            "flex_flow": null,
            "grid_area": null,
            "grid_auto_columns": null,
            "grid_auto_flow": null,
            "grid_auto_rows": null,
            "grid_column": null,
            "grid_gap": null,
            "grid_row": null,
            "grid_template_areas": null,
            "grid_template_columns": null,
            "grid_template_rows": null,
            "height": null,
            "justify_content": null,
            "justify_items": null,
            "left": null,
            "margin": null,
            "max_height": null,
            "max_width": null,
            "min_height": null,
            "min_width": null,
            "object_fit": null,
            "object_position": null,
            "order": null,
            "overflow": null,
            "overflow_x": null,
            "overflow_y": null,
            "padding": null,
            "right": null,
            "top": null,
            "visibility": null,
            "width": null
          }
        },
        "2444c2f920d34df0947dd869a132190c": {
          "model_module": "@jupyter-widgets/base",
          "model_name": "LayoutModel",
          "model_module_version": "1.2.0",
          "state": {
            "_model_module": "@jupyter-widgets/base",
            "_model_module_version": "1.2.0",
            "_model_name": "LayoutModel",
            "_view_count": null,
            "_view_module": "@jupyter-widgets/base",
            "_view_module_version": "1.2.0",
            "_view_name": "LayoutView",
            "align_content": null,
            "align_items": null,
            "align_self": null,
            "border": null,
            "bottom": null,
            "display": null,
            "flex": null,
            "flex_flow": null,
            "grid_area": null,
            "grid_auto_columns": null,
            "grid_auto_flow": null,
            "grid_auto_rows": null,
            "grid_column": null,
            "grid_gap": null,
            "grid_row": null,
            "grid_template_areas": null,
            "grid_template_columns": null,
            "grid_template_rows": null,
            "height": null,
            "justify_content": null,
            "justify_items": null,
            "left": null,
            "margin": null,
            "max_height": null,
            "max_width": null,
            "min_height": null,
            "min_width": null,
            "object_fit": null,
            "object_position": null,
            "order": null,
            "overflow": null,
            "overflow_x": null,
            "overflow_y": null,
            "padding": null,
            "right": null,
            "top": null,
            "visibility": null,
            "width": null
          }
        },
        "b342eae75d9c468198ede6c7d266cc8d": {
          "model_module": "@jupyter-widgets/controls",
          "model_name": "DescriptionStyleModel",
          "model_module_version": "1.5.0",
          "state": {
            "_model_module": "@jupyter-widgets/controls",
            "_model_module_version": "1.5.0",
            "_model_name": "DescriptionStyleModel",
            "_view_count": null,
            "_view_module": "@jupyter-widgets/base",
            "_view_module_version": "1.2.0",
            "_view_name": "StyleView",
            "description_width": ""
          }
        },
        "db7f996cd7804f1ba0fc37fcceae62d1": {
          "model_module": "@jupyter-widgets/base",
          "model_name": "LayoutModel",
          "model_module_version": "1.2.0",
          "state": {
            "_model_module": "@jupyter-widgets/base",
            "_model_module_version": "1.2.0",
            "_model_name": "LayoutModel",
            "_view_count": null,
            "_view_module": "@jupyter-widgets/base",
            "_view_module_version": "1.2.0",
            "_view_name": "LayoutView",
            "align_content": null,
            "align_items": null,
            "align_self": null,
            "border": null,
            "bottom": null,
            "display": null,
            "flex": null,
            "flex_flow": null,
            "grid_area": null,
            "grid_auto_columns": null,
            "grid_auto_flow": null,
            "grid_auto_rows": null,
            "grid_column": null,
            "grid_gap": null,
            "grid_row": null,
            "grid_template_areas": null,
            "grid_template_columns": null,
            "grid_template_rows": null,
            "height": null,
            "justify_content": null,
            "justify_items": null,
            "left": null,
            "margin": null,
            "max_height": null,
            "max_width": null,
            "min_height": null,
            "min_width": null,
            "object_fit": null,
            "object_position": null,
            "order": null,
            "overflow": null,
            "overflow_x": null,
            "overflow_y": null,
            "padding": null,
            "right": null,
            "top": null,
            "visibility": null,
            "width": null
          }
        },
        "9e9e2d978be744af95b9883d2aefcf0e": {
          "model_module": "@jupyter-widgets/controls",
          "model_name": "ProgressStyleModel",
          "model_module_version": "1.5.0",
          "state": {
            "_model_module": "@jupyter-widgets/controls",
            "_model_module_version": "1.5.0",
            "_model_name": "ProgressStyleModel",
            "_view_count": null,
            "_view_module": "@jupyter-widgets/base",
            "_view_module_version": "1.2.0",
            "_view_name": "StyleView",
            "bar_color": null,
            "description_width": ""
          }
        },
        "9cd48464bf36494ba5e85faa78571eef": {
          "model_module": "@jupyter-widgets/base",
          "model_name": "LayoutModel",
          "model_module_version": "1.2.0",
          "state": {
            "_model_module": "@jupyter-widgets/base",
            "_model_module_version": "1.2.0",
            "_model_name": "LayoutModel",
            "_view_count": null,
            "_view_module": "@jupyter-widgets/base",
            "_view_module_version": "1.2.0",
            "_view_name": "LayoutView",
            "align_content": null,
            "align_items": null,
            "align_self": null,
            "border": null,
            "bottom": null,
            "display": null,
            "flex": null,
            "flex_flow": null,
            "grid_area": null,
            "grid_auto_columns": null,
            "grid_auto_flow": null,
            "grid_auto_rows": null,
            "grid_column": null,
            "grid_gap": null,
            "grid_row": null,
            "grid_template_areas": null,
            "grid_template_columns": null,
            "grid_template_rows": null,
            "height": null,
            "justify_content": null,
            "justify_items": null,
            "left": null,
            "margin": null,
            "max_height": null,
            "max_width": null,
            "min_height": null,
            "min_width": null,
            "object_fit": null,
            "object_position": null,
            "order": null,
            "overflow": null,
            "overflow_x": null,
            "overflow_y": null,
            "padding": null,
            "right": null,
            "top": null,
            "visibility": null,
            "width": null
          }
        },
        "ace819a90965430a9c269988aa8af985": {
          "model_module": "@jupyter-widgets/controls",
          "model_name": "DescriptionStyleModel",
          "model_module_version": "1.5.0",
          "state": {
            "_model_module": "@jupyter-widgets/controls",
            "_model_module_version": "1.5.0",
            "_model_name": "DescriptionStyleModel",
            "_view_count": null,
            "_view_module": "@jupyter-widgets/base",
            "_view_module_version": "1.2.0",
            "_view_name": "StyleView",
            "description_width": ""
          }
        },
        "e75c715494af47ba82bde7b3ec84728c": {
          "model_module": "@jupyter-widgets/controls",
          "model_name": "HBoxModel",
          "model_module_version": "1.5.0",
          "state": {
            "_dom_classes": [],
            "_model_module": "@jupyter-widgets/controls",
            "_model_module_version": "1.5.0",
            "_model_name": "HBoxModel",
            "_view_count": null,
            "_view_module": "@jupyter-widgets/controls",
            "_view_module_version": "1.5.0",
            "_view_name": "HBoxView",
            "box_style": "",
            "children": [
              "IPY_MODEL_4775b3cca81d42e3beee256a90490e7a",
              "IPY_MODEL_6d17caadcbf8414ea17ce909134e40dc",
              "IPY_MODEL_9d96f51aa2d545e3ad25b1bd17a76ef1"
            ],
            "layout": "IPY_MODEL_0076940c212345c58c634f5f7ecc22f2"
          }
        },
        "4775b3cca81d42e3beee256a90490e7a": {
          "model_module": "@jupyter-widgets/controls",
          "model_name": "HTMLModel",
          "model_module_version": "1.5.0",
          "state": {
            "_dom_classes": [],
            "_model_module": "@jupyter-widgets/controls",
            "_model_module_version": "1.5.0",
            "_model_name": "HTMLModel",
            "_view_count": null,
            "_view_module": "@jupyter-widgets/controls",
            "_view_module_version": "1.5.0",
            "_view_name": "HTMLView",
            "description": "",
            "description_tooltip": null,
            "layout": "IPY_MODEL_f8580f9dc54d453b9763ca5c509024c7",
            "placeholder": "​",
            "style": "IPY_MODEL_95543a711bfb46b8b8584f7fc0dd437f",
            "value": "Downloading: 100%"
          }
        },
        "6d17caadcbf8414ea17ce909134e40dc": {
          "model_module": "@jupyter-widgets/controls",
          "model_name": "FloatProgressModel",
          "model_module_version": "1.5.0",
          "state": {
            "_dom_classes": [],
            "_model_module": "@jupyter-widgets/controls",
            "_model_module_version": "1.5.0",
            "_model_name": "FloatProgressModel",
            "_view_count": null,
            "_view_module": "@jupyter-widgets/controls",
            "_view_module_version": "1.5.0",
            "_view_name": "ProgressView",
            "bar_style": "success",
            "description": "",
            "description_tooltip": null,
            "layout": "IPY_MODEL_82ad3d89a49341bfb8a3b4de33e12328",
            "max": 433,
            "min": 0,
            "orientation": "horizontal",
            "style": "IPY_MODEL_9cb9ae5f220a4f4e9852c5c57b3f0d76",
            "value": 433
          }
        },
        "9d96f51aa2d545e3ad25b1bd17a76ef1": {
          "model_module": "@jupyter-widgets/controls",
          "model_name": "HTMLModel",
          "model_module_version": "1.5.0",
          "state": {
            "_dom_classes": [],
            "_model_module": "@jupyter-widgets/controls",
            "_model_module_version": "1.5.0",
            "_model_name": "HTMLModel",
            "_view_count": null,
            "_view_module": "@jupyter-widgets/controls",
            "_view_module_version": "1.5.0",
            "_view_name": "HTMLView",
            "description": "",
            "description_tooltip": null,
            "layout": "IPY_MODEL_d2e19f4571924a1cb772f1bc6cc65878",
            "placeholder": "​",
            "style": "IPY_MODEL_c32ed903496346bca94b742e3b0a45e4",
            "value": " 433/433 [00:00&lt;00:00, 10.8kB/s]"
          }
        },
        "0076940c212345c58c634f5f7ecc22f2": {
          "model_module": "@jupyter-widgets/base",
          "model_name": "LayoutModel",
          "model_module_version": "1.2.0",
          "state": {
            "_model_module": "@jupyter-widgets/base",
            "_model_module_version": "1.2.0",
            "_model_name": "LayoutModel",
            "_view_count": null,
            "_view_module": "@jupyter-widgets/base",
            "_view_module_version": "1.2.0",
            "_view_name": "LayoutView",
            "align_content": null,
            "align_items": null,
            "align_self": null,
            "border": null,
            "bottom": null,
            "display": null,
            "flex": null,
            "flex_flow": null,
            "grid_area": null,
            "grid_auto_columns": null,
            "grid_auto_flow": null,
            "grid_auto_rows": null,
            "grid_column": null,
            "grid_gap": null,
            "grid_row": null,
            "grid_template_areas": null,
            "grid_template_columns": null,
            "grid_template_rows": null,
            "height": null,
            "justify_content": null,
            "justify_items": null,
            "left": null,
            "margin": null,
            "max_height": null,
            "max_width": null,
            "min_height": null,
            "min_width": null,
            "object_fit": null,
            "object_position": null,
            "order": null,
            "overflow": null,
            "overflow_x": null,
            "overflow_y": null,
            "padding": null,
            "right": null,
            "top": null,
            "visibility": null,
            "width": null
          }
        },
        "f8580f9dc54d453b9763ca5c509024c7": {
          "model_module": "@jupyter-widgets/base",
          "model_name": "LayoutModel",
          "model_module_version": "1.2.0",
          "state": {
            "_model_module": "@jupyter-widgets/base",
            "_model_module_version": "1.2.0",
            "_model_name": "LayoutModel",
            "_view_count": null,
            "_view_module": "@jupyter-widgets/base",
            "_view_module_version": "1.2.0",
            "_view_name": "LayoutView",
            "align_content": null,
            "align_items": null,
            "align_self": null,
            "border": null,
            "bottom": null,
            "display": null,
            "flex": null,
            "flex_flow": null,
            "grid_area": null,
            "grid_auto_columns": null,
            "grid_auto_flow": null,
            "grid_auto_rows": null,
            "grid_column": null,
            "grid_gap": null,
            "grid_row": null,
            "grid_template_areas": null,
            "grid_template_columns": null,
            "grid_template_rows": null,
            "height": null,
            "justify_content": null,
            "justify_items": null,
            "left": null,
            "margin": null,
            "max_height": null,
            "max_width": null,
            "min_height": null,
            "min_width": null,
            "object_fit": null,
            "object_position": null,
            "order": null,
            "overflow": null,
            "overflow_x": null,
            "overflow_y": null,
            "padding": null,
            "right": null,
            "top": null,
            "visibility": null,
            "width": null
          }
        },
        "95543a711bfb46b8b8584f7fc0dd437f": {
          "model_module": "@jupyter-widgets/controls",
          "model_name": "DescriptionStyleModel",
          "model_module_version": "1.5.0",
          "state": {
            "_model_module": "@jupyter-widgets/controls",
            "_model_module_version": "1.5.0",
            "_model_name": "DescriptionStyleModel",
            "_view_count": null,
            "_view_module": "@jupyter-widgets/base",
            "_view_module_version": "1.2.0",
            "_view_name": "StyleView",
            "description_width": ""
          }
        },
        "82ad3d89a49341bfb8a3b4de33e12328": {
          "model_module": "@jupyter-widgets/base",
          "model_name": "LayoutModel",
          "model_module_version": "1.2.0",
          "state": {
            "_model_module": "@jupyter-widgets/base",
            "_model_module_version": "1.2.0",
            "_model_name": "LayoutModel",
            "_view_count": null,
            "_view_module": "@jupyter-widgets/base",
            "_view_module_version": "1.2.0",
            "_view_name": "LayoutView",
            "align_content": null,
            "align_items": null,
            "align_self": null,
            "border": null,
            "bottom": null,
            "display": null,
            "flex": null,
            "flex_flow": null,
            "grid_area": null,
            "grid_auto_columns": null,
            "grid_auto_flow": null,
            "grid_auto_rows": null,
            "grid_column": null,
            "grid_gap": null,
            "grid_row": null,
            "grid_template_areas": null,
            "grid_template_columns": null,
            "grid_template_rows": null,
            "height": null,
            "justify_content": null,
            "justify_items": null,
            "left": null,
            "margin": null,
            "max_height": null,
            "max_width": null,
            "min_height": null,
            "min_width": null,
            "object_fit": null,
            "object_position": null,
            "order": null,
            "overflow": null,
            "overflow_x": null,
            "overflow_y": null,
            "padding": null,
            "right": null,
            "top": null,
            "visibility": null,
            "width": null
          }
        },
        "9cb9ae5f220a4f4e9852c5c57b3f0d76": {
          "model_module": "@jupyter-widgets/controls",
          "model_name": "ProgressStyleModel",
          "model_module_version": "1.5.0",
          "state": {
            "_model_module": "@jupyter-widgets/controls",
            "_model_module_version": "1.5.0",
            "_model_name": "ProgressStyleModel",
            "_view_count": null,
            "_view_module": "@jupyter-widgets/base",
            "_view_module_version": "1.2.0",
            "_view_name": "StyleView",
            "bar_color": null,
            "description_width": ""
          }
        },
        "d2e19f4571924a1cb772f1bc6cc65878": {
          "model_module": "@jupyter-widgets/base",
          "model_name": "LayoutModel",
          "model_module_version": "1.2.0",
          "state": {
            "_model_module": "@jupyter-widgets/base",
            "_model_module_version": "1.2.0",
            "_model_name": "LayoutModel",
            "_view_count": null,
            "_view_module": "@jupyter-widgets/base",
            "_view_module_version": "1.2.0",
            "_view_name": "LayoutView",
            "align_content": null,
            "align_items": null,
            "align_self": null,
            "border": null,
            "bottom": null,
            "display": null,
            "flex": null,
            "flex_flow": null,
            "grid_area": null,
            "grid_auto_columns": null,
            "grid_auto_flow": null,
            "grid_auto_rows": null,
            "grid_column": null,
            "grid_gap": null,
            "grid_row": null,
            "grid_template_areas": null,
            "grid_template_columns": null,
            "grid_template_rows": null,
            "height": null,
            "justify_content": null,
            "justify_items": null,
            "left": null,
            "margin": null,
            "max_height": null,
            "max_width": null,
            "min_height": null,
            "min_width": null,
            "object_fit": null,
            "object_position": null,
            "order": null,
            "overflow": null,
            "overflow_x": null,
            "overflow_y": null,
            "padding": null,
            "right": null,
            "top": null,
            "visibility": null,
            "width": null
          }
        },
        "c32ed903496346bca94b742e3b0a45e4": {
          "model_module": "@jupyter-widgets/controls",
          "model_name": "DescriptionStyleModel",
          "model_module_version": "1.5.0",
          "state": {
            "_model_module": "@jupyter-widgets/controls",
            "_model_module_version": "1.5.0",
            "_model_name": "DescriptionStyleModel",
            "_view_count": null,
            "_view_module": "@jupyter-widgets/base",
            "_view_module_version": "1.2.0",
            "_view_name": "StyleView",
            "description_width": ""
          }
        },
        "baa5bc8545ac482aa91cc3932b965472": {
          "model_module": "@jupyter-widgets/controls",
          "model_name": "HBoxModel",
          "model_module_version": "1.5.0",
          "state": {
            "_dom_classes": [],
            "_model_module": "@jupyter-widgets/controls",
            "_model_module_version": "1.5.0",
            "_model_name": "HBoxModel",
            "_view_count": null,
            "_view_module": "@jupyter-widgets/controls",
            "_view_module_version": "1.5.0",
            "_view_name": "HBoxView",
            "box_style": "",
            "children": [
              "IPY_MODEL_2626497b388a4e43b31cd8a102fe5c06",
              "IPY_MODEL_a4a5614e0678444b93a4b6f2905ec651",
              "IPY_MODEL_5b3b68885e94407e8195c903fd325c42"
            ],
            "layout": "IPY_MODEL_8d7afd3c7fcd423ba9a026b34679277e"
          }
        },
        "2626497b388a4e43b31cd8a102fe5c06": {
          "model_module": "@jupyter-widgets/controls",
          "model_name": "HTMLModel",
          "model_module_version": "1.5.0",
          "state": {
            "_dom_classes": [],
            "_model_module": "@jupyter-widgets/controls",
            "_model_module_version": "1.5.0",
            "_model_name": "HTMLModel",
            "_view_count": null,
            "_view_module": "@jupyter-widgets/controls",
            "_view_module_version": "1.5.0",
            "_view_name": "HTMLView",
            "description": "",
            "description_tooltip": null,
            "layout": "IPY_MODEL_895b83f3d71a419eaf29b122843ac2b0",
            "placeholder": "​",
            "style": "IPY_MODEL_39f86f75c3054e9aaf1ee118c7170914",
            "value": "Downloading: 100%"
          }
        },
        "a4a5614e0678444b93a4b6f2905ec651": {
          "model_module": "@jupyter-widgets/controls",
          "model_name": "FloatProgressModel",
          "model_module_version": "1.5.0",
          "state": {
            "_dom_classes": [],
            "_model_module": "@jupyter-widgets/controls",
            "_model_module_version": "1.5.0",
            "_model_name": "FloatProgressModel",
            "_view_count": null,
            "_view_module": "@jupyter-widgets/controls",
            "_view_module_version": "1.5.0",
            "_view_name": "ProgressView",
            "bar_style": "success",
            "description": "",
            "description_tooltip": null,
            "layout": "IPY_MODEL_971a624c7dc0425c87b205178a9d52d9",
            "max": 435779157,
            "min": 0,
            "orientation": "horizontal",
            "style": "IPY_MODEL_1bc782dd9cd24dc7ae0907c9570b46c6",
            "value": 435779157
          }
        },
        "5b3b68885e94407e8195c903fd325c42": {
          "model_module": "@jupyter-widgets/controls",
          "model_name": "HTMLModel",
          "model_module_version": "1.5.0",
          "state": {
            "_dom_classes": [],
            "_model_module": "@jupyter-widgets/controls",
            "_model_module_version": "1.5.0",
            "_model_name": "HTMLModel",
            "_view_count": null,
            "_view_module": "@jupyter-widgets/controls",
            "_view_module_version": "1.5.0",
            "_view_name": "HTMLView",
            "description": "",
            "description_tooltip": null,
            "layout": "IPY_MODEL_edf3141a239b4ebfb6c17ac57d17e738",
            "placeholder": "​",
            "style": "IPY_MODEL_7290a366802a464da97a03da14738b03",
            "value": " 436M/436M [00:39&lt;00:00, 12.9MB/s]"
          }
        },
        "8d7afd3c7fcd423ba9a026b34679277e": {
          "model_module": "@jupyter-widgets/base",
          "model_name": "LayoutModel",
          "model_module_version": "1.2.0",
          "state": {
            "_model_module": "@jupyter-widgets/base",
            "_model_module_version": "1.2.0",
            "_model_name": "LayoutModel",
            "_view_count": null,
            "_view_module": "@jupyter-widgets/base",
            "_view_module_version": "1.2.0",
            "_view_name": "LayoutView",
            "align_content": null,
            "align_items": null,
            "align_self": null,
            "border": null,
            "bottom": null,
            "display": null,
            "flex": null,
            "flex_flow": null,
            "grid_area": null,
            "grid_auto_columns": null,
            "grid_auto_flow": null,
            "grid_auto_rows": null,
            "grid_column": null,
            "grid_gap": null,
            "grid_row": null,
            "grid_template_areas": null,
            "grid_template_columns": null,
            "grid_template_rows": null,
            "height": null,
            "justify_content": null,
            "justify_items": null,
            "left": null,
            "margin": null,
            "max_height": null,
            "max_width": null,
            "min_height": null,
            "min_width": null,
            "object_fit": null,
            "object_position": null,
            "order": null,
            "overflow": null,
            "overflow_x": null,
            "overflow_y": null,
            "padding": null,
            "right": null,
            "top": null,
            "visibility": null,
            "width": null
          }
        },
        "895b83f3d71a419eaf29b122843ac2b0": {
          "model_module": "@jupyter-widgets/base",
          "model_name": "LayoutModel",
          "model_module_version": "1.2.0",
          "state": {
            "_model_module": "@jupyter-widgets/base",
            "_model_module_version": "1.2.0",
            "_model_name": "LayoutModel",
            "_view_count": null,
            "_view_module": "@jupyter-widgets/base",
            "_view_module_version": "1.2.0",
            "_view_name": "LayoutView",
            "align_content": null,
            "align_items": null,
            "align_self": null,
            "border": null,
            "bottom": null,
            "display": null,
            "flex": null,
            "flex_flow": null,
            "grid_area": null,
            "grid_auto_columns": null,
            "grid_auto_flow": null,
            "grid_auto_rows": null,
            "grid_column": null,
            "grid_gap": null,
            "grid_row": null,
            "grid_template_areas": null,
            "grid_template_columns": null,
            "grid_template_rows": null,
            "height": null,
            "justify_content": null,
            "justify_items": null,
            "left": null,
            "margin": null,
            "max_height": null,
            "max_width": null,
            "min_height": null,
            "min_width": null,
            "object_fit": null,
            "object_position": null,
            "order": null,
            "overflow": null,
            "overflow_x": null,
            "overflow_y": null,
            "padding": null,
            "right": null,
            "top": null,
            "visibility": null,
            "width": null
          }
        },
        "39f86f75c3054e9aaf1ee118c7170914": {
          "model_module": "@jupyter-widgets/controls",
          "model_name": "DescriptionStyleModel",
          "model_module_version": "1.5.0",
          "state": {
            "_model_module": "@jupyter-widgets/controls",
            "_model_module_version": "1.5.0",
            "_model_name": "DescriptionStyleModel",
            "_view_count": null,
            "_view_module": "@jupyter-widgets/base",
            "_view_module_version": "1.2.0",
            "_view_name": "StyleView",
            "description_width": ""
          }
        },
        "971a624c7dc0425c87b205178a9d52d9": {
          "model_module": "@jupyter-widgets/base",
          "model_name": "LayoutModel",
          "model_module_version": "1.2.0",
          "state": {
            "_model_module": "@jupyter-widgets/base",
            "_model_module_version": "1.2.0",
            "_model_name": "LayoutModel",
            "_view_count": null,
            "_view_module": "@jupyter-widgets/base",
            "_view_module_version": "1.2.0",
            "_view_name": "LayoutView",
            "align_content": null,
            "align_items": null,
            "align_self": null,
            "border": null,
            "bottom": null,
            "display": null,
            "flex": null,
            "flex_flow": null,
            "grid_area": null,
            "grid_auto_columns": null,
            "grid_auto_flow": null,
            "grid_auto_rows": null,
            "grid_column": null,
            "grid_gap": null,
            "grid_row": null,
            "grid_template_areas": null,
            "grid_template_columns": null,
            "grid_template_rows": null,
            "height": null,
            "justify_content": null,
            "justify_items": null,
            "left": null,
            "margin": null,
            "max_height": null,
            "max_width": null,
            "min_height": null,
            "min_width": null,
            "object_fit": null,
            "object_position": null,
            "order": null,
            "overflow": null,
            "overflow_x": null,
            "overflow_y": null,
            "padding": null,
            "right": null,
            "top": null,
            "visibility": null,
            "width": null
          }
        },
        "1bc782dd9cd24dc7ae0907c9570b46c6": {
          "model_module": "@jupyter-widgets/controls",
          "model_name": "ProgressStyleModel",
          "model_module_version": "1.5.0",
          "state": {
            "_model_module": "@jupyter-widgets/controls",
            "_model_module_version": "1.5.0",
            "_model_name": "ProgressStyleModel",
            "_view_count": null,
            "_view_module": "@jupyter-widgets/base",
            "_view_module_version": "1.2.0",
            "_view_name": "StyleView",
            "bar_color": null,
            "description_width": ""
          }
        },
        "edf3141a239b4ebfb6c17ac57d17e738": {
          "model_module": "@jupyter-widgets/base",
          "model_name": "LayoutModel",
          "model_module_version": "1.2.0",
          "state": {
            "_model_module": "@jupyter-widgets/base",
            "_model_module_version": "1.2.0",
            "_model_name": "LayoutModel",
            "_view_count": null,
            "_view_module": "@jupyter-widgets/base",
            "_view_module_version": "1.2.0",
            "_view_name": "LayoutView",
            "align_content": null,
            "align_items": null,
            "align_self": null,
            "border": null,
            "bottom": null,
            "display": null,
            "flex": null,
            "flex_flow": null,
            "grid_area": null,
            "grid_auto_columns": null,
            "grid_auto_flow": null,
            "grid_auto_rows": null,
            "grid_column": null,
            "grid_gap": null,
            "grid_row": null,
            "grid_template_areas": null,
            "grid_template_columns": null,
            "grid_template_rows": null,
            "height": null,
            "justify_content": null,
            "justify_items": null,
            "left": null,
            "margin": null,
            "max_height": null,
            "max_width": null,
            "min_height": null,
            "min_width": null,
            "object_fit": null,
            "object_position": null,
            "order": null,
            "overflow": null,
            "overflow_x": null,
            "overflow_y": null,
            "padding": null,
            "right": null,
            "top": null,
            "visibility": null,
            "width": null
          }
        },
        "7290a366802a464da97a03da14738b03": {
          "model_module": "@jupyter-widgets/controls",
          "model_name": "DescriptionStyleModel",
          "model_module_version": "1.5.0",
          "state": {
            "_model_module": "@jupyter-widgets/controls",
            "_model_module_version": "1.5.0",
            "_model_name": "DescriptionStyleModel",
            "_view_count": null,
            "_view_module": "@jupyter-widgets/base",
            "_view_module_version": "1.2.0",
            "_view_name": "StyleView",
            "description_width": ""
          }
        }
      }
    }
  },
  "cells": [
    {
      "cell_type": "markdown",
      "metadata": {
        "id": "view-in-github",
        "colab_type": "text"
      },
      "source": [
        "<a href=\"https://colab.research.google.com/github/Migrice/Master2-Projects/blob/main/SA_on_playstore_dataset.ipynb\" target=\"_parent\"><img src=\"https://colab.research.google.com/assets/colab-badge.svg\" alt=\"Open In Colab\"/></a>"
      ]
    },
    {
      "cell_type": "code",
      "execution_count": null,
      "metadata": {
        "colab": {
          "base_uri": "https://localhost:8080/"
        },
        "id": "HoCn8di00WJz",
        "outputId": "4246817a-ae4c-4caa-c1d4-a0daa0406f76"
      },
      "outputs": [
        {
          "output_type": "stream",
          "name": "stdout",
          "text": [
            "Looking in indexes: https://pypi.org/simple, https://us-python.pkg.dev/colab-wheels/public/simple/\n",
            "Collecting transformers==2.8.0\n",
            "  Downloading transformers-2.8.0-py3-none-any.whl (563 kB)\n",
            "\u001b[K     |████████████████████████████████| 563 kB 33.4 MB/s \n",
            "\u001b[?25hRequirement already satisfied: requests in /usr/local/lib/python3.7/dist-packages (from transformers==2.8.0) (2.23.0)\n",
            "Requirement already satisfied: numpy in /usr/local/lib/python3.7/dist-packages (from transformers==2.8.0) (1.21.6)\n",
            "Requirement already satisfied: regex!=2019.12.17 in /usr/local/lib/python3.7/dist-packages (from transformers==2.8.0) (2022.6.2)\n",
            "Requirement already satisfied: filelock in /usr/local/lib/python3.7/dist-packages (from transformers==2.8.0) (3.8.0)\n",
            "Collecting boto3\n",
            "  Downloading boto3-1.26.15-py3-none-any.whl (132 kB)\n",
            "\u001b[K     |████████████████████████████████| 132 kB 61.4 MB/s \n",
            "\u001b[?25hCollecting sacremoses\n",
            "  Downloading sacremoses-0.0.53.tar.gz (880 kB)\n",
            "\u001b[K     |████████████████████████████████| 880 kB 53.2 MB/s \n",
            "\u001b[?25hRequirement already satisfied: tqdm>=4.27 in /usr/local/lib/python3.7/dist-packages (from transformers==2.8.0) (4.64.1)\n",
            "Collecting tokenizers==0.5.2\n",
            "  Downloading tokenizers-0.5.2-cp37-cp37m-manylinux1_x86_64.whl (5.6 MB)\n",
            "\u001b[K     |████████████████████████████████| 5.6 MB 16.2 MB/s \n",
            "\u001b[?25hCollecting sentencepiece\n",
            "  Downloading sentencepiece-0.1.97-cp37-cp37m-manylinux_2_17_x86_64.manylinux2014_x86_64.whl (1.3 MB)\n",
            "\u001b[K     |████████████████████████████████| 1.3 MB 53.2 MB/s \n",
            "\u001b[?25hCollecting jmespath<2.0.0,>=0.7.1\n",
            "  Downloading jmespath-1.0.1-py3-none-any.whl (20 kB)\n",
            "Collecting botocore<1.30.0,>=1.29.15\n",
            "  Downloading botocore-1.29.15-py3-none-any.whl (9.9 MB)\n",
            "\u001b[K     |████████████████████████████████| 9.9 MB 40.5 MB/s \n",
            "\u001b[?25hCollecting s3transfer<0.7.0,>=0.6.0\n",
            "  Downloading s3transfer-0.6.0-py3-none-any.whl (79 kB)\n",
            "\u001b[K     |████████████████████████████████| 79 kB 9.0 MB/s \n",
            "\u001b[?25hRequirement already satisfied: python-dateutil<3.0.0,>=2.1 in /usr/local/lib/python3.7/dist-packages (from botocore<1.30.0,>=1.29.15->boto3->transformers==2.8.0) (2.8.2)\n",
            "Collecting urllib3<1.27,>=1.25.4\n",
            "  Downloading urllib3-1.26.12-py2.py3-none-any.whl (140 kB)\n",
            "\u001b[K     |████████████████████████████████| 140 kB 59.0 MB/s \n",
            "\u001b[?25hRequirement already satisfied: six>=1.5 in /usr/local/lib/python3.7/dist-packages (from python-dateutil<3.0.0,>=2.1->botocore<1.30.0,>=1.29.15->boto3->transformers==2.8.0) (1.15.0)\n",
            "Requirement already satisfied: idna<3,>=2.5 in /usr/local/lib/python3.7/dist-packages (from requests->transformers==2.8.0) (2.10)\n",
            "Requirement already satisfied: certifi>=2017.4.17 in /usr/local/lib/python3.7/dist-packages (from requests->transformers==2.8.0) (2022.9.24)\n",
            "  Downloading urllib3-1.25.11-py2.py3-none-any.whl (127 kB)\n",
            "\u001b[K     |████████████████████████████████| 127 kB 65.4 MB/s \n",
            "\u001b[?25hRequirement already satisfied: chardet<4,>=3.0.2 in /usr/local/lib/python3.7/dist-packages (from requests->transformers==2.8.0) (3.0.4)\n",
            "Requirement already satisfied: click in /usr/local/lib/python3.7/dist-packages (from sacremoses->transformers==2.8.0) (7.1.2)\n",
            "Requirement already satisfied: joblib in /usr/local/lib/python3.7/dist-packages (from sacremoses->transformers==2.8.0) (1.2.0)\n",
            "Building wheels for collected packages: sacremoses\n",
            "  Building wheel for sacremoses (setup.py) ... \u001b[?25l\u001b[?25hdone\n",
            "  Created wheel for sacremoses: filename=sacremoses-0.0.53-py3-none-any.whl size=895260 sha256=c9b8362992ac369d9877e5248674a413aa8886af04453e855eb76ba7ebb7169c\n",
            "  Stored in directory: /root/.cache/pip/wheels/87/39/dd/a83eeef36d0bf98e7a4d1933a4ad2d660295a40613079bafc9\n",
            "Successfully built sacremoses\n",
            "Installing collected packages: urllib3, jmespath, botocore, s3transfer, tokenizers, sentencepiece, sacremoses, boto3, transformers\n",
            "  Attempting uninstall: urllib3\n",
            "    Found existing installation: urllib3 1.24.3\n",
            "    Uninstalling urllib3-1.24.3:\n",
            "      Successfully uninstalled urllib3-1.24.3\n",
            "  Attempting uninstall: tokenizers\n",
            "    Found existing installation: tokenizers 0.13.2\n",
            "    Uninstalling tokenizers-0.13.2:\n",
            "      Successfully uninstalled tokenizers-0.13.2\n",
            "  Attempting uninstall: transformers\n",
            "    Found existing installation: transformers 4.24.0\n",
            "    Uninstalling transformers-4.24.0:\n",
            "      Successfully uninstalled transformers-4.24.0\n",
            "Successfully installed boto3-1.26.15 botocore-1.29.15 jmespath-1.0.1 s3transfer-0.6.0 sacremoses-0.0.53 sentencepiece-0.1.97 tokenizers-0.5.2 transformers-2.8.0 urllib3-1.25.11\n"
          ]
        }
      ],
      "source": [
        "pip install transformers==2.8.0"
      ]
    },
    {
      "cell_type": "code",
      "source": [
        "import torch\n",
        "print(torch.cuda.is_available())"
      ],
      "metadata": {
        "colab": {
          "base_uri": "https://localhost:8080/"
        },
        "id": "BHwDMMVO0zLz",
        "outputId": "3054bc25-9f42-46d6-84f1-3584813fc5b4"
      },
      "execution_count": null,
      "outputs": [
        {
          "output_type": "stream",
          "name": "stdout",
          "text": [
            "True\n"
          ]
        }
      ]
    },
    {
      "cell_type": "code",
      "source": [
        "from zipfile import ZipFile \n",
        "  \n",
        "# spécifiant le nom du fichier zip\n",
        "file = \"play_store_reviews.zip\"\n",
        "  \n",
        "# ouvrir le fichier zip en mode lecture\n",
        "with ZipFile(file, 'r') as zip: \n",
        "    # afficher tout le contenu du fichier zip\n",
        "    zip.printdir() \n",
        "  \n",
        "    # extraire tous les fichiers\n",
        "    print('extraction...') \n",
        "    zip.extractall() \n",
        "    print('Terminé!')"
      ],
      "metadata": {
        "colab": {
          "base_uri": "https://localhost:8080/"
        },
        "id": "jOD8tx4w5d0O",
        "outputId": "6ce9f3a1-1f53-4d30-c056-7dbbe36c22bd"
      },
      "execution_count": null,
      "outputs": [
        {
          "output_type": "stream",
          "name": "stdout",
          "text": [
            "File Name                                             Modified             Size\n",
            "reviews.csv                                    2020-12-24 08:17:04      6451055\n",
            "extraction...\n",
            "Terminé!\n"
          ]
        }
      ]
    },
    {
      "cell_type": "code",
      "source": [
        "#load librairies\n",
        "import pandas as pd\n",
        "import matplotlib.pyplot as plt\n",
        "import numpy as np\n",
        "import seaborn as sns\n"
      ],
      "metadata": {
        "id": "YGG9Zfoj39TQ"
      },
      "execution_count": 15,
      "outputs": []
    },
    {
      "cell_type": "code",
      "source": [
        "df = pd.read_csv(\"reviews.csv\")\n",
        "df.head()"
      ],
      "metadata": {
        "colab": {
          "base_uri": "https://localhost:8080/",
          "height": 634
        },
        "id": "Azub8dXB3VQX",
        "outputId": "c9ec95fb-7780-4d65-e5a5-4c7fb5d78ea8"
      },
      "execution_count": 12,
      "outputs": [
        {
          "output_type": "execute_result",
          "data": {
            "text/plain": [
              "                                            reviewId  \\\n",
              "0  gp:AOqpTOEhZuqSqqWnaKRgv-9ABYdajFUB0WugPGh-SG-...   \n",
              "1  gp:AOqpTOH0WP4IQKBZ2LrdNmFy_YmpPCVrV3diEU9KGm3...   \n",
              "2  gp:AOqpTOEMCkJB8Iq1p-r9dPwnSYadA5BkPWTf32Z1azu...   \n",
              "3  gp:AOqpTOGFrUWuKGycpje8kszj3uwHN6tU_fd4gLVFy9z...   \n",
              "4  gp:AOqpTOHls7DW8wmDFzTkHwxuqFkdNQtKHmO6Pt9jhZE...   \n",
              "\n",
              "                           userName  \\\n",
              "0                          Eric Tie   \n",
              "1                        john alpha   \n",
              "2                       Sudhakar .S   \n",
              "3  SKGflorida@bellsouth.net DAVID S   \n",
              "4                     Louann Stoker   \n",
              "\n",
              "                                           userImage  \\\n",
              "0  https://play-lh.googleusercontent.com/a-/AOh14...   \n",
              "1  https://play-lh.googleusercontent.com/a-/AOh14...   \n",
              "2  https://play-lh.googleusercontent.com/a-/AOh14...   \n",
              "3  https://play-lh.googleusercontent.com/-75aK0WF...   \n",
              "4  https://play-lh.googleusercontent.com/-pBcY_Z-...   \n",
              "\n",
              "                                             content  score  thumbsUpCount  \\\n",
              "0                      I cannot open the app anymore      1              0   \n",
              "1  I have been begging for a refund from this app...      1              0   \n",
              "2  Very costly for the premium version (approx In...      1              0   \n",
              "3  Used to keep me organized, but all the 2020 UP...      1              0   \n",
              "4                                Dan Birthday Oct 28      1              0   \n",
              "\n",
              "  reviewCreatedVersion                   at  \\\n",
              "0              5.4.0.6  2020-10-27 21:24:41   \n",
              "1                  NaN  2020-10-27 14:03:28   \n",
              "2                  NaN  2020-10-27 08:18:40   \n",
              "3                  NaN  2020-10-26 13:28:07   \n",
              "4              5.6.0.7  2020-10-26 06:10:50   \n",
              "\n",
              "                                        replyContent            repliedAt  \\\n",
              "0                                                NaN                  NaN   \n",
              "1  Please note that from checking our records, yo...  2020-10-27 15:05:52   \n",
              "2                                                NaN                  NaN   \n",
              "3  What do you find troublesome about the update?...  2020-10-26 14:58:29   \n",
              "4                                                NaN                  NaN   \n",
              "\n",
              "  sortOrder      appId  \n",
              "0    newest  com.anydo  \n",
              "1    newest  com.anydo  \n",
              "2    newest  com.anydo  \n",
              "3    newest  com.anydo  \n",
              "4    newest  com.anydo  "
            ],
            "text/html": [
              "\n",
              "  <div id=\"df-da0e77f5-fe19-4bc3-8258-18213397bd88\">\n",
              "    <div class=\"colab-df-container\">\n",
              "      <div>\n",
              "<style scoped>\n",
              "    .dataframe tbody tr th:only-of-type {\n",
              "        vertical-align: middle;\n",
              "    }\n",
              "\n",
              "    .dataframe tbody tr th {\n",
              "        vertical-align: top;\n",
              "    }\n",
              "\n",
              "    .dataframe thead th {\n",
              "        text-align: right;\n",
              "    }\n",
              "</style>\n",
              "<table border=\"1\" class=\"dataframe\">\n",
              "  <thead>\n",
              "    <tr style=\"text-align: right;\">\n",
              "      <th></th>\n",
              "      <th>reviewId</th>\n",
              "      <th>userName</th>\n",
              "      <th>userImage</th>\n",
              "      <th>content</th>\n",
              "      <th>score</th>\n",
              "      <th>thumbsUpCount</th>\n",
              "      <th>reviewCreatedVersion</th>\n",
              "      <th>at</th>\n",
              "      <th>replyContent</th>\n",
              "      <th>repliedAt</th>\n",
              "      <th>sortOrder</th>\n",
              "      <th>appId</th>\n",
              "    </tr>\n",
              "  </thead>\n",
              "  <tbody>\n",
              "    <tr>\n",
              "      <th>0</th>\n",
              "      <td>gp:AOqpTOEhZuqSqqWnaKRgv-9ABYdajFUB0WugPGh-SG-...</td>\n",
              "      <td>Eric Tie</td>\n",
              "      <td>https://play-lh.googleusercontent.com/a-/AOh14...</td>\n",
              "      <td>I cannot open the app anymore</td>\n",
              "      <td>1</td>\n",
              "      <td>0</td>\n",
              "      <td>5.4.0.6</td>\n",
              "      <td>2020-10-27 21:24:41</td>\n",
              "      <td>NaN</td>\n",
              "      <td>NaN</td>\n",
              "      <td>newest</td>\n",
              "      <td>com.anydo</td>\n",
              "    </tr>\n",
              "    <tr>\n",
              "      <th>1</th>\n",
              "      <td>gp:AOqpTOH0WP4IQKBZ2LrdNmFy_YmpPCVrV3diEU9KGm3...</td>\n",
              "      <td>john alpha</td>\n",
              "      <td>https://play-lh.googleusercontent.com/a-/AOh14...</td>\n",
              "      <td>I have been begging for a refund from this app...</td>\n",
              "      <td>1</td>\n",
              "      <td>0</td>\n",
              "      <td>NaN</td>\n",
              "      <td>2020-10-27 14:03:28</td>\n",
              "      <td>Please note that from checking our records, yo...</td>\n",
              "      <td>2020-10-27 15:05:52</td>\n",
              "      <td>newest</td>\n",
              "      <td>com.anydo</td>\n",
              "    </tr>\n",
              "    <tr>\n",
              "      <th>2</th>\n",
              "      <td>gp:AOqpTOEMCkJB8Iq1p-r9dPwnSYadA5BkPWTf32Z1azu...</td>\n",
              "      <td>Sudhakar .S</td>\n",
              "      <td>https://play-lh.googleusercontent.com/a-/AOh14...</td>\n",
              "      <td>Very costly for the premium version (approx In...</td>\n",
              "      <td>1</td>\n",
              "      <td>0</td>\n",
              "      <td>NaN</td>\n",
              "      <td>2020-10-27 08:18:40</td>\n",
              "      <td>NaN</td>\n",
              "      <td>NaN</td>\n",
              "      <td>newest</td>\n",
              "      <td>com.anydo</td>\n",
              "    </tr>\n",
              "    <tr>\n",
              "      <th>3</th>\n",
              "      <td>gp:AOqpTOGFrUWuKGycpje8kszj3uwHN6tU_fd4gLVFy9z...</td>\n",
              "      <td>SKGflorida@bellsouth.net DAVID S</td>\n",
              "      <td>https://play-lh.googleusercontent.com/-75aK0WF...</td>\n",
              "      <td>Used to keep me organized, but all the 2020 UP...</td>\n",
              "      <td>1</td>\n",
              "      <td>0</td>\n",
              "      <td>NaN</td>\n",
              "      <td>2020-10-26 13:28:07</td>\n",
              "      <td>What do you find troublesome about the update?...</td>\n",
              "      <td>2020-10-26 14:58:29</td>\n",
              "      <td>newest</td>\n",
              "      <td>com.anydo</td>\n",
              "    </tr>\n",
              "    <tr>\n",
              "      <th>4</th>\n",
              "      <td>gp:AOqpTOHls7DW8wmDFzTkHwxuqFkdNQtKHmO6Pt9jhZE...</td>\n",
              "      <td>Louann Stoker</td>\n",
              "      <td>https://play-lh.googleusercontent.com/-pBcY_Z-...</td>\n",
              "      <td>Dan Birthday Oct 28</td>\n",
              "      <td>1</td>\n",
              "      <td>0</td>\n",
              "      <td>5.6.0.7</td>\n",
              "      <td>2020-10-26 06:10:50</td>\n",
              "      <td>NaN</td>\n",
              "      <td>NaN</td>\n",
              "      <td>newest</td>\n",
              "      <td>com.anydo</td>\n",
              "    </tr>\n",
              "  </tbody>\n",
              "</table>\n",
              "</div>\n",
              "      <button class=\"colab-df-convert\" onclick=\"convertToInteractive('df-da0e77f5-fe19-4bc3-8258-18213397bd88')\"\n",
              "              title=\"Convert this dataframe to an interactive table.\"\n",
              "              style=\"display:none;\">\n",
              "        \n",
              "  <svg xmlns=\"http://www.w3.org/2000/svg\" height=\"24px\"viewBox=\"0 0 24 24\"\n",
              "       width=\"24px\">\n",
              "    <path d=\"M0 0h24v24H0V0z\" fill=\"none\"/>\n",
              "    <path d=\"M18.56 5.44l.94 2.06.94-2.06 2.06-.94-2.06-.94-.94-2.06-.94 2.06-2.06.94zm-11 1L8.5 8.5l.94-2.06 2.06-.94-2.06-.94L8.5 2.5l-.94 2.06-2.06.94zm10 10l.94 2.06.94-2.06 2.06-.94-2.06-.94-.94-2.06-.94 2.06-2.06.94z\"/><path d=\"M17.41 7.96l-1.37-1.37c-.4-.4-.92-.59-1.43-.59-.52 0-1.04.2-1.43.59L10.3 9.45l-7.72 7.72c-.78.78-.78 2.05 0 2.83L4 21.41c.39.39.9.59 1.41.59.51 0 1.02-.2 1.41-.59l7.78-7.78 2.81-2.81c.8-.78.8-2.07 0-2.86zM5.41 20L4 18.59l7.72-7.72 1.47 1.35L5.41 20z\"/>\n",
              "  </svg>\n",
              "      </button>\n",
              "      \n",
              "  <style>\n",
              "    .colab-df-container {\n",
              "      display:flex;\n",
              "      flex-wrap:wrap;\n",
              "      gap: 12px;\n",
              "    }\n",
              "\n",
              "    .colab-df-convert {\n",
              "      background-color: #E8F0FE;\n",
              "      border: none;\n",
              "      border-radius: 50%;\n",
              "      cursor: pointer;\n",
              "      display: none;\n",
              "      fill: #1967D2;\n",
              "      height: 32px;\n",
              "      padding: 0 0 0 0;\n",
              "      width: 32px;\n",
              "    }\n",
              "\n",
              "    .colab-df-convert:hover {\n",
              "      background-color: #E2EBFA;\n",
              "      box-shadow: 0px 1px 2px rgba(60, 64, 67, 0.3), 0px 1px 3px 1px rgba(60, 64, 67, 0.15);\n",
              "      fill: #174EA6;\n",
              "    }\n",
              "\n",
              "    [theme=dark] .colab-df-convert {\n",
              "      background-color: #3B4455;\n",
              "      fill: #D2E3FC;\n",
              "    }\n",
              "\n",
              "    [theme=dark] .colab-df-convert:hover {\n",
              "      background-color: #434B5C;\n",
              "      box-shadow: 0px 1px 3px 1px rgba(0, 0, 0, 0.15);\n",
              "      filter: drop-shadow(0px 1px 2px rgba(0, 0, 0, 0.3));\n",
              "      fill: #FFFFFF;\n",
              "    }\n",
              "  </style>\n",
              "\n",
              "      <script>\n",
              "        const buttonEl =\n",
              "          document.querySelector('#df-da0e77f5-fe19-4bc3-8258-18213397bd88 button.colab-df-convert');\n",
              "        buttonEl.style.display =\n",
              "          google.colab.kernel.accessAllowed ? 'block' : 'none';\n",
              "\n",
              "        async function convertToInteractive(key) {\n",
              "          const element = document.querySelector('#df-da0e77f5-fe19-4bc3-8258-18213397bd88');\n",
              "          const dataTable =\n",
              "            await google.colab.kernel.invokeFunction('convertToInteractive',\n",
              "                                                     [key], {});\n",
              "          if (!dataTable) return;\n",
              "\n",
              "          const docLinkHtml = 'Like what you see? Visit the ' +\n",
              "            '<a target=\"_blank\" href=https://colab.research.google.com/notebooks/data_table.ipynb>data table notebook</a>'\n",
              "            + ' to learn more about interactive tables.';\n",
              "          element.innerHTML = '';\n",
              "          dataTable['output_type'] = 'display_data';\n",
              "          await google.colab.output.renderOutput(dataTable, element);\n",
              "          const docLink = document.createElement('div');\n",
              "          docLink.innerHTML = docLinkHtml;\n",
              "          element.appendChild(docLink);\n",
              "        }\n",
              "      </script>\n",
              "    </div>\n",
              "  </div>\n",
              "  "
            ]
          },
          "metadata": {},
          "execution_count": 12
        }
      ]
    },
    {
      "cell_type": "code",
      "source": [
        "df.shape"
      ],
      "metadata": {
        "colab": {
          "base_uri": "https://localhost:8080/"
        },
        "id": "WSBZrern4QcG",
        "outputId": "7d0c4dea-46f1-4941-8d26-01f3acdab530"
      },
      "execution_count": 13,
      "outputs": [
        {
          "output_type": "execute_result",
          "data": {
            "text/plain": [
              "(12495, 12)"
            ]
          },
          "metadata": {},
          "execution_count": 13
        }
      ]
    },
    {
      "cell_type": "code",
      "source": [
        "df.info()"
      ],
      "metadata": {
        "id": "umZK4W934kbk",
        "colab": {
          "base_uri": "https://localhost:8080/"
        },
        "outputId": "40cbb45d-340c-4b28-8351-40c355fd5bfa"
      },
      "execution_count": 14,
      "outputs": [
        {
          "output_type": "stream",
          "name": "stdout",
          "text": [
            "<class 'pandas.core.frame.DataFrame'>\n",
            "RangeIndex: 12495 entries, 0 to 12494\n",
            "Data columns (total 12 columns):\n",
            " #   Column                Non-Null Count  Dtype \n",
            "---  ------                --------------  ----- \n",
            " 0   reviewId              12495 non-null  object\n",
            " 1   userName              12495 non-null  object\n",
            " 2   userImage             12495 non-null  object\n",
            " 3   content               12495 non-null  object\n",
            " 4   score                 12495 non-null  int64 \n",
            " 5   thumbsUpCount         12495 non-null  int64 \n",
            " 6   reviewCreatedVersion  10333 non-null  object\n",
            " 7   at                    12495 non-null  object\n",
            " 8   replyContent          5818 non-null   object\n",
            " 9   repliedAt             5818 non-null   object\n",
            " 10  sortOrder             12495 non-null  object\n",
            " 11  appId                 12495 non-null  object\n",
            "dtypes: int64(2), object(10)\n",
            "memory usage: 1.1+ MB\n"
          ]
        }
      ]
    },
    {
      "cell_type": "code",
      "source": [
        "sns.countplot(df.score)\n",
        "plt.xlabel(\"review score\")"
      ],
      "metadata": {
        "colab": {
          "base_uri": "https://localhost:8080/",
          "height": 354
        },
        "id": "DV7cOqZ065yr",
        "outputId": "2ee05212-eb69-4ec8-e5ee-2eb357904fa7"
      },
      "execution_count": 16,
      "outputs": [
        {
          "output_type": "stream",
          "name": "stderr",
          "text": [
            "/usr/local/lib/python3.7/dist-packages/seaborn/_decorators.py:43: FutureWarning: Pass the following variable as a keyword arg: x. From version 0.12, the only valid positional argument will be `data`, and passing other arguments without an explicit keyword will result in an error or misinterpretation.\n",
            "  FutureWarning\n"
          ]
        },
        {
          "output_type": "execute_result",
          "data": {
            "text/plain": [
              "Text(0.5, 0, 'review score')"
            ]
          },
          "metadata": {},
          "execution_count": 16
        },
        {
          "output_type": "display_data",
          "data": {
            "text/plain": [
              "<Figure size 432x288 with 1 Axes>"
            ],
            "image/png": "[encoded data removed]"
          },
          "metadata": {
            "needs_background": "light"
          }
        }
      ]
    },
    {
      "cell_type": "code",
      "source": [
        "#separate scores into 3 classes\n",
        "def to_sentiment(score):\n",
        "  score = int(score)\n",
        "  if score <=2 :\n",
        "    return 0\n",
        "  elif score ==3:\n",
        "    return 1\n",
        "  else :\n",
        "    return 2\n",
        "\n",
        "df[\"sentiment\"] = df.score.apply(to_sentiment)"
      ],
      "metadata": {
        "id": "ObPZzh_k8Gs2"
      },
      "execution_count": 24,
      "outputs": []
    },
    {
      "cell_type": "code",
      "source": [
        "classnames = [\"negative\", \"neutral\", \"positive\"]\n",
        "ax = sns.countplot(df[\"sentiment\"])\n",
        "plt.xlabel(\"review sentiments\")\n",
        "\n",
        "ax.set_xticklabels(classnames)"
      ],
      "metadata": {
        "colab": {
          "base_uri": "https://localhost:8080/",
          "height": 351
        },
        "id": "WJT1n1Ie9iuy",
        "outputId": "97ba2c87-4318-4aa3-d8ed-992ff9c4e055"
      },
      "execution_count": 26,
      "outputs": [
        {
          "output_type": "stream",
          "name": "stderr",
          "text": [
            "/usr/local/lib/python3.7/dist-packages/seaborn/_decorators.py:43: FutureWarning: Pass the following variable as a keyword arg: x. From version 0.12, the only valid positional argument will be `data`, and passing other arguments without an explicit keyword will result in an error or misinterpretation.\n",
            "  FutureWarning\n"
          ]
        },
        {
          "output_type": "execute_result",
          "data": {
            "text/plain": [
              "[Text(0, 0, 'negative'), Text(0, 0, 'neutral'), Text(0, 0, 'positive')]"
            ]
          },
          "metadata": {},
          "execution_count": 26
        },
        {
          "output_type": "display_data",
          "data": {
            "text/plain": [
              "<Figure size 432x288 with 1 Axes>"
            ],
            "image/png": "[encoded data removed]"
          },
          "metadata": {
            "needs_background": "light"
          }
        }
      ]
    },
    {
      "cell_type": "code",
      "source": [
        "#Data preprocessing\n",
        "\n",
        "from transformers import BertTokenizer, BertModel\n",
        "tokenizer = BertTokenizer.from_pretrained(\"bert-base-cased\")"
      ],
      "metadata": {
        "colab": {
          "base_uri": "https://localhost:8080/",
          "height": 49,
          "referenced_widgets": [
            "27e2d10a5692422d9e335c9e0e1255f1",
            "a76284247eef4265b4a10ff100e5708e",
            "60d3f156059744deb04fffac247b5ba8",
            "5669beb786b74424afd72e9032fafbbf",
            "305fd07ea0d448db83c8adf23696b3e6",
            "2444c2f920d34df0947dd869a132190c",
            "b342eae75d9c468198ede6c7d266cc8d",
            "db7f996cd7804f1ba0fc37fcceae62d1",
            "9e9e2d978be744af95b9883d2aefcf0e",
            "9cd48464bf36494ba5e85faa78571eef",
            "ace819a90965430a9c269988aa8af985"
          ]
        },
        "id": "qH-GeMsz9l42",
        "outputId": "3800f241-66be-4d9f-cee2-95aad0dc3497"
      },
      "execution_count": 28,
      "outputs": [
        {
          "output_type": "display_data",
          "data": {
            "text/plain": [
              "Downloading:   0%|          | 0.00/213k [00:00<?, ?B/s]"
            ],
            "application/vnd.jupyter.widget-view+json": {
              "version_major": 2,
              "version_minor": 0,
              "model_id": "27e2d10a5692422d9e335c9e0e1255f1"
            }
          },
          "metadata": {}
        }
      ]
    },
    {
      "cell_type": "code",
      "source": [
        "sample_txt = 'When was I last outside? I am stuck at home for 2 weeks.'\n",
        "encoding = tokenizer.encode_plus(\n",
        "  sample_txt,\n",
        "  max_length=32,\n",
        "  add_special_tokens=True, # Add '[CLS]' and '[SEP]'\n",
        "  return_token_type_ids=False,\n",
        "  pad_to_max_length=True,\n",
        "  return_attention_mask=True,\n",
        "  return_tensors='pt',  # Return PyTorch tensors\n",
        ")\n",
        "\n",
        "encoding.keys()"
      ],
      "metadata": {
        "colab": {
          "base_uri": "https://localhost:8080/"
        },
        "id": "oVJodgjgA_Q6",
        "outputId": "80820f28-fdc9-453d-dc64-937c965bd7b1"
      },
      "execution_count": 42,
      "outputs": [
        {
          "output_type": "execute_result",
          "data": {
            "text/plain": [
              "dict_keys(['input_ids', 'attention_mask'])"
            ]
          },
          "metadata": {},
          "execution_count": 42
        }
      ]
    },
    {
      "cell_type": "code",
      "source": [
        "print(len(encoding[\"input_ids\"][0]))\n",
        "print(encoding[\"input_ids\"]) #tokens\n",
        "print(encoding[\"attention_mask\"]) #1 represent real words and 0 represent paddings\n",
        "tokenizer.convert_ids_to_tokens(encoding[\"input_ids\"][0])"
      ],
      "metadata": {
        "colab": {
          "base_uri": "https://localhost:8080/"
        },
        "id": "UnoPRYTKBx4M",
        "outputId": "85baa027-13db-4958-a1b8-b17625588dea"
      },
      "execution_count": 45,
      "outputs": [
        {
          "output_type": "stream",
          "name": "stdout",
          "text": [
            "32\n",
            "tensor([[ 101, 1332, 1108,  146, 1314, 1796,  136,  146, 1821, 5342, 1120, 1313,\n",
            "         1111,  123, 2277,  119,  102,    0,    0,    0,    0,    0,    0,    0,\n",
            "            0,    0,    0,    0,    0,    0,    0,    0]])\n",
            "tensor([[1, 1, 1, 1, 1, 1, 1, 1, 1, 1, 1, 1, 1, 1, 1, 1, 1, 0, 0, 0, 0, 0, 0, 0,\n",
            "         0, 0, 0, 0, 0, 0, 0, 0]])\n"
          ]
        },
        {
          "output_type": "execute_result",
          "data": {
            "text/plain": [
              "['[CLS]',\n",
              " 'When',\n",
              " 'was',\n",
              " 'I',\n",
              " 'last',\n",
              " 'outside',\n",
              " '?',\n",
              " 'I',\n",
              " 'am',\n",
              " 'stuck',\n",
              " 'at',\n",
              " 'home',\n",
              " 'for',\n",
              " '2',\n",
              " 'weeks',\n",
              " '.',\n",
              " '[SEP]',\n",
              " '[PAD]',\n",
              " '[PAD]',\n",
              " '[PAD]',\n",
              " '[PAD]',\n",
              " '[PAD]',\n",
              " '[PAD]',\n",
              " '[PAD]',\n",
              " '[PAD]',\n",
              " '[PAD]',\n",
              " '[PAD]',\n",
              " '[PAD]',\n",
              " '[PAD]',\n",
              " '[PAD]',\n",
              " '[PAD]',\n",
              " '[PAD]']"
            ]
          },
          "metadata": {},
          "execution_count": 45
        }
      ]
    },
    {
      "cell_type": "code",
      "source": [
        "#check the maximum sequence length\n",
        "token_lens = []\n",
        "for txt in df.content:\n",
        "  token = tokenizer.encode(txt, max_length=512)\n",
        "  token_lens.append(len(token))\n"
      ],
      "metadata": {
        "id": "PSY9ifwUCsUY"
      },
      "execution_count": 50,
      "outputs": []
    },
    {
      "cell_type": "code",
      "source": [
        "#plot to see the distribution\n",
        "sns.distplot(token_lens)\n",
        "plt.xlim([0, 256]);\n",
        "plt.xlabel('Token count')"
      ],
      "metadata": {
        "colab": {
          "base_uri": "https://localhost:8080/",
          "height": 351
        },
        "id": "2Gzr54gEEJf4",
        "outputId": "00415647-5fc0-4234-c08a-27ad8277eb35"
      },
      "execution_count": 51,
      "outputs": [
        {
          "output_type": "stream",
          "name": "stderr",
          "text": [
            "/usr/local/lib/python3.7/dist-packages/seaborn/distributions.py:2619: FutureWarning: `distplot` is a deprecated function and will be removed in a future version. Please adapt your code to use either `displot` (a figure-level function with similar flexibility) or `histplot` (an axes-level function for histograms).\n",
            "  warnings.warn(msg, FutureWarning)\n"
          ]
        },
        {
          "output_type": "execute_result",
          "data": {
            "text/plain": [
              "Text(0.5, 0, 'Token count')"
            ]
          },
          "metadata": {},
          "execution_count": 51
        },
        {
          "output_type": "display_data",
          "data": {
            "text/plain": [
              "<Figure size 432x288 with 1 Axes>"
            ],
            "image/png": "[encoded data removed]"
          },
          "metadata": {
            "needs_background": "light"
          }
        }
      ]
    },
    {
      "cell_type": "code",
      "source": [
        "max_length = 160\n",
        "class GPReviewDataset(torch.utils.data.Dataset):\n",
        "\n",
        "  def __init__(self, reviews, targets, tokenizer, max_len):\n",
        "    self.reviews = reviews\n",
        "    self.targets = targets\n",
        "    self.tokenizer = tokenizer\n",
        "    self.max_len = max_len\n",
        "  \n",
        "  def __len__(self):\n",
        "    return len(self.reviews)\n",
        "  \n",
        "  def __getitem__(self, item):\n",
        "    review = str(self.reviews[item])\n",
        "    target = self.targets[item]\n",
        "\n",
        "    encoding = self.tokenizer.encode_plus(\n",
        "      review,\n",
        "      add_special_tokens=True,\n",
        "      max_length=self.max_len,\n",
        "      return_token_type_ids=False,\n",
        "      pad_to_max_length=True,\n",
        "      return_attention_mask=True,\n",
        "      truncation=True,\n",
        "      return_tensors='pt',\n",
        "    )\n",
        "\n",
        "    return {\n",
        "      'review_text': review,\n",
        "      'input_ids': encoding['input_ids'].flatten(),\n",
        "      'attention_mask': encoding['attention_mask'].flatten(),\n",
        "      'targets': torch.tensor(target, dtype=torch.long)\n",
        "    }"
      ],
      "metadata": {
        "id": "_bIct8v8GuzJ"
      },
      "execution_count": 52,
      "outputs": []
    },
    {
      "cell_type": "code",
      "source": [
        "#separate dataset into train, test, val\n",
        "from sklearn.model_selection import train_test_split\n",
        "df_train, df_test = train_test_split(df, test_size=0.2, random_state=42)\n",
        "df_val, df_test = train_test_split(df_test, test_size=0.5, random_state=42)\n",
        "\n",
        "df_train.shape, df_val.shape, df_test.shape"
      ],
      "metadata": {
        "colab": {
          "base_uri": "https://localhost:8080/"
        },
        "id": "rWPvIT_hHhXS",
        "outputId": "607aa338-cb2b-4375-aa7f-cbddd9865dc1"
      },
      "execution_count": 55,
      "outputs": [
        {
          "output_type": "execute_result",
          "data": {
            "text/plain": [
              "((9996, 13), (1249, 13), (1250, 13))"
            ]
          },
          "metadata": {},
          "execution_count": 55
        }
      ]
    },
    {
      "cell_type": "code",
      "source": [
        "#create data loader\n",
        "def create_data_loader(df, tokenizer, max_len, batch_size):\n",
        "  ds = GPReviewDataset(\n",
        "    reviews=df.content.to_numpy(),\n",
        "    targets=df.sentiment.to_numpy(),\n",
        "    tokenizer=tokenizer,\n",
        "    max_len=max_len\n",
        "  )\n",
        "\n",
        "  return torch.utils.data.DataLoader(\n",
        "    ds,\n",
        "    batch_size=batch_size,\n",
        "    num_workers=4\n",
        "  )"
      ],
      "metadata": {
        "id": "99lASFHxInop"
      },
      "execution_count": 58,
      "outputs": []
    },
    {
      "cell_type": "code",
      "source": [
        "BATCH_SIZE = 16\n",
        "\n",
        "train_data_loader = create_data_loader(df_train, tokenizer, max_length, BATCH_SIZE)\n",
        "val_data_loader = create_data_loader(df_val, tokenizer, max_length, BATCH_SIZE)\n",
        "test_data_loader = create_data_loader(df_test, tokenizer, max_length, BATCH_SIZE)"
      ],
      "metadata": {
        "colab": {
          "base_uri": "https://localhost:8080/"
        },
        "id": "VCAm_wXxJjFa",
        "outputId": "6c1331ff-468d-4864-9cc5-39eaa7ce6866"
      },
      "execution_count": 57,
      "outputs": [
        {
          "output_type": "stream",
          "name": "stderr",
          "text": [
            "/usr/local/lib/python3.7/dist-packages/torch/utils/data/dataloader.py:566: UserWarning: This DataLoader will create 4 worker processes in total. Our suggested max number of worker in current system is 2, which is smaller than what this DataLoader is going to create. Please be aware that excessive worker creation might get DataLoader running slow or even freeze, lower the worker number to avoid potential slowness/freeze if necessary.\n",
            "  cpuset_checked))\n"
          ]
        }
      ]
    },
    {
      "cell_type": "code",
      "source": [
        "#look of datas\n",
        "data = next(iter(train_data_loader))\n",
        "data.keys()"
      ],
      "metadata": {
        "colab": {
          "base_uri": "https://localhost:8080/"
        },
        "id": "zAXz1yfwKGCf",
        "outputId": "646ddc70-e85e-475d-859b-4cbe1112c28d"
      },
      "execution_count": 59,
      "outputs": [
        {
          "output_type": "execute_result",
          "data": {
            "text/plain": [
              "dict_keys(['review_text', 'input_ids', 'attention_mask', 'targets'])"
            ]
          },
          "metadata": {},
          "execution_count": 59
        }
      ]
    },
    {
      "cell_type": "code",
      "source": [
        "print(data['input_ids'].shape)\n",
        "print(tokenizer.convert_ids_to_tokens(data[\"input_ids\"][0]))\n",
        "print(data['attention_mask'].shape)\n",
        "print(data['targets'].shape)"
      ],
      "metadata": {
        "colab": {
          "base_uri": "https://localhost:8080/"
        },
        "id": "BX_CcKu-Jzx7",
        "outputId": "62186d23-1fba-42f8-ac95-1fc6578b3365"
      },
      "execution_count": 61,
      "outputs": [
        {
          "output_type": "stream",
          "name": "stdout",
          "text": [
            "torch.Size([16, 160])\n",
            "['[CLS]', 'I', 'kinda', 'love', 'this', 'app', 'but', 'the', 'only', 'problem', 'that', 'I', \"'\", 've', 'face', 'now', 'is', 'that', 'i', 'want', 'to', 'have', 'my', 'task', 'on', 'my', 'p', '##c', 'and', 'i', 'think', 'it', 'would', 'be', 'great', 'if', 'you', 'could', 'put', 'some', 'accounts', 'so', 'that', 'we', 'can', 'easily', 'sort', 'our', 'task', 'in', 'any', 'devices', 'that', 'we', 'are', 'into', '[SEP]', '[PAD]', '[PAD]', '[PAD]', '[PAD]', '[PAD]', '[PAD]', '[PAD]', '[PAD]', '[PAD]', '[PAD]', '[PAD]', '[PAD]', '[PAD]', '[PAD]', '[PAD]', '[PAD]', '[PAD]', '[PAD]', '[PAD]', '[PAD]', '[PAD]', '[PAD]', '[PAD]', '[PAD]', '[PAD]', '[PAD]', '[PAD]', '[PAD]', '[PAD]', '[PAD]', '[PAD]', '[PAD]', '[PAD]', '[PAD]', '[PAD]', '[PAD]', '[PAD]', '[PAD]', '[PAD]', '[PAD]', '[PAD]', '[PAD]', '[PAD]', '[PAD]', '[PAD]', '[PAD]', '[PAD]', '[PAD]', '[PAD]', '[PAD]', '[PAD]', '[PAD]', '[PAD]', '[PAD]', '[PAD]', '[PAD]', '[PAD]', '[PAD]', '[PAD]', '[PAD]', '[PAD]', '[PAD]', '[PAD]', '[PAD]', '[PAD]', '[PAD]', '[PAD]', '[PAD]', '[PAD]', '[PAD]', '[PAD]', '[PAD]', '[PAD]', '[PAD]', '[PAD]', '[PAD]', '[PAD]', '[PAD]', '[PAD]', '[PAD]', '[PAD]', '[PAD]', '[PAD]', '[PAD]', '[PAD]', '[PAD]', '[PAD]', '[PAD]', '[PAD]', '[PAD]', '[PAD]', '[PAD]', '[PAD]', '[PAD]', '[PAD]', '[PAD]', '[PAD]', '[PAD]', '[PAD]', '[PAD]', '[PAD]', '[PAD]', '[PAD]']\n",
            "torch.Size([16, 160])\n",
            "torch.Size([16])\n"
          ]
        }
      ]
    },
    {
      "cell_type": "code",
      "source": [
        "#load bert model\n",
        "bert_model = BertModel.from_pretrained(\"bert-base-cased\")"
      ],
      "metadata": {
        "colab": {
          "base_uri": "https://localhost:8080/",
          "height": 81,
          "referenced_widgets": [
            "e75c715494af47ba82bde7b3ec84728c",
            "4775b3cca81d42e3beee256a90490e7a",
            "6d17caadcbf8414ea17ce909134e40dc",
            "9d96f51aa2d545e3ad25b1bd17a76ef1",
            "0076940c212345c58c634f5f7ecc22f2",
            "f8580f9dc54d453b9763ca5c509024c7",
            "95543a711bfb46b8b8584f7fc0dd437f",
            "82ad3d89a49341bfb8a3b4de33e12328",
            "9cb9ae5f220a4f4e9852c5c57b3f0d76",
            "d2e19f4571924a1cb772f1bc6cc65878",
            "c32ed903496346bca94b742e3b0a45e4",
            "baa5bc8545ac482aa91cc3932b965472",
            "2626497b388a4e43b31cd8a102fe5c06",
            "a4a5614e0678444b93a4b6f2905ec651",
            "5b3b68885e94407e8195c903fd325c42",
            "8d7afd3c7fcd423ba9a026b34679277e",
            "895b83f3d71a419eaf29b122843ac2b0",
            "39f86f75c3054e9aaf1ee118c7170914",
            "971a624c7dc0425c87b205178a9d52d9",
            "1bc782dd9cd24dc7ae0907c9570b46c6",
            "edf3141a239b4ebfb6c17ac57d17e738",
            "7290a366802a464da97a03da14738b03"
          ]
        },
        "id": "57ePW-YgKX7Z",
        "outputId": "7c4dbc8e-9009-4266-e5cf-c51cc1419d0d"
      },
      "execution_count": 62,
      "outputs": [
        {
          "output_type": "display_data",
          "data": {
            "text/plain": [
              "Downloading:   0%|          | 0.00/433 [00:00<?, ?B/s]"
            ],
            "application/vnd.jupyter.widget-view+json": {
              "version_major": 2,
              "version_minor": 0,
              "model_id": "e75c715494af47ba82bde7b3ec84728c"
            }
          },
          "metadata": {}
        },
        {
          "output_type": "display_data",
          "data": {
            "text/plain": [
              "Downloading:   0%|          | 0.00/436M [00:00<?, ?B/s]"
            ],
            "application/vnd.jupyter.widget-view+json": {
              "version_major": 2,
              "version_minor": 0,
              "model_id": "baa5bc8545ac482aa91cc3932b965472"
            }
          },
          "metadata": {}
        }
      ]
    },
    {
      "cell_type": "code",
      "source": [
        "#use the bert model to encode the text\n",
        "\n",
        "last_hidden_state, pooled_output = bert_model(\n",
        "  input_ids=encoding['input_ids'], \n",
        "  attention_mask=encoding['attention_mask'],\n",
        ")"
      ],
      "metadata": {
        "id": "Ugu_njfBLEUT"
      },
      "execution_count": 63,
      "outputs": []
    },
    {
      "cell_type": "code",
      "source": [
        "print(last_hidden_state.shape) #sortie des autres couches cachées\n",
        "print(pooled_output.shape) #sortie de la premiere couche , celle de classification"
      ],
      "metadata": {
        "colab": {
          "base_uri": "https://localhost:8080/"
        },
        "id": "FvYUFWpcL5wD",
        "outputId": "23d3af81-6efd-42e1-e83b-de4e774acb03"
      },
      "execution_count": 65,
      "outputs": [
        {
          "output_type": "stream",
          "name": "stdout",
          "text": [
            "torch.Size([1, 32, 768])\n",
            "torch.Size([1, 768])\n"
          ]
        }
      ]
    },
    {
      "cell_type": "code",
      "source": [
        "from torch import nn\n",
        "class SentimentClassifier(nn.Module):\n",
        "\n",
        "  def __init__(self, n_classes):\n",
        "    super(SentimentClassifier, self).__init__()\n",
        "    self.bert = BertModel.from_pretrained(\"bert-base-cased\")\n",
        "    self.dropout = nn.Dropout(p=0.3)\n",
        "    self.linear = nn.Linear(self.bert.config.hidden_size, n_classes)\n",
        "  \n",
        "  def forward(self, input_ids, attention_mask):\n",
        "    _, pooled_output = self.bert(input_ids=input_ids, attention_mask=attention_mask)\n",
        "    output = self.dropout(pooled_output)\n",
        "    return self.linear(output)"
      ],
      "metadata": {
        "id": "H3xZf_dLMTF7"
      },
      "execution_count": 68,
      "outputs": []
    },
    {
      "cell_type": "code",
      "source": [
        "#create an instance of a model and move it to the GPU\n",
        "use_cuda = torch.cuda.is_available()\n",
        "device = torch.device(\"cuda\" if use_cuda else \"cpu\")\n",
        "model = SentimentClassifier(len(classnames))\n",
        "model = model.to(device)"
      ],
      "metadata": {
        "id": "ngoJ3LTKN0NO"
      },
      "execution_count": 71,
      "outputs": []
    },
    {
      "cell_type": "code",
      "source": [
        "#put the input ids and attention_mask to the GPU\n",
        "input_ids = data['input_ids'].to(device)\n",
        "attention_mask = data['attention_mask'].to(device)\n",
        "\n",
        "print(input_ids.shape) # batch size x seq length\n",
        "print(attention_mask.shape) # batch size x seq length"
      ],
      "metadata": {
        "colab": {
          "base_uri": "https://localhost:8080/"
        },
        "id": "qdHO1OprQDch",
        "outputId": "d09c9d99-50f5-4c66-eef4-3cca0d4ae2bb"
      },
      "execution_count": 72,
      "outputs": [
        {
          "output_type": "stream",
          "name": "stdout",
          "text": [
            "torch.Size([16, 160])\n",
            "torch.Size([16, 160])\n"
          ]
        }
      ]
    },
    {
      "cell_type": "code",
      "source": [
        "!pip install -q -U watermark"
      ],
      "metadata": {
        "colab": {
          "base_uri": "https://localhost:8080/"
        },
        "id": "HfWT8tshSITe",
        "outputId": "28f11854-d3aa-4d23-ec66-07663a135ec4"
      },
      "execution_count": 75,
      "outputs": [
        {
          "output_type": "stream",
          "name": "stdout",
          "text": [
            "\u001b[?25l\r\u001b[K     |▏                               | 10 kB 23.9 MB/s eta 0:00:01\r\u001b[K     |▍                               | 20 kB 29.2 MB/s eta 0:00:01\r\u001b[K     |▋                               | 30 kB 35.8 MB/s eta 0:00:01\r\u001b[K     |▉                               | 40 kB 36.8 MB/s eta 0:00:01\r\u001b[K     |█                               | 51 kB 40.2 MB/s eta 0:00:01\r\u001b[K     |█▎                              | 61 kB 42.9 MB/s eta 0:00:01\r\u001b[K     |█▌                              | 71 kB 30.9 MB/s eta 0:00:01\r\u001b[K     |█▊                              | 81 kB 31.7 MB/s eta 0:00:01\r\u001b[K     |█▉                              | 92 kB 34.0 MB/s eta 0:00:01\r\u001b[K     |██                              | 102 kB 35.8 MB/s eta 0:00:01\r\u001b[K     |██▎                             | 112 kB 35.8 MB/s eta 0:00:01\r\u001b[K     |██▌                             | 122 kB 35.8 MB/s eta 0:00:01\r\u001b[K     |██▊                             | 133 kB 35.8 MB/s eta 0:00:01\r\u001b[K     |███                             | 143 kB 35.8 MB/s eta 0:00:01\r\u001b[K     |███▏                            | 153 kB 35.8 MB/s eta 0:00:01\r\u001b[K     |███▍                            | 163 kB 35.8 MB/s eta 0:00:01\r\u001b[K     |███▌                            | 174 kB 35.8 MB/s eta 0:00:01\r\u001b[K     |███▊                            | 184 kB 35.8 MB/s eta 0:00:01\r\u001b[K     |████                            | 194 kB 35.8 MB/s eta 0:00:01\r\u001b[K     |████▏                           | 204 kB 35.8 MB/s eta 0:00:01\r\u001b[K     |████▍                           | 215 kB 35.8 MB/s eta 0:00:01\r\u001b[K     |████▋                           | 225 kB 35.8 MB/s eta 0:00:01\r\u001b[K     |████▉                           | 235 kB 35.8 MB/s eta 0:00:01\r\u001b[K     |█████                           | 245 kB 35.8 MB/s eta 0:00:01\r\u001b[K     |█████▎                          | 256 kB 35.8 MB/s eta 0:00:01\r\u001b[K     |█████▍                          | 266 kB 35.8 MB/s eta 0:00:01\r\u001b[K     |█████▋                          | 276 kB 35.8 MB/s eta 0:00:01\r\u001b[K     |█████▉                          | 286 kB 35.8 MB/s eta 0:00:01\r\u001b[K     |██████                          | 296 kB 35.8 MB/s eta 0:00:01\r\u001b[K     |██████▎                         | 307 kB 35.8 MB/s eta 0:00:01\r\u001b[K     |██████▌                         | 317 kB 35.8 MB/s eta 0:00:01\r\u001b[K     |██████▊                         | 327 kB 35.8 MB/s eta 0:00:01\r\u001b[K     |███████                         | 337 kB 35.8 MB/s eta 0:00:01\r\u001b[K     |███████                         | 348 kB 35.8 MB/s eta 0:00:01\r\u001b[K     |███████▎                        | 358 kB 35.8 MB/s eta 0:00:01\r\u001b[K     |███████▌                        | 368 kB 35.8 MB/s eta 0:00:01\r\u001b[K     |███████▊                        | 378 kB 35.8 MB/s eta 0:00:01\r\u001b[K     |████████                        | 389 kB 35.8 MB/s eta 0:00:01\r\u001b[K     |████████▏                       | 399 kB 35.8 MB/s eta 0:00:01\r\u001b[K     |████████▍                       | 409 kB 35.8 MB/s eta 0:00:01\r\u001b[K     |████████▋                       | 419 kB 35.8 MB/s eta 0:00:01\r\u001b[K     |████████▊                       | 430 kB 35.8 MB/s eta 0:00:01\r\u001b[K     |█████████                       | 440 kB 35.8 MB/s eta 0:00:01\r\u001b[K     |█████████▏                      | 450 kB 35.8 MB/s eta 0:00:01\r\u001b[K     |█████████▍                      | 460 kB 35.8 MB/s eta 0:00:01\r\u001b[K     |█████████▋                      | 471 kB 35.8 MB/s eta 0:00:01\r\u001b[K     |█████████▉                      | 481 kB 35.8 MB/s eta 0:00:01\r\u001b[K     |██████████                      | 491 kB 35.8 MB/s eta 0:00:01\r\u001b[K     |██████████▎                     | 501 kB 35.8 MB/s eta 0:00:01\r\u001b[K     |██████████▌                     | 512 kB 35.8 MB/s eta 0:00:01\r\u001b[K     |██████████▋                     | 522 kB 35.8 MB/s eta 0:00:01\r\u001b[K     |██████████▉                     | 532 kB 35.8 MB/s eta 0:00:01\r\u001b[K     |███████████                     | 542 kB 35.8 MB/s eta 0:00:01\r\u001b[K     |███████████▎                    | 552 kB 35.8 MB/s eta 0:00:01\r\u001b[K     |███████████▌                    | 563 kB 35.8 MB/s eta 0:00:01\r\u001b[K     |███████████▊                    | 573 kB 35.8 MB/s eta 0:00:01\r\u001b[K     |████████████                    | 583 kB 35.8 MB/s eta 0:00:01\r\u001b[K     |████████████▏                   | 593 kB 35.8 MB/s eta 0:00:01\r\u001b[K     |████████████▎                   | 604 kB 35.8 MB/s eta 0:00:01\r\u001b[K     |████████████▌                   | 614 kB 35.8 MB/s eta 0:00:01\r\u001b[K     |████████████▊                   | 624 kB 35.8 MB/s eta 0:00:01\r\u001b[K     |█████████████                   | 634 kB 35.8 MB/s eta 0:00:01\r\u001b[K     |█████████████▏                  | 645 kB 35.8 MB/s eta 0:00:01\r\u001b[K     |█████████████▍                  | 655 kB 35.8 MB/s eta 0:00:01\r\u001b[K     |█████████████▋                  | 665 kB 35.8 MB/s eta 0:00:01\r\u001b[K     |█████████████▉                  | 675 kB 35.8 MB/s eta 0:00:01\r\u001b[K     |██████████████                  | 686 kB 35.8 MB/s eta 0:00:01\r\u001b[K     |██████████████▏                 | 696 kB 35.8 MB/s eta 0:00:01\r\u001b[K     |██████████████▍                 | 706 kB 35.8 MB/s eta 0:00:01\r\u001b[K     |██████████████▋                 | 716 kB 35.8 MB/s eta 0:00:01\r\u001b[K     |██████████████▉                 | 727 kB 35.8 MB/s eta 0:00:01\r\u001b[K     |███████████████                 | 737 kB 35.8 MB/s eta 0:00:01\r\u001b[K     |███████████████▎                | 747 kB 35.8 MB/s eta 0:00:01\r\u001b[K     |███████████████▌                | 757 kB 35.8 MB/s eta 0:00:01\r\u001b[K     |███████████████▊                | 768 kB 35.8 MB/s eta 0:00:01\r\u001b[K     |███████████████▉                | 778 kB 35.8 MB/s eta 0:00:01\r\u001b[K     |████████████████                | 788 kB 35.8 MB/s eta 0:00:01\r\u001b[K     |████████████████▎               | 798 kB 35.8 MB/s eta 0:00:01\r\u001b[K     |████████████████▌               | 808 kB 35.8 MB/s eta 0:00:01\r\u001b[K     |████████████████▊               | 819 kB 35.8 MB/s eta 0:00:01\r\u001b[K     |█████████████████               | 829 kB 35.8 MB/s eta 0:00:01\r\u001b[K     |█████████████████▏              | 839 kB 35.8 MB/s eta 0:00:01\r\u001b[K     |█████████████████▍              | 849 kB 35.8 MB/s eta 0:00:01\r\u001b[K     |█████████████████▌              | 860 kB 35.8 MB/s eta 0:00:01\r\u001b[K     |█████████████████▊              | 870 kB 35.8 MB/s eta 0:00:01\r\u001b[K     |██████████████████              | 880 kB 35.8 MB/s eta 0:00:01\r\u001b[K     |██████████████████▏             | 890 kB 35.8 MB/s eta 0:00:01\r\u001b[K     |██████████████████▍             | 901 kB 35.8 MB/s eta 0:00:01\r\u001b[K     |██████████████████▋             | 911 kB 35.8 MB/s eta 0:00:01\r\u001b[K     |██████████████████▉             | 921 kB 35.8 MB/s eta 0:00:01\r\u001b[K     |███████████████████             | 931 kB 35.8 MB/s eta 0:00:01\r\u001b[K     |███████████████████▎            | 942 kB 35.8 MB/s eta 0:00:01\r\u001b[K     |███████████████████▍            | 952 kB 35.8 MB/s eta 0:00:01\r\u001b[K     |███████████████████▋            | 962 kB 35.8 MB/s eta 0:00:01\r\u001b[K     |███████████████████▉            | 972 kB 35.8 MB/s eta 0:00:01\r\u001b[K     |████████████████████            | 983 kB 35.8 MB/s eta 0:00:01\r\u001b[K     |████████████████████▎           | 993 kB 35.8 MB/s eta 0:00:01\r\u001b[K     |████████████████████▌           | 1.0 MB 35.8 MB/s eta 0:00:01\r\u001b[K     |████████████████████▊           | 1.0 MB 35.8 MB/s eta 0:00:01\r\u001b[K     |█████████████████████           | 1.0 MB 35.8 MB/s eta 0:00:01\r\u001b[K     |█████████████████████           | 1.0 MB 35.8 MB/s eta 0:00:01\r\u001b[K     |█████████████████████▎          | 1.0 MB 35.8 MB/s eta 0:00:01\r\u001b[K     |█████████████████████▌          | 1.1 MB 35.8 MB/s eta 0:00:01\r\u001b[K     |█████████████████████▊          | 1.1 MB 35.8 MB/s eta 0:00:01\r\u001b[K     |██████████████████████          | 1.1 MB 35.8 MB/s eta 0:00:01\r\u001b[K     |██████████████████████▏         | 1.1 MB 35.8 MB/s eta 0:00:01\r\u001b[K     |██████████████████████▍         | 1.1 MB 35.8 MB/s eta 0:00:01\r\u001b[K     |██████████████████████▋         | 1.1 MB 35.8 MB/s eta 0:00:01\r\u001b[K     |██████████████████████▊         | 1.1 MB 35.8 MB/s eta 0:00:01\r\u001b[K     |███████████████████████         | 1.1 MB 35.8 MB/s eta 0:00:01\r\u001b[K     |███████████████████████▏        | 1.1 MB 35.8 MB/s eta 0:00:01\r\u001b[K     |███████████████████████▍        | 1.1 MB 35.8 MB/s eta 0:00:01\r\u001b[K     |███████████████████████▋        | 1.2 MB 35.8 MB/s eta 0:00:01\r\u001b[K     |███████████████████████▉        | 1.2 MB 35.8 MB/s eta 0:00:01\r\u001b[K     |████████████████████████        | 1.2 MB 35.8 MB/s eta 0:00:01\r\u001b[K     |████████████████████████▎       | 1.2 MB 35.8 MB/s eta 0:00:01\r\u001b[K     |████████████████████████▌       | 1.2 MB 35.8 MB/s eta 0:00:01\r\u001b[K     |████████████████████████▋       | 1.2 MB 35.8 MB/s eta 0:00:01\r\u001b[K     |████████████████████████▉       | 1.2 MB 35.8 MB/s eta 0:00:01\r\u001b[K     |█████████████████████████       | 1.2 MB 35.8 MB/s eta 0:00:01\r\u001b[K     |█████████████████████████▎      | 1.2 MB 35.8 MB/s eta 0:00:01\r\u001b[K     |█████████████████████████▌      | 1.2 MB 35.8 MB/s eta 0:00:01\r\u001b[K     |█████████████████████████▊      | 1.3 MB 35.8 MB/s eta 0:00:01\r\u001b[K     |██████████████████████████      | 1.3 MB 35.8 MB/s eta 0:00:01\r\u001b[K     |██████████████████████████▏     | 1.3 MB 35.8 MB/s eta 0:00:01\r\u001b[K     |██████████████████████████▎     | 1.3 MB 35.8 MB/s eta 0:00:01\r\u001b[K     |██████████████████████████▌     | 1.3 MB 35.8 MB/s eta 0:00:01\r\u001b[K     |██████████████████████████▊     | 1.3 MB 35.8 MB/s eta 0:00:01\r\u001b[K     |███████████████████████████     | 1.3 MB 35.8 MB/s eta 0:00:01\r\u001b[K     |███████████████████████████▏    | 1.3 MB 35.8 MB/s eta 0:00:01\r\u001b[K     |███████████████████████████▍    | 1.3 MB 35.8 MB/s eta 0:00:01\r\u001b[K     |███████████████████████████▋    | 1.4 MB 35.8 MB/s eta 0:00:01\r\u001b[K     |███████████████████████████▉    | 1.4 MB 35.8 MB/s eta 0:00:01\r\u001b[K     |████████████████████████████    | 1.4 MB 35.8 MB/s eta 0:00:01\r\u001b[K     |████████████████████████████▏   | 1.4 MB 35.8 MB/s eta 0:00:01\r\u001b[K     |████████████████████████████▍   | 1.4 MB 35.8 MB/s eta 0:00:01\r\u001b[K     |████████████████████████████▋   | 1.4 MB 35.8 MB/s eta 0:00:01\r\u001b[K     |████████████████████████████▉   | 1.4 MB 35.8 MB/s eta 0:00:01\r\u001b[K     |█████████████████████████████   | 1.4 MB 35.8 MB/s eta 0:00:01\r\u001b[K     |█████████████████████████████▎  | 1.4 MB 35.8 MB/s eta 0:00:01\r\u001b[K     |█████████████████████████████▌  | 1.4 MB 35.8 MB/s eta 0:00:01\r\u001b[K     |█████████████████████████████▊  | 1.5 MB 35.8 MB/s eta 0:00:01\r\u001b[K     |█████████████████████████████▉  | 1.5 MB 35.8 MB/s eta 0:00:01\r\u001b[K     |██████████████████████████████  | 1.5 MB 35.8 MB/s eta 0:00:01\r\u001b[K     |██████████████████████████████▎ | 1.5 MB 35.8 MB/s eta 0:00:01\r\u001b[K     |██████████████████████████████▌ | 1.5 MB 35.8 MB/s eta 0:00:01\r\u001b[K     |██████████████████████████████▊ | 1.5 MB 35.8 MB/s eta 0:00:01\r\u001b[K     |███████████████████████████████ | 1.5 MB 35.8 MB/s eta 0:00:01\r\u001b[K     |███████████████████████████████▏| 1.5 MB 35.8 MB/s eta 0:00:01\r\u001b[K     |███████████████████████████████▍| 1.5 MB 35.8 MB/s eta 0:00:01\r\u001b[K     |███████████████████████████████▌| 1.5 MB 35.8 MB/s eta 0:00:01\r\u001b[K     |███████████████████████████████▊| 1.6 MB 35.8 MB/s eta 0:00:01\r\u001b[K     |████████████████████████████████| 1.6 MB 35.8 MB/s eta 0:00:01\r\u001b[K     |████████████████████████████████| 1.6 MB 35.8 MB/s \n",
            "\u001b[?25h"
          ]
        }
      ]
    },
    {
      "cell_type": "code",
      "source": [
        "#to get the predicted probabilities, we will apply the softmax function to the output\n",
        "from torch.nn import functional as F\n",
        "F.softmax(model(input_ids, attention_mask), dim=1)"
      ],
      "metadata": {
        "colab": {
          "base_uri": "https://localhost:8080/"
        },
        "id": "JGCdk9W1On86",
        "outputId": "bb3b48a8-e7b6-4c1c-c30c-3e0ba5dbd937"
      },
      "execution_count": 78,
      "outputs": [
        {
          "output_type": "execute_result",
          "data": {
            "text/plain": [
              "tensor([[0.6794, 0.1310, 0.1896],\n",
              "        [0.5492, 0.1406, 0.3102],\n",
              "        [0.4638, 0.1820, 0.3542],\n",
              "        [0.5635, 0.0780, 0.3585],\n",
              "        [0.4649, 0.0871, 0.4480],\n",
              "        [0.4909, 0.1622, 0.3469],\n",
              "        [0.3574, 0.0840, 0.5586],\n",
              "        [0.6849, 0.1235, 0.1916],\n",
              "        [0.5957, 0.1188, 0.2855],\n",
              "        [0.4943, 0.1271, 0.3787],\n",
              "        [0.5706, 0.1035, 0.3259],\n",
              "        [0.5347, 0.0997, 0.3656],\n",
              "        [0.5198, 0.2188, 0.2614],\n",
              "        [0.4359, 0.0895, 0.4746],\n",
              "        [0.7121, 0.1000, 0.1879],\n",
              "        [0.6243, 0.1118, 0.2638]], device='cuda:0', grad_fn=<SoftmaxBackward0>)"
            ]
          },
          "metadata": {},
          "execution_count": 78
        }
      ]
    },
    {
      "cell_type": "code",
      "source": [
        "#train the model\n",
        "import transformers\n",
        "EPOCHS = 10\n",
        "\n",
        "\n",
        "optimizer = torch.optim.AdamW(model.parameters(), lr=2e-5)\n",
        "total_steps = len(train_data_loader) * EPOCHS\n",
        "\n",
        "scheduler = transformers.get_linear_schedule_with_warmup(\n",
        "  optimizer,\n",
        "  num_warmup_steps=0,\n",
        "  num_training_steps=total_steps\n",
        ")\n",
        "\n",
        "loss_fn = nn.CrossEntropyLoss().to(device)"
      ],
      "metadata": {
        "id": "tgOc7QVqQX-Y"
      },
      "execution_count": 88,
      "outputs": []
    },
    {
      "cell_type": "code",
      "source": [
        "from tqdm import tqdm\n",
        "def train_epoch(\n",
        "  model, \n",
        "  data_loader, \n",
        "  loss_fn, \n",
        "  optimizer, \n",
        "  device, \n",
        "  scheduler, \n",
        "  n_examples\n",
        "):\n",
        "  model = model.train()\n",
        "\n",
        "  losses = []\n",
        "  correct_predictions = 0\n",
        "  \n",
        "  for d in tqdm(data_loader):\n",
        "    input_ids = d[\"input_ids\"].to(device)\n",
        "    attention_mask = d[\"attention_mask\"].to(device)\n",
        "    targets = d[\"targets\"].to(device)\n",
        "\n",
        "    outputs = model(\n",
        "      input_ids=input_ids,\n",
        "      attention_mask=attention_mask\n",
        "    )\n",
        "\n",
        "    _, preds = torch.max(outputs, dim=1)\n",
        "    loss = loss_fn(outputs, targets)\n",
        "\n",
        "    correct_predictions += torch.sum(preds == targets)\n",
        "    losses.append(loss.item())\n",
        "\n",
        "    loss.backward()\n",
        "    torch.nn.utils.clip_grad_norm_(model.parameters(), max_norm=1.0)\n",
        "    optimizer.step()\n",
        "    scheduler.step()\n",
        "    optimizer.zero_grad()\n",
        "\n",
        "  return correct_predictions.double() / n_examples, np.mean(losses)"
      ],
      "metadata": {
        "id": "qcE2wrQtUaG_"
      },
      "execution_count": 89,
      "outputs": []
    },
    {
      "cell_type": "code",
      "source": [
        "def eval_model(model, data_loader, loss_fn, device, n_examples):\n",
        "  model = model.eval()\n",
        "\n",
        "  losses = []\n",
        "  correct_predictions = 0\n",
        "\n",
        "  with torch.no_grad():\n",
        "    for d in tqdm(data_loader):\n",
        "      input_ids = d[\"input_ids\"].to(device)\n",
        "      attention_mask = d[\"attention_mask\"].to(device)\n",
        "      targets = d[\"targets\"].to(device)\n",
        "\n",
        "      outputs = model(\n",
        "        input_ids=input_ids,\n",
        "        attention_mask=attention_mask\n",
        "      )\n",
        "      _, preds = torch.max(outputs, dim=1)\n",
        "\n",
        "      loss = loss_fn(outputs, targets)\n",
        "\n",
        "      correct_predictions += torch.sum(preds == targets)\n",
        "      losses.append(loss.item())\n",
        "\n",
        "  return correct_predictions.double() / n_examples, np.mean(losses)"
      ],
      "metadata": {
        "id": "jSXPL2uRVcpk"
      },
      "execution_count": 90,
      "outputs": []
    },
    {
      "cell_type": "code",
      "source": [
        "%%time\n",
        "  \n",
        "from collections import defaultdict\n",
        "\n",
        "history = defaultdict(list)\n",
        "best_accuracy = 0\n",
        "\n",
        "for epoch in range(EPOCHS):\n",
        "\n",
        "  print(f'Epoch {epoch + 1}/{EPOCHS}')\n",
        "  print('-' * 10)\n",
        "\n",
        "  train_acc, train_loss = train_epoch(\n",
        "    model,\n",
        "    train_data_loader,    \n",
        "    loss_fn, \n",
        "    optimizer, \n",
        "    device, \n",
        "    scheduler, \n",
        "    len(df_train)\n",
        "  )\n",
        "\n",
        "  print(f'Train loss {train_loss} accuracy {train_acc}')\n",
        "\n",
        "  val_acc, val_loss = eval_model(\n",
        "    model,\n",
        "    val_data_loader,\n",
        "    loss_fn, \n",
        "    device, \n",
        "    len(df_val)\n",
        "  )\n",
        "\n",
        "  print(f'Val   loss {val_loss} accuracy {val_acc}')\n",
        "  print()\n",
        "\n",
        "  history['train_acc'].append(train_acc)\n",
        "  history['train_loss'].append(train_loss)\n",
        "  history['val_acc'].append(val_acc)\n",
        "  history['val_loss'].append(val_loss)\n",
        "\n",
        "  if val_acc > best_accuracy:\n",
        "    torch.save(model.state_dict(), 'best_model_state.bin')\n",
        "    best_accuracy = val_acc"
      ],
      "metadata": {
        "colab": {
          "base_uri": "https://localhost:8080/"
        },
        "id": "g6aZWakVWAVY",
        "outputId": "6a9597cd-d769-4434-966f-a479d55ceb6f"
      },
      "execution_count": 91,
      "outputs": [
        {
          "output_type": "stream",
          "name": "stdout",
          "text": [
            "Epoch 1/10\n",
            "----------\n"
          ]
        },
        {
          "output_type": "stream",
          "name": "stderr",
          "text": [
            "100%|██████████| 625/625 [04:26<00:00,  2.35it/s]\n"
          ]
        },
        {
          "output_type": "stream",
          "name": "stdout",
          "text": [
            "Train loss 0.5084212434768677 accuracy 0.8006202480992397\n"
          ]
        },
        {
          "output_type": "stream",
          "name": "stderr",
          "text": [
            "100%|██████████| 79/79 [00:11<00:00,  6.84it/s]\n"
          ]
        },
        {
          "output_type": "stream",
          "name": "stdout",
          "text": [
            "Val   loss 0.6312077749001829 accuracy 0.7534027221777422\n",
            "\n",
            "Epoch 2/10\n",
            "----------\n"
          ]
        },
        {
          "output_type": "stream",
          "name": "stderr",
          "text": [
            "100%|██████████| 625/625 [04:27<00:00,  2.34it/s]\n"
          ]
        },
        {
          "output_type": "stream",
          "name": "stdout",
          "text": [
            "Train loss 0.3882163167774677 accuracy 0.8582432973189277\n"
          ]
        },
        {
          "output_type": "stream",
          "name": "stderr",
          "text": [
            "100%|██████████| 79/79 [00:11<00:00,  6.84it/s]\n"
          ]
        },
        {
          "output_type": "stream",
          "name": "stdout",
          "text": [
            "Val   loss 0.7062068440114395 accuracy 0.7469975980784627\n",
            "\n",
            "Epoch 3/10\n",
            "----------\n"
          ]
        },
        {
          "output_type": "stream",
          "name": "stderr",
          "text": [
            "100%|██████████| 625/625 [04:27<00:00,  2.34it/s]\n"
          ]
        },
        {
          "output_type": "stream",
          "name": "stdout",
          "text": [
            "Train loss 0.2890338962517679 accuracy 0.9015606242497\n"
          ]
        },
        {
          "output_type": "stream",
          "name": "stderr",
          "text": [
            "100%|██████████| 79/79 [00:11<00:00,  6.88it/s]\n"
          ]
        },
        {
          "output_type": "stream",
          "name": "stdout",
          "text": [
            "Val   loss 0.8728460697810861 accuracy 0.7341873498799039\n",
            "\n",
            "Epoch 4/10\n",
            "----------\n"
          ]
        },
        {
          "output_type": "stream",
          "name": "stderr",
          "text": [
            "100%|██████████| 625/625 [04:27<00:00,  2.34it/s]\n"
          ]
        },
        {
          "output_type": "stream",
          "name": "stdout",
          "text": [
            "Train loss 0.22219764642249792 accuracy 0.933873549419768\n"
          ]
        },
        {
          "output_type": "stream",
          "name": "stderr",
          "text": [
            "100%|██████████| 79/79 [00:11<00:00,  6.85it/s]\n"
          ]
        },
        {
          "output_type": "stream",
          "name": "stdout",
          "text": [
            "Val   loss 1.1444484949630649 accuracy 0.7493995196156925\n",
            "\n",
            "Epoch 5/10\n",
            "----------\n"
          ]
        },
        {
          "output_type": "stream",
          "name": "stderr",
          "text": [
            "100%|██████████| 625/625 [04:27<00:00,  2.34it/s]\n"
          ]
        },
        {
          "output_type": "stream",
          "name": "stdout",
          "text": [
            "Train loss 0.1718783676687628 accuracy 0.9510804321728692\n"
          ]
        },
        {
          "output_type": "stream",
          "name": "stderr",
          "text": [
            "100%|██████████| 79/79 [00:11<00:00,  6.86it/s]\n"
          ]
        },
        {
          "output_type": "stream",
          "name": "stdout",
          "text": [
            "Val   loss 1.368263933854767 accuracy 0.733386709367494\n",
            "\n",
            "Epoch 6/10\n",
            "----------\n"
          ]
        },
        {
          "output_type": "stream",
          "name": "stderr",
          "text": [
            "100%|██████████| 625/625 [04:27<00:00,  2.34it/s]\n"
          ]
        },
        {
          "output_type": "stream",
          "name": "stdout",
          "text": [
            "Train loss 0.12337604128755629 accuracy 0.9673869547819128\n"
          ]
        },
        {
          "output_type": "stream",
          "name": "stderr",
          "text": [
            "100%|██████████| 79/79 [00:11<00:00,  6.77it/s]\n"
          ]
        },
        {
          "output_type": "stream",
          "name": "stdout",
          "text": [
            "Val   loss 1.4752197618348688 accuracy 0.7429943955164131\n",
            "\n",
            "Epoch 7/10\n",
            "----------\n"
          ]
        },
        {
          "output_type": "stream",
          "name": "stderr",
          "text": [
            "100%|██████████| 625/625 [04:29<00:00,  2.32it/s]\n"
          ]
        },
        {
          "output_type": "stream",
          "name": "stdout",
          "text": [
            "Train loss 0.08852970348042435 accuracy 0.975890356142457\n"
          ]
        },
        {
          "output_type": "stream",
          "name": "stderr",
          "text": [
            "100%|██████████| 79/79 [00:12<00:00,  6.12it/s]\n"
          ]
        },
        {
          "output_type": "stream",
          "name": "stdout",
          "text": [
            "Val   loss 1.6552068760877923 accuracy 0.7405924739791833\n",
            "\n",
            "Epoch 8/10\n",
            "----------\n"
          ]
        },
        {
          "output_type": "stream",
          "name": "stderr",
          "text": [
            "100%|██████████| 625/625 [04:27<00:00,  2.33it/s]\n"
          ]
        },
        {
          "output_type": "stream",
          "name": "stdout",
          "text": [
            "Train loss 0.0747128479345236 accuracy 0.9804921968787516\n"
          ]
        },
        {
          "output_type": "stream",
          "name": "stderr",
          "text": [
            "100%|██████████| 79/79 [00:11<00:00,  6.87it/s]\n"
          ]
        },
        {
          "output_type": "stream",
          "name": "stdout",
          "text": [
            "Val   loss 1.7569115695696842 accuracy 0.7357886309047237\n",
            "\n",
            "Epoch 9/10\n",
            "----------\n"
          ]
        },
        {
          "output_type": "stream",
          "name": "stderr",
          "text": [
            "100%|██████████| 625/625 [04:27<00:00,  2.34it/s]\n"
          ]
        },
        {
          "output_type": "stream",
          "name": "stdout",
          "text": [
            "Train loss 0.06333506968347356 accuracy 0.9828931572629053\n"
          ]
        },
        {
          "output_type": "stream",
          "name": "stderr",
          "text": [
            "100%|██████████| 79/79 [00:11<00:00,  6.82it/s]\n"
          ]
        },
        {
          "output_type": "stream",
          "name": "stdout",
          "text": [
            "Val   loss 1.8174322070200233 accuracy 0.7373899119295436\n",
            "\n",
            "Epoch 10/10\n",
            "----------\n"
          ]
        },
        {
          "output_type": "stream",
          "name": "stderr",
          "text": [
            "100%|██████████| 625/625 [04:27<00:00,  2.34it/s]\n"
          ]
        },
        {
          "output_type": "stream",
          "name": "stdout",
          "text": [
            "Train loss 0.056650532577512784 accuracy 0.9848939575830333\n"
          ]
        },
        {
          "output_type": "stream",
          "name": "stderr",
          "text": [
            "100%|██████████| 79/79 [00:11<00:00,  6.86it/s]"
          ]
        },
        {
          "output_type": "stream",
          "name": "stdout",
          "text": [
            "Val   loss 1.858646572390689 accuracy 0.7389911929543634\n",
            "\n",
            "CPU times: user 32min 2s, sys: 13min 43s, total: 45min 45s\n",
            "Wall time: 46min 34s\n"
          ]
        },
        {
          "output_type": "stream",
          "name": "stderr",
          "text": [
            "\n"
          ]
        }
      ]
    },
    {
      "cell_type": "code",
      "source": [
        "test_acc, _ = eval_model(\n",
        "  model,\n",
        "  test_data_loader,\n",
        "  loss_fn,\n",
        "  device,\n",
        "  len(df_test)\n",
        ")\n",
        "\n",
        "test_acc.item()"
      ],
      "metadata": {
        "colab": {
          "base_uri": "https://localhost:8080/"
        },
        "id": "FkN3cXhxeiXR",
        "outputId": "89e385d4-8c4f-45d4-af4b-7fc5e13e2928"
      },
      "execution_count": 93,
      "outputs": [
        {
          "output_type": "stream",
          "name": "stderr",
          "text": [
            "100%|██████████| 79/79 [00:10<00:00,  7.29it/s]\n"
          ]
        },
        {
          "output_type": "execute_result",
          "data": {
            "text/plain": [
              "0.7376"
            ]
          },
          "metadata": {},
          "execution_count": 93
        }
      ]
    },
    {
      "cell_type": "code",
      "source": [
        "def get_predictions(model, data_loader):\n",
        "  model = model.eval()\n",
        "  \n",
        "  review_texts = []\n",
        "  predictions = []\n",
        "  prediction_probs = []\n",
        "  real_values = []\n",
        "\n",
        "  with torch.no_grad():\n",
        "    for d in data_loader:\n",
        "\n",
        "      texts = d[\"review_text\"]\n",
        "      input_ids = d[\"input_ids\"].to(device)\n",
        "      attention_mask = d[\"attention_mask\"].to(device)\n",
        "      targets = d[\"targets\"].to(device)\n",
        "\n",
        "      outputs = model(\n",
        "        input_ids=input_ids,\n",
        "        attention_mask=attention_mask\n",
        "      )\n",
        "      _, preds = torch.max(outputs, dim=1)\n",
        "\n",
        "      probs = F.softmax(outputs, dim=1)\n",
        "\n",
        "      review_texts.extend(texts)\n",
        "      predictions.extend(preds)\n",
        "      prediction_probs.extend(probs)\n",
        "      real_values.extend(targets)\n",
        "\n",
        "  predictions = torch.stack(predictions).cpu()\n",
        "  prediction_probs = torch.stack(prediction_probs).cpu()\n",
        "  real_values = torch.stack(real_values).cpu()\n",
        "  return review_texts, predictions, prediction_probs, real_values"
      ],
      "metadata": {
        "id": "hMKV4tcoeybV"
      },
      "execution_count": 94,
      "outputs": []
    },
    {
      "cell_type": "code",
      "source": [
        "y_review_texts, y_pred, y_pred_probs, y_test = get_predictions(\n",
        "  model,\n",
        "  test_data_loader\n",
        ")\n",
        "print(y_review_texts)"
      ],
      "metadata": {
        "colab": {
          "base_uri": "https://localhost:8080/"
        },
        "id": "qEv7KtFhe4dd",
        "outputId": "fcfff2c0-3db5-4b83-8d7a-016e9e25dceb"
      },
      "execution_count": 97,
      "outputs": [
        {
          "output_type": "stream",
          "name": "stderr",
          "text": [
            "/usr/local/lib/python3.7/dist-packages/torch/utils/data/dataloader.py:566: UserWarning: This DataLoader will create 4 worker processes in total. Our suggested max number of worker in current system is 2, which is smaller than what this DataLoader is going to create. Please be aware that excessive worker creation might get DataLoader running slow or even freeze, lower the worker number to avoid potential slowness/freeze if necessary.\n",
            "  cpuset_checked))\n"
          ]
        },
        {
          "output_type": "stream",
          "name": "stdout",
          "text": [
            "['Good', 'Subscription based calendar, immediately uninstall it', 'Easy to use. No dramas. Very streamline for basic list use.', \"Idk if it's my phone or this app, but I can't get it to work properly ever since I got a new phone. The allow apps feature should only allow a few apps to be used but when that's turned on I can access all apps regardless of the list making it pretty useless. I allowed everything for this app in my phone's settings but still no change. Disappointing since I used to love this app.\", 'Just what I needed', 'I am currently in the free trial period. I have been in constant contact with Tech Support as my calenders wont sync. Technology support have been wonderful but too difficult for me to sort out with the time differences. The app on the mobile is slow to update changes. I love the colours and writing but functionally it is a bit sluggish for the price. I am still considering continuing once the trial is over but not sure.', 'Very helpful for visualizing your day/time commitments. This has helped me to better manage my time and stay productive longer than I used to do on a traditional calendar.', 'An awesome app', 'Changes in app function have resulted in consistent missed tasks and \"support\" provides condescending replies regarding the issue.', 'Cant log in after an uninstall. When i press log in i get a pro pop up. But i already have pro. Just let me log in!!!!! Furthermore it just gives me an error when i try to restore purchase. Incredibly disappointed. Loved the app but now i feel robbed. Please fix', 'Wonderful app with nice visual hierarchy, but now ads take over the entire screen', \"Can't turn off notifications. It will keep ringing. Idk if I'm missing something. But I love the app but if I cant figure this out might uninstal\", 'Nope. Nope. Nope.', \"Using the free version and it's easy, intuitive, and highly flexible...It reflects just what I want to track for five different tasks each week (from simple task tracking of daily meditation to more complex tasks like 3x a week business actions where I log time spent on these actions and notes too!) I've already recommended it.\", 'bad', \"the new update has removed the repeat task option I don't know where to find it\", 'Good', \"Couldn't even create a log in.\", 'Excellent planner', \"Enjoying the app, but can't figure out how to get it on my Galaxy Active 2 watch. Whenever I try to find the app for it, I get directed to the phone app.\", \"So far, it's okay as task apps go. I'm a Wunderlist refugee because Microsoft bought them out (and they destroy everything). Perhaps Tick Tick will grow on me. We'll see.\", 'Great idea, but.. I liked this concept and could see how it could definitely help, but some bugs to be worked out and in some place over complicated. Main issue for me was the reminders didn\\'t work on android (galaxy s8) which made this unusable. Also struggled to understand the difference between \"habits\" and \"dailies\".', 'Wish for larger text. Difficult to read.', 'Very poor customer support despite being a paid subscriber. Strongly recommend against this app. Not able to sync across devices and there was no response despite sending mails.', \"It's a good app, but it would be better if more optiosns were added in the \\nrepeat section, like being able to choose the repeat to occur every \\nsecond/third/etc day/week/etc\", 'Extremely easy to use with excellent visual cues.', 'Better app But app do not play sound but give a single notification no alarm(song which I chose to play do not worked) Can you help me with that please .....', '👎', 'Missing the widget for iOS A to-do/reminder app is incomplete without a widget. Otherwise 5 stars.', 'Would be nice to have the ability to add more tabs......', 'Pe rfect management', 'I bought the allegedly better version it worked for about a month. I had all my scheduled stuff about 6 months and all of a sudden the disappeared which sucks.', 'The last updated is so bad 😔 i used to use forest about 2y and now i uninstall it im so sad cuz its been like my friend and do help me alot in terms of studying i cant buy the pro version bye bye forest 💔', \"WORST APP EVER! Because there is no reminder bell things, I think there is but it DOESN'T WORK! I can't even remember that I have this app! With reminder thing will be better. I SPENT TWO HOURS TO WRITE MY ROUTINE PLAN, AND I THOUGHT THERE IS REMINDER! IT'S NOT EASY TO USE THIS APP TOO! I AM DELETING THIS USELESS APP IMMEDIATELY! ALARM DOESN'T WORK AT ALL!! HOW DISAPPOINTING. 😠😠\", \"I really like this app I find the the way it presents the data in a clock face with countdowns to your EVENTS very useful. The one drawback for me is that it doesn't integrate with Google Tasks or Reminders. This means that everything you want to see needs to be created as an event. This is not a massive deal but I do like the convenience of tasks over events. The widget sometimes loses synchronisation with the clock and shows a different time than the actual time.\", 'Perfecto', \"I prefer to use apps in portrait mode on my 7 inch phone/tablet (Huawei Mediapad X2, 1920*1200). When the keyboard pops up while adding a task, I can barely see what I'm typing because the screen height is greatly reduced in landscape.\", \"I love this app. It's like my own pocket-PA. I make notes on habits and when I go back to view, they're not in chronological order. They're ordering by the day of the month regardless of what the month is (DD/MM/YY) e.g. 03/07/2020 then 04/03/2020 then 05/06/2020. I'd change it to Y/M/D but can't see how to. I'll give 5 stars anyway because it is a great app despite this minor but annoying glitch. Is there any way to edit the habits, such as to change the days? I can't find a way to do that.\", \"It would be better if there are more options for customising the avatar and theme which is in purple. You will need to spend money for a decent background. The avatar is pixelated and doesn't look good. Getting a bit bored of it now.\", 'I wish one could back up his habits, otherwise it a good & straight forward app', 'Good', 'Eu amo este aplicativo e uso sincronizado com o meu google calendar. Porem de um tempo para cá, mesmo com a configuraçao para manter no google calendar as tarefas ja executadas no todolist, o evento do google calendar some. Podem verificar? Era muito importante pra mim que os eventos continuassem no google calendar. Minha versao nao é premium e estava pensando em comprar. Estou com medo de comprar e continuar assim. Obrigada!', 'Require notification and messaging features in the app', 'Why Do I have to sign In again even tho I did not even log out in the first place It is very Inconvenient for a to do list', 'No quotes', 'Nice app', \"Phone: Samsung Galaxy J7 Star I just started using the app. I'll upgrade or downgrade accordingly.\", \"My settings kept on changing ever time I reopen the app. For example, fear is set to zero, when I open the app again, fear is set to 80. Why? Please fix this. It's getting tiresome to re-do the settings over and over.\", \"It's overall very nice but small things keep frustrating me. One particular thing is Why can't you add reminders for custom days? Why pick a specific day?\", \"I have been using this app for many years. Definitely one of the best calendar apps for Android. Unfortunately, too big desire for monetization of the app won. Full screen ads which you cannot close are now popping up after adding events and more. Such a big disappointment! You can of course purchase the app but for me it doesn't add any more value as I don't use pro functions. I guess it's time to switch to Google's native app.\", \"A today button would be helpful in the week view widget, so that you don't have to scroll back. And also the possibility to add more accounts. Are these features available in the pro version? Maybe the possibility to try it  for a short period of time...\", 'Its very helpful', 'MoneyGrabber Wants you to pay premium to choose specific dates.', \"You'd thing MS can come up with something better. Very basic. You can't view tasks in your calendar. You can specify task start and end time. Recurring tasks sometimes don't respawn properly.\", 'I have been liking it!', \"Beautiful interface but it is very annoying to navigate and not fluid. Creating reoccurring tasks seems to be a pain. Not sure if it's me or the app, but I kept having to change the time 2-3 times to get the correct times reoccurence. Grocery list is awesome. The calendar looks like Google calendar which is nice but it is choppy to navigate.\", 'this app not sending me any notification.', 'Full screen ads...', 'No reminder alert for free version.', \"Doesn't respect silent mode.\", 'I like the app so far. Good game changer.', 'Pretty good, but too expensive', \"I LOOOVE this app! It would give 5 stars, if only it would work😦. It's \\nbeen bad for crashing for months, but I put up with it because I use it so \\nmuch. With the last update thigh, it's even worse. I can't put the widget \\non my phone, it crashes everytime I try, it doesn't give me my reminders \\nand crashes half the time I try to use it! Please fix and I'll give 5 \\nstars!!!\", 'Sehr hilfreich.', 'Lots of In-app purchases ... Not worth the time .', 'Very good for managing tasks and very efficient in collaborating with others', 'Till now, the experience is quiet amazing, honestly I became more organized using this app', 'Love this planner pro. It reminds you if you put hrs or mins before appointment. Great app', 'Nice p', 'Great app. Very stable so far.', 'Simple to understand and use', 'Been using this app for for years now and I really love it and help me organize stuff/schedules.', \"There's no option to export my task list if I want to migrate to another app. Or just dump my task data into a CSV. I'm out of todo to avoid getting locked in. Google is less evil that way. I can move out of its ecosystem any time I want and export all my data.\", 'Nice app', 'Amazing app! Just one suggestion please please add feature of setting time in subtasks as well. It would be a really great feature making the app more wholesale!!', \"Now that you have to upgrade to a paid version to earn most items, there's a lot less motivation.\", 'Excellent', 'The app glitches a lot. It\\'s the oddest thing, I will be setting an important appointment time for a day in June, but it will randomly place my appointment in September. I was trying to figure out what day of the week an event want going to be on, and I was looking at the September 2017 page but it was showing me dates for October 2017 even though it said \"September\" at the top. This has happened multiple times and I\\'ve missed 2 appointments in the past momth because my dates were not saved in the correct spot or not at all.   I do not reccomed this app even if you\\'re desprate.', \"Why is it being linked with my google calendar or phone calendar? I don't want this private app to access my Google calenders and phone calender. Instead you should have just added the feature of adding tasks within the app. I'm deleting this. The UI is great. But I don't want you to link with my private apps.\", 'very helpful', 'app maybe okay, but its very confusing to understand. I have tried about 30 min to set a simple task for a particular date, but it doesnt show up anywhere. So, i will keep looking for a more simplyfied app. Sorry.', 'I downloaded this planner app for a secondary use. It completely wiped out everything in my phone calendar which is primary!', 'this app would be 100x better if it incorporated some of the editting/customizing functions of the other to-do-list apps out there. i want to be able to strike through each of the to do items and view deleted/archived/completed items. be able to choose colors etc ..', 'Why do you need personal information?? Deleted.', 'Absolutely terrible. Most unless app I have downloaded, to date.', \"I've used this app for years and have loved it up until now. Now I get full page ads that sit there for 5 seconds and disrupt what I'm doing. I don't mind a full page ad that I can back out of or scrolling ads at the bottom, but to force me to watch a 5 second ad is not reasonable. Seems like they're forcing you to pay up or move on to another app. If this continues I'll find another app.\", 'Easy to use', \"I downloaded this app because it's one that syncs with our smart speaker. However, I have recurring tasks, some of which are daily and that option does not work at all. It works are far as setting them up goes. Once I mark a task as done it skips the next due date. So my daily tasks are only showing up every other day. Not happy with that at all. I am in the process of finding another app ASAP!\", 'kinda sus that they made almost all of the trees and plants premium.. they really wanted people to go pro so that they can unlock new trees and plants.. this new update is honestly so unmotivating', 'Good', 'Basic features like comments and tags are behind a subscription wall', 'Muy buen app, el servicio es adecuado para ser gratuito', 'graphics', \"You can't even look at your schedule in the weekly view without paying their $5/yr subscription. Trash.\", \"It's a cool way of getting at a glance your schedule. The theme could be more colorful\", 'I wanted an app for easily sharing grocery shopping lists with my partner. I shared the list with her, nothing came through and the app told me to upgrade to premium. No thanks - will pass.', \"Such a bad experience. I bought the app and now it says they can't find my email id in their database. I am trying to reach them for 4 days. No response. just automated mails. so pathetic.\", 'great app', 'I think its a great app, although I do have one suggestion. After completing a task, especially for the day, maybe it would be more motivating to cross it out and keep it there, so that one could see how many tasks they have completed till then and how much they have left.', \"So far this seems super cool! I'm excited to try it more and leave a more informed review!\", '2 stars right now because all my appointments are gone before 2018!', 'Fazol app', \"Doesn't sync well and has left me out of meetings.\", 'Excellent clean calendar app.', \"I really like this app for the most part, but I really don't like how the month view in-app and on the widget don't actually list out what you have on that day, just colored dots. Would really like to be able to have this since I paid for the Pro version, please consider!\", 'Excellent app', 'Fantastic app.... I have tried many other productivity app and used to find it difficult to follow them every day. After I switched to this app.. it became all fun and I am getting motivated to complete the tasks as I earn rewards Suggestion to developer: I use browser version more than mobile app. please add reminder feature to browser version as well. Also please add auto date parser while adding the task. It will save a lot of time in entering the task. You ca take reference from ticktick app', 'Bery guud hahayes!', \"App has definitely improved since my last review! more social features would be really cool. i am subscribed and i would love to see where this app takes off. i have noticed recent stability issues when i'm on the app for a prolonged period. not sure if it's related to the amount of tasks i have, as i use this app for basically all my tasks, including birthdays. the app will slow down and nearly crash after awhile. otherwise, this is still my go-to! 4 stars again!\", 'Great app', 'not what I wanted. wanted a timeline.', \"It's got a steep learning curve. And I don't think it's got good Documentation & help [FAQs].\", 'The widgets keep disappearing from my home screen Response to dev: I use both the \"BC2 - Day Pro\" and the \"BC2 - Week\" widgets and they both will disappear randomly (and at the same time, not separately). I am using Nova Launcher; I have other widgets which do not ever disappear on their own. EDIT response to dev: I\\'m trying with the stock launcher now, but sometimes it will take a day, sometimes a couple weeks', 'Star', \"I paid for it so I could track more habits......love it. Always works good,it's colorful and motivating\", \"For some reason, the widget tends to switch list at random. I'd like to see the option to set a default list in the widget as well as location based reminders.\", 'I don\\'t know if anyone else is experiencing this, but the app glitches CONSTANTLY with Chrome OS. Whenever I flip to \"My Day,\" the suggested tasks flicker on the screen and make using the app impossible. I used it on my Android phone and previously on my Macbook with no problem. I loved the \"My Day\" function and am loathe to switch to a different app, but I don\\'t think I have a choice.', \"I love the idea of it, but currently it's far too complicated for me to use. I'd love it very much if all the setting rewards and gained skills was a little easier to do.\", 'I have a problem staying off my phone, and this gives me the stimulus to stay off and get to work. I do appreciate it.', 'Nice app', 'App is pretty good but everytime I add an item to my to-do list or habits etc it goes back to the party tab. So annoying to go back to tasks every time I add something', \"Nice widget, and I don't mind a few ads, but persistent ads are annoying. When I get annoyed, I tend to rather go somewhere else, than becoming a paying customer.\", 'uninstalled once i realized there are ads and it wipes your current Google calendar.', 'Amzing app', 'It os the best app I ever had. It is wonderful. I love it!!!!!🤘🏿🤘🏿🤘🏿🤘🏿🤘🏿🤘🏿🤘🏿🤘🏿🤘🏿🤘🏿😀😀😀😀😀😀😀😀', 'Does not synchronise, between devices or users', 'ridiculously complicated', 'Good', 'Exceptional. Flawless. Absolutely has to be the best calendar out there. Have been using and enjoying for 7 years or so. Buy the Pro version. You will love it.', 'Incredibly disappointed with the new update. This app used to be visually pleasing because of the vast variety of trees, but now you have to pay for every good aspect of this app. While I understand the developers need (and deserve) money, there is a limit.', 'Nice looking', 'I love this app!', \"I love this app for easily tracking my habits to work towards personal goals. There's only two things that could make this app better: being able to disable decimals on specific habits (to count full numbers would be great as you do sets of a workout and make updating the count easier) and not losing the progress of a goal if you change the specifications to meet it (like going from doing 10 to 20 pushups a day and not losing the streak from before the change was made).\", 'Somehow just cleared my entire schedule', \"I tried the free version. I liked the way, that you are writing the day to remind you and it set itself, but the free version doesn't support calendar and for me this is a big minus. I prefer to use Google task app, that signs up with calendar and reminds you for the task.\", 'Great tool for visualy keeping your schedule at the front of your mind! With my ADHD i suffer from time blindness and this tool coupled with agressively scheduling time to update my calander makes a great way to keep track of what i need to do and when.', \"I really like this app. It's easy to use and has really helped me keep a routine.\", 'A good one to go with especially with your study time table.', \"Bring back Wunderlist! This app has failed to link lists over and over. We find ourselves trying to relink lists, but it still doesn't work. Since this has changed from Wunderlist, it's a huge disappointment. Find a better app. Also, you can't silence it when someone is checking off a linked list (when it does work). Super annoying. I expected more from Microsoft.\", 'Worked well for my purposes', 'The ios app is lot better than this. please improve it as soon as possible.', 'Really frustating configuration...', \"latest update has not fixes bugs that occur every day.frustrating to use.sometimes it won't save,will just have a loading loop.Some basic things are not customizable like the calendar starting on Monday or the date format ,doesn't keep track of activity data correctly . Please focus on getting the app to work instead of focusing on superficial appearance! was thinking of paying for a subscription but what's the point if the money will not go towards making the app usable & less temperamental?\", \"24 hrs shouldn't be extra cost, can't import from my Google calendar and too many left and right arrows, confusing, too few colours for the sectors.\", 'Love it - wanted an app to combine Apts & Tasks from Google, with good widgets - does that & more❣', 'great concept', 'Unable to restore,app version mismatch? I just download the app and then i make a backup copy then, uninstall and restore it back again and that what it says. Please do fix it and also make some Auto backup or Auto save features', 'Any chance of getting a widget for the calendar????? Love the dark mode!', 'nice', 'Worst app I qm trying to create acount with gmail but it say no internet connection Even my internet work fine every thing working nicely even you tube without lagging', 'Life is like a video game. The free version: very detailed organization with a clean look, but well worth the time it takes to figure out.', 'Es buena para aser mis abitos y mis tareas tiene muchas occiones', 'Perfect', 'Excellent app. Very easy to use!', 'Aungwaioo', \"I added an ad blocker, and now my habits won't activate reminders. I paid for this app, I shouldn't have to allow special ad access.\", 'Good fucus att study download it now', 'Nice', 'Useful app', \"Brilliant App! Bad for Dyslexia, Irlen Syndrome, Accessibility - WHITE COLOUR IN TASK BOXES. Please remove or give option to change the white colour fill in task boxes. Even if the white task boxes are grey would be better - but ideally option to change colour fill. White background and black text is terrible for Accessibility - Dyslexia, Irlen Syndrome, Eye Strain and Migraines. I'm desperate to use this app and love the coloured page background. But the white task boxes fill the screen!\", 'not flawless, but works, motivating.', \"The interface is not very intuitive but does more than a satisfactory job once you get used to it. I'd like to see a more colourful home page and more theme options and the option to connect to Google Calendar, clock, Microsoft Your Phone, etc. Overall solid app for daily use\", \"Excellent app in all ways...one thing that I could suggest is that we can add things in-between instead of the new items always going to the top or bottom...(other apps have this feature) ,but I would definitely recommend this...it even let's you color code what is important :) Thank you. :) Great app. :)\", \"Great 'to do' app, attractive and clear\", \"From all possible options I've tried out, this has most awkward and unintuitive interface.\", 'Excellent for business meeting', 'Many seconds of full screen commercials when saving new events. Earlier versions were much better, now I need to use another calendar as this is too annoying.', 'Its good for making lists, but if you want reminders or other features you need to upgrade to premium, its just not for me', \"Love your hard work. But it's there a widget? With the calendar open?\", 'Great app. Fun to use. Would have given it 5 stars if you could take 5 min break on the same plant then continue growing it I like working with the pomodoro method', \"Wonderful app! Really helps me to work on what's important!\", 'Wish it didnt have to connect to the calandar. I wanted to keep my phones calandar widget separate from this but its impossible. Disappointing.', 'Nice', \"Great app!    Help,  I unfortunately forgot my password (I was very sure it's correct but I'm not sure why it says it's wrong). Is there anything that can be done about it?\", 'Nice app super cool I am impress And subscribe slay point', \"I'm very sorry I bought the full version so quickly. The only benefit I found so far, is the ability to add more than 7 habits. I couldn't find a report that would provide information about my success and pinpoint areas that I seem to regularly miss. I was drawn to the simple UI but will probably write this off as a waste of money and return to Daily Tasks.\", 'Mediocre Replacement This app is supposed to be taking the place of other list and to do makers, but it does not. This app builds Check-off lists. Nothing more, no matter how they try to dress it up. In the immortal words of Sarah Palin, \"Putting lipstick on a pig....\" This only makes check-off lists. You can\\'t make a list with numbers or dots or dashes. You can\\'t alphabetize it other than having still be a check-off list. Looking for another app. This one truly Microsoft sucks.', 'Needs a lot more sophistication', 'I wish I could control the reminders for my tasks more. Like the volume or what noise it makes. Other that that the app is great for keeping track of things that need to be done.', \"Terrible can't control whether things repeat it not and a study task is automatically a habit? Stupidly paid for the premium upfront. Agree with others that idk where 4.6 came from.\", 'Good', \"This app has some major problems. It seemed to work fine for the first day of running. After the first day no reminders were executed. Any game armor or weapons could never be equipped. it appeared you could equip them but once you left the screen they become unequipped and they never showed up on the avatar. I mainly got this app for productivity and since the reminders do not work I'm not certain I'm going to continue using it unless these problems are fixed.\", 'Amazing App!!! But still you guys need make a lot of changes in UI for eg: I am unable to decide how much coins should i get with one positive And all task should reset at a specified time by user', '2018 Better than Any.do in managing tasks since they integrated Pomodoro. You dont spend alot of time in it to manage your tasks and thats a good thing. You spend your time actually doing your tasks. Todoist are just too complicated, and Wunderlist are too simple. 2020 Update. Still the best out there. Even with the new Microsoft Todo, this one does adapt to your own workflow. This is also perfect for 1 to 2 person team, or consultants.', 'very good app', 'Nested can be improved', 'Stupid app dirty app not at all useful. The ones who made this app might be fools. I created a routine but it doesnt show any pop up . Stupid app', 'Much easier to read than Google calendar', 'Nice app for time management', 'Missing grocery list widget and quantity for grocery list items!!!', 'Great tool', \"it is a good app i must say !!but it doesn't work properly for this reason i had uninstalled it!!\", 'I love it! Incredibly customizable. Keeps me on track to do the things I want to do!', \"I love this app, but it sucks that I can only use it on my phone. I'd give it a 5 if I could a) use a desktop version of the app as well; b) sync tasks with Wunderlist;  and c ) sync reminders from Google Calendar as tasks on Planner Pro.\", \"I got this because you cant set voice reminders in cortana anymore. But you cant set them in this app either. Confusing layout and doesn't have the functionality of a personal. assistant. Trash.\", 'I hate this app 😡😤😤 as soon as I downloaded it my phone was hanging 😠😠😠😡😠😡 😠', 'Love it ... Recently buy pro version ❤️', 'Literally half the features under premium can be found free with other apps.', \"It's notification tune is frequency low\", 'Failed to connect to Facebook', 'Constant connection drop outs. Will update review when this is fixed.', 'I love this app!! My family can add things to grocery list from there phones as we run out! Also, great for when I am in the store as well. We can also monitor when chores are being done!', 'Actually for once in my life am getting stuff done lol', 'I should have looked through \"most recent\" instead of \"most relevant\" reviews. It\\'s far too limited for me in it\\'s free state and I\\'m not interested in paying for a subscription just to unlock what should be basic functionality in a to do list app.', 'It would be a very good choice for those who want a daily base motivation to make your way to build on the habbit..try not to break the streak of your habbit goals at any cost from which you can gain the max from this app . Well built interface with motivational images loved it❤', 'its above average', \"This app is pretty cool and I'm trying to get used to be but geez its so difficult to just create the list of repeatable tasks I want to have. There's a today, tomorrow, important section and depending on how you choose to set up your tasks they might not be on any list. It's super confusing and aggrivating.\", 'The pop-up advertisements make the free version impossible to use. I will be forced to change to a different app after years of use', 'Lack of reminder in free version', \"I can't create an account\", 'Please make the possibility to set my own wallpaper in the app, because your pictures low resolution and they a little bit bad', 'Customizable and syncs nice across all our devices.', 'Best !!!!!', \"Very confusing, I couldn't even set a daily reminder.  Edit: to have a daily reminder, I need to create a routine, set number of days (whatever that means) to 1, open it, add an activity, create a new tag for it (cause I can't just give it a simple name), then go back and enable the routine. That's EXTREMELY confusing as for a simple thing like this. Don't want to do this again.\", \"Great idea. Very slick. But when some appointments appear and some don't  when added correctly from inside the app with add events there is something wrong. Can see them on the calendar but not on the widget.\", 'Been using it for years and planning everything in this app - from work to home payments. As a premium user I really enjoy the lightning fast support, which solves the rare issue that might occur. Five stars!', \"aCalendar > Business Calendar > Tiny Calendar > Tick Tick Pro aCalendar's design, featurr and logic is from 2004 Business Calendar is better but still stupid and feels like from 2010 Tiny Calendar really improves from the 2 above. Nice modern design and good drag/drop feature but still suffers the same wrong logic and bad design as Business Calendar. Tick Tick is the modern calendar that wins because its designed with modern logic designed with proper modern features. Less touchpoints and jus\", 'A must have', \"The events are getting auto dismissed after the end time. I don't even see a setting option to remove this behavior.\", 'I like the concept, and the free version is passable, but it seems like a lot of features are locked behind the pay version. I may end up purchasing, not sure yet.', \"Tried to share a list with my husband but it won't share between my Office account and his Personal account. It's a show stopper.\", 'Very good. And has all the options that you need. It seems they have thought of everything. I would recommend this app.', 'Easy to navigate', 'Gd', \"Doesn't sync with Google calendar. The one thing it's supposed to do and it failed.\", 'Really great app that works very well. Unfortunately I have to give one star because of the poor customer service. I would love to purchase the pro version but I was having issues, so I reached out months ago, and there was no response. Please fix this, I would like to support your app but this is not good at all.', 'Awesome App.... BUT, soo many bugs!!', 'Perfect for time management', 'Awesome app. Wish had auto sort feature of priority task like Franklin planner use to have.', 'Still learning the app but so far, so good. Dànko 🤘🏿', 'I love it 😍', 'This app has been helpful to me in focusing. I wish it has a \"break mode\". Nevertheless, I am happy with the app and I look forward to my Forest.', \"I don't friggin know yet. I JUST installed it. Note. I haven't spent any time on it!\", \"Seriously? How did it get a 4.8? I can't even find an add button anywhere??? Unless i go to the top left corner? Nah. Not for me\", 'I love this app.  I have always been a Franklin Covey planner gal and this is similar to the paper planner.  Great search function.', 'Awesome', \"BESTApp ever super useful the only reason for the bad review, is because I already paid for the pro-version of this app because it's that useful*!!..BUT it's very disappointing This app is not supported by my Google watch its not compatible with my Ax Armani connected smart watch please fix ; it would be very useful to see my appointments and errands displayed on my watch. without having to open my phone to view than thanks alot I'll removed the bad feed back onces its fixed- 5 stars!\", \"Uninstalled. Couldn't get it to register. Disappointed\", 'sir i already did all step but i still face notification ringing problem.', 'A few major issues: 1. The addition of sections in projects is nice, but not useful if they only appear in project view but not filters. 2. The sections cannot be reordered to appear at the top of a list, the can only be at the end of a task list. 3. In filtered view, pulling subtasks out of their parent task or non-completable tasks is ludicrous. Duplicating them like that is silly at best.', \"Just change the colour of delete/save button in dark theme and I'll recommend this app to everyone I know.\", 'i need the application thanks developers :)', 'This is all i ever wanted from a calendar.', 'Worst update ever', \"Could not get the app to save event time properly. All I wanted was to put a due date between 11:50 p.m. and 11:59 p.m. on a certain day. WOULD NOT do it. The app kept automatically changing my times. That's annoying enough for me to ditch it and move on.\", \"It's great. I love it.\", 'This app is not so good as a free version. You let us make subtask which is great... but not able to make a reminder is pathetic. For free version users, you can make a certain limit for using reminder. Also it will be great if you add a pomo timer.', 'Very good app. Its a good planner to maintain a professional life.', 'Password reset is broken, cannot transfer it to a new cell phone. Think twice before buying this app. The habit-related side is good, however - this is why I bought it.', 'Está genial :)', \"It's ok but a bit too simple and the inspirational messages don't change not really very motivating to use this app compared to my previous habit tracker. The App's look doesn't come exciting to look at as well.\", 'Junk app.', \"It needs a lot of buying which disallows us to use basic features. Majority of users are students so it isn't convenient for them to spend money on it.\", \"I tried downloading this app to see how it was cause I have been trying some Microsoft apps and discovered they aren't bad, but one problem I have with it is that the first button I see should be for task not list cause it is confusing. I hope you'll fix it.\", \"Only one snooze option. I need the option to choose how long to snooze an alarm. This is an option for just about every other todo app. Don't understand why todoist chooses to stick with only one set snooze time??? Respone to developer: No it doesn't help. When an alert comes up I would like to be able to select how long to snooze that particular alert from a several options. Not one snooze length for.all alerts.\", 'Used to love it but all the trees are now Paid version-only. That really sucks, I barely have the motivation to collect more points. Might just uninstall.', 'good. i hope it has fiture for auto daily task, and there is report so in end of the week we can see the progress', \"Closing and crashing when adding tasks and project. Support answering but doesn't help.\", \"Nesting looks to work much better now (with a way to even revert easily). Still wish there was an option to turn it off, but I can live with it the way they've got it now. Great app, good for Any.Do users or folks still sore about Wunderlist.\", 'Please add option to sort by reminder time', 'I cannot recover my vip purchase', \"The layout was horrible, the events and the scheduled items don't sync.\", 'Good', 'My phone keeps blocking the apps action no matter what I do. It keep showing it was blocked, troubleshoot, and refresh background task.', 'Love this app. I used to give it 5 stars but its so sliggish on the s8 and half the time the widget wont load.', 'amazing!', 'amazing app for Scheduling', 'No notification on free version ☹️', 'trying to be productive', 'This app launches itself with an invisible overlay over my home screen. That is EXTREMELY suspect behavior and therefore uninstalling.', 'I like the overall app. It is the best. But even after setting the reminder for my habits. I do not receive any notification or reminder. I have checked with my notification settings for this app and it is turned on.', 'JUST PURCHASED MONTHLY SUBSCRIPTION. UNTIL NOW, MY APP IS NOT WORKING AS A FULL VERSION.', 'What is this - NEXT ALARM (SYSYEM UPDATE)???', \"Daily reminder doesn't work perfectly.\", 'This has the beginnings of a great app, but lots more work still needs to be done.', 'Great!', \"This app is very helpful! Total game changer for my ADHD. Unfortunately, after level 25 the app becomes a money grab and the items you find and the equipment you can buy with coins get severely capped. But overall I'm happy this app exists, it really helps me stay on track :) Perhaps if the game cost a few dollars to purchase the developers wouldn't need to resort to capping in order to create revenue from the app. I feel as though many people will quit once the RPG element is restricted.\", 'Good app', \"On free version can't even set a specify time for a task (can only set a date), nor set a reminder. What's the point of a to do list app without these functions? Uninstalled.\", \"I have ADHD. Time management and planning are my worst nightmares. This app makes it so easy to SEE my schedule. The visual representation of the wheel makes it easier to make sense of how much time I have. It's also SO helpful to see how far I am into my day... I could go on. It's a great app and worth the premium price, but the free version is also fantastic.\", 'Aplikácia je v poriadku, má množstvo možností. Dlho ale riešim problém, že keď mám viac kalendárov, ktoré zdieľam, tak sa tento kalendár akoby nesynchronizuje. Skúšal som jeden účet na dvoch zariadeniach, informácia neprešla do druhého zariadenia. Skúšal som vytvoriť zdieľaný kalendár, informácia neprešla do druhého zariadenia. Skúsil som si skontrolovať kalendár na webe a informácia nie je ani v kalendári na webe. Tento stav sa opakuje a informácie o udalosti sa nezapíšu ani po viac, ako 24 hodinách. Sú ale \"lepšie dni\", kedy synchronizácia prebehne bez problémov. Nejedná sa o problém hw, pretože tento stav je dlhodobý a medzi tým som vymenil pár zariadení. Pri vašej aplikácii ma držia už len výborné widgety...', \"I HATED the update all the beautiful trees are now in the premium suction it was way fun when I was able to choose what ever tree I want and buy it with the money that I earned from the time that spent focusing now I'm earning money for nothing like what's the point ?\", 'The new update was ridiculous. I have tried so hard to get enough money for my favorite trees but they had been moved to pro version. As no more motivation I have, I uninstall this app', 'I dont like the new update', 'Easy to use', \"You asked me to pay premium version but instant Google calendar sync still doesn't work, needs few hours for tasks to sync. This been an issue for years already and you ignore pleas from users. On the other hand the Gtasks app you have works really great.\", 'cool app', 'Suddenly, again (it has happened before), the widget is empty. I keep refreshing, but the entries vanish. Now this app has been working properly for months, so I am happy with it.', \"Not working properly , don't delete immediately any routines ,\", 'Missing snooze ability. Other functions work well.', \"Great app. I am trying to find an application like this one for a while. If you are looking for an app that will help you grow, this is the one for you. You have multiple skills to choose from. Also, you can create your own. I love that they had programming, and an Icon of Python to choose. To get the full features you need to purchase the application. However, you don't need to buy or watch annoying adds to use the application\", 'It syncs EVERYTHING. terrible. you have to get the pro version in order to be able to do anything actually worth while!!!', 'My Planner system is now complete! I love the web app and now with the mobile app, my on-the -go planning is also on point. The app is fast, beautiful and a perfect planning companion. Awesome!', \"Awful, can't barely open it up. Just black screen on the main activity and that's it. No reboot or reinstall helped. Fix asap.\", 'Downloaded a bunch of these types of programs to find the one that was best. This was one of the worst. Played with it for about an hour and couldnt figure it out.', 'Cool', 'Keeps me focused', 'G O O D', 'I miss wunderlist. It was much better.', 'Great App for planning my day', 'limits habits to like 6 or whatever unless you pay, useless', 'Gd app', \"With in 2 minutes the Pascoe locked me out then didn't recognize my email. Not bothering to email since I didn't even get a chance to try it yet.\", \"I got locked out of my planner. After entering my paascode the app said that the passcode was wrong. It was not wrong. I suspected a system glitch and contacted the developer on June 17th of this year. I haven't received any response yet. I found my way around this problem by this time. I will not renew my subscription anymore. I will look for another app developer with a better customer service.\", 'The app is super easy to use and the due date function is a great help to not procrastinate', 'I have tried I installing this on two separate Android devices with no luck. I can not add my calendars. I put the widget on the home screen. It says I need to add my calendars and has a button to add them, but nothing happens when I tap the button.', 'Have been looking for a way to incorporate the elements of gaming into making progress \"In Real Life\". Even tried inventing something for myself but paper tracking was a nightmare and having it in this app is just fantastic! Really like it and it has made a big difference! The only reason I took it down a star is because it depletes my phone battery really fast if I am in the app for very long, such as when I am shopping or browsing challenges, so I do these things mostly on my PC. Overall, great job! Would recommend this to anyone that enjoys gaming but is struggling with motivation in the real world.', \"I love this app, but since the last update I can't open the store to unlock new trees, for the love of mother earth please fix this, I need more cute trees aaa\", \"The idea behind the app is nice, but it isn't userfriendly. Finding and adding friends to use it together was so counter productive that it got us to waste time we could be actually doing our daily tasks.\", 'I started getting notifications but all came at the same time instead of their specified times, so just removed them and no longer use. Biggest feature I would like see fixed is there seem to be issues with using the \"Today\" option for the task list Widget. Sometimes will only show one task and sometimes when I can complete all my tasks, the next day the list doesn\\'t refresh, still says \"All tasks are done!\"', \"Update: They are slow but they update and sync slowly. Overall very good app. Very buggy with time. The times are off. I think it's a sync issue with google calendar. It doesn't work even after fixing sync issues.\", 'Wonder Full', \"I like this app but sometimes it just closes and anything you were doing is not saved. Very annoying, and it happens on all 3 of my devices so I don't think it is a problem with the device\", \"I'm using a free version and it works very well. Keeps me up to date\", 'Okay', \"OK... I waited a long time for this app to run in landscape mode on my Tablet. No dice reducing to 3 starts until this functionality is added. Sorry but I can't use this app 50% of the time. thanks\", 'i miss wunderlist with comment. and now to do deleted comment function, and now be \"silent\" apps ...', \"I m just very lazy enough to use this app plus this app is not based on concept of habit building.Let's see how habbit is built u do task u get reward but here for sake of reward u only get Dots connected in pattern that's not motivating instead u can give some offers as reward.\", 'I got just scam. Rs. 200 for pro version. Nothing happened. Good times.😒', \"I have problems with some buttons, buttons that are in te top of the screen, my smartphone doesn't detect them because it's touching the area of the top bar😭😭😭😭😭. But great app!\", \"It only give me 10 mins option. That's it\", 'Useless app... Set up 8 reminders during a course of 4 days and not once received any notification! Waste of money.', 'Really motivates', \"App hasn't been updated, can't sync, can't import habits, this was a good app, shame that I have to switch\", \"I was hoping for similar to notes app on iPhone. Not even close. But I prob don't know how to use it\", \"I love the concept. This is something I've been looking for a long time. I have installed Sectograph; however, I haven't been able to make it work using sync with Outlook. I use Exchange as corporate email and this app is really practical and useful for my work. I have tried sync my calendar with google but I haven't been able to do it in the right, fully automated manner. I was able to sync with Outlook however even when the app is connected and without any issue the events does not show. I have tried what you explain in your FAQs without success. I'm a little bit frustrated since I'd love to use it but it seems impossible. I'll really appreciate any hint/help you can provide me. The 5 stars is for the overall concept, since I haven't been able to use it yet.\", 'Nice App. Able to manage my tasks', \"I've been a long time fan and user of ticktick but man, I have to say, these past updates doesn't really feel right. Sure, it does look great but my weekly tally of focused hours is gone. Before the update, viewing of stats offline wasn't a problem, but now? come on guys. Also why did you remove the weekly focused hours and made it a premium feature? That's just so sad.\", \"Used to be a great app, but I've moved phones, but the sync did not work and all tracking data has been lost. Even after having paid $18 for premium. Very much a shame.\", \"Please add option of grouping lists or creating sections into lists, so that we can have sub-lists. Rest it's good. Please make a note taking app also. You make amazing apps.\", 'Do you love apps that design their experience to be poor unless you pay ongoing \"subscriptions\" for static feature sets that make the experience barely tolerable? Do you prefer having money siphoned from your account over and over again instead of paying a single small fee once for an app, like we used to see? Then this is the app for you! Add one more debit to your bank account they hope you\\'ll forget about (and statistically speaking - you will) for a stagnant app you\\'ll forget about in a week', 'Great app for all my To Do lists. There are just minor issues in syncing sometimes', 'Still using this app every day. Some of the best with frequent updates. Kudos to the developers!', 'Works well but adverts are intrusive and annoying after using for several years now uninstalled and gone back to google calendar 😒', 'Its helpful', 'Really remarkable app.', \"Sync doesn't work\", 'All the tree just got premium Leading to less free content', \"I was liking it a lot,but when the new update came,I am unable to choose any type of Tree and I don't like that😣😣😣😣😣😠😠😠😠😡😡😡 PLZ fix the bug🤕🤕😿😿😿😾😳😳\", \"It's a good app.\", \"Certain pages don't fit on screen.\", 'It could be a very useful app but it is not very intuitive. Why should I set up the date in google calendar and not directly in the app?', \"Helpful, but needs a way to quickly customize the order of the goals. Currently the choices are alphabetical, by priority, etc, but I would prefer a click and drag option to have them show up in the widget in the specific other I would like. I had to go into each goal and add a specific time to each one too get them in the order I want, even though I don't want to do them at a specific time.\", 'If wish the images of quotes would have the previous option too', 'This is my best to do apps so far and I like it very much. I wish there are some tutorial to give some advice on how to use all the apps potential. And maybe some connection with google assistant and over voice command.', 'Very nice app, it takes a little amount of commitment only and the time flows easily and productively', 'Now you can\\'t even see the *today\\'s* completed tasks without paying premium? Seems like \"how much inconvenience can we cause to the users to force them to pay before they abandon the app?\" This is a todo list. It\\'s not like you\\'ve solved a new problem, produce content, or provide any significant service. Response/edit: currently, you can only see by project or subtasks, but not by today\\'s tasks. Seeing today\\'s completed tasks is the bare minimum to observe your progress throughout the day.', 'Not user friendly at all, they definitely need to work on the user experience.', \"Latest update deleted all my tasks and lists! Have to start all over and try to remember what my list items were. I'll be looking for a new app.\", 'Dear developers, thank you for deleting all my reminders after updating the app! It was not pleasant at all, believe me!', '5 stars if it were completely free :)', 'Pomdoro is bad', 'Not bad if you want to install', 'Good way for organizing tasks', 'Hf', 'Would have given this app 5 stars but for 3 issues. 1. The \"Notes\" icon keeps appearing next to reminders. 2. The tasks do not appear in order of time, but alphabetically. This is really annoying. 3. The tasks do not appear on the calender, which is also really annoying.', \"I have always been a paper planner girl, but now that I've tried Artful Agenda I will never go back! I love the custom covers, adorable stickers and the ability to link multiple calendars together in one place! It's extremely functional and I am obsessed with the fact that I can access it straight from my phone (and computer, too!). No more anxiety about losing my paper planner...loving this beautiful, digital way to organize!\", 'Nicely Arranged Everything', 'I want to love this app, but every time I use it and every time I try to upgrade to premium, I get an \"Error 599\" message. Tried factory resetting my phone, even! Definitely a shame, as I was looking for an app to recommend to my students.', 'يحتاج بال رايق و معقد مو مثل ما اتوقعت وقت ثاني يمكن احمله', \"Mixed great app but don't by premium. Won't work without play services and developer unresponsive\", \"Best, most versatile free version habit tracker I've tried. I love the whole thing.\", 'Helpfull application', \"The app is broken right now. Downloaded today to try it out and the first two slides were blank. Character creation is all blank. Unfortunately deleted but was looking forward to trying. This has been catalogued by others. When its fixed I'll try again but so far it seems that this app is only really properly supported for iPhone users. (I have a Samsung S9)\", 'Overall a good app but I would also like the option of switching from landscape view.', 'Everything is good but i would like to see more then a five slots for habits', 'The options you have are stupid. When I tried to set up notifications the \"Save\" function does not work.', 'Almost perfect. The only changes that would be helpful is a quicker way to switch from the week view to the task list. And i would like to see my tasks as a list by default instead of clicking on the task categories. Also I wish that you had a rollover option for tasks, I have yet to find an app that had this: basically I wish when I create a task I could choose if the task carries forward to the next day if not completed or not.', \"Over the years the platform has become stagnant. I was a huge proponent of Habitica, using it for a few years and even paying for a subscription to support development; but development beyond bug fixes never happened. It's a good tool with a potent gamification component, but they've failed to continue to make it engaging and interesting—and certainly not worth paying to support.\", 'Very useful', 'Microsoft killed a great app (Wunderlist) by taking out the core functionality of integrating it with calendars', 'This is awesome', 'The ads are to loud and in your face.', 'Setting habits was not simple enough and at the same time was missing options. It kept telling me to choose a number, I would, press next, and same error.', \"For many years I used the franklin covey system and enjoyed it but I'm enjoying the planner pro giving me the same thing but at my fingertips and convenience to carry.\", 'Good', 'I really think the math is off on this. Logically it does NOT make sense that if you have a good day your percentage of success goes up by 1, but if you have a bad day it goes down 20%. That really defeats the point of motivation and self forgiveness.', \"Things were going great until I switched to a new phone .I can't find out how to sync my tasks and events to the new phone. I installed the app in my new phone and logged in, but the data is not there . I see that the events comes from the Google calendar, and I may be able to do something about that - but how do I sync the tasks ? Pls help.\", 'I set up an account Set up tasks for the week Now it says my email and \\npassword are not on file. How do I correct this', \"Its so nice and I love the sounds. It helps me not mess around on my phone in my homeschool. I'm excited to start planting some real trees!\", 'App install page says nothing about it being a free trial for 2 weeks. So you have to pay to use this app. This is not disclosed on the app page from which you initiate install.', 'I do not use it so I want to cancel the subscription but am unable. Jorte had unsubscribe within opening page. Unable to sign in.', \"The only reason I downloaded the app was for the completion sound , which doesn't exist for me !\", 'Good app', \"I have used this App for years now and really find it helpful. I like that it is synched to my email and also the fact that it is very easy to use. It also doesn't have any adds so there are no interruptions when in use.\", 'Great app But it forces you to sign in to something to use it, which is garbage. You should be able to use this without signing in. Backup and restore doesn\\'t have to be via online accounts only, it can be \"export to file\" thing, which I preffer 100% of the time.', 'Nice app', \"I love this app but the widget doesn't work most times which is very annoying\", 'I use it to track just a few things. Works nicely.', 'The new version is so complicated loved the old one it was simple and easy and quick to use it was perfect', \"paid for the pro version but can't keep the changes I make to the settings.\", 'this is very good', \"Just love this app,it's really awesome for managing your dailies and to-dos,for anyone who loves gamified version of work to be done this app is all yours ;)\", 'The update is annoying. I want to add time on the list. But you just add time tag feature which make the time that i put not being displayed.', \"I love this app so much. This is the app that I search for a long time. BUT, the widget sometimes error. It show the tasks that already checked being unchecked. When I clicked it, the app just show white screen or freezing. After several minutes, it became normal again. Even though it will be normal again, of course that's so annoying! When I'm in rush to create task, the freeze often makes me forget about the things that I want to write. Please, fix this! Thank you.\", 'Just started to use this app. Seems helpful so far.', \"I really like the app, but I would enjoy it more if there was the ability to manually order tasks through simple drag and drop like in LifeRPG. Also, if there was a quicker way to edit like in Life RPG that would be great. I would be willing to pay as a way of supporting you guys, but right now LifeRPG is more practical and they'll get my money until you catch up. Love the decreasing skills btw :)\", \"It was great while it worked! Fell in love with this app, but after maybe a week of using... it stopped working. A bug perhaps, but when I went to add tasks it froze and didn't let me do anything, and even deleting and reinstalling didn't help. I'm sad that I have to replace this app. I really did like it a lot.\", \"Why does the app keep showing server connection lost even though there is no problem with my network or internet server? I can't open the app and refresh it at all.\", 'Bug: message cannot be displayed on app! Android 9, nokia 6.1 plus', 'कुछ काम का app नही टाइम बर्बाद।', \"Those fullscreen ads made me uninstall it after years of using it happily. Bye. Won't come back. My response: Or, you know, I can simply use another calendar app that's free and has no ads.\", 'This app will send spam everyday, even when you block them.', \"Firstly, thanks for your quick responses back. I appreciate it. Ok, so can you explain how to do it and where that is on the app? Because there's no tutorial for that part. When I click on the other tabs that show the month stats and graph there's nothing indicating that the old schedule has been saved in an independent track and a new track created.\", \"This has everything I'm looking for from a UI perspective except one key thing: the ability to invite someone else to add/complete list items with you. It's the function Wunderlist fulfilled for us and I've been looking for a replacement ever since they were bought by MS. Add it, and it will be the dream list app I want!\", 'You cannot add more than 5 goals in basic, and the premium is expensive', '👌✨', \"Sad that the feature of being able to pick which apps can be blocked are for the pro version only :( as well as many of the other tree species :(( i've saved up some coins to be able to buy one of the more expensive ones but now i won't be able to unless i buy pro which is a shame :( what species left for the free version is also very few now :(( not as fun to use this app now, but i guess i understand the need for money.\", \"I'm surprised, this app actually works for me! It helped me procrastinate less, but I also realised it works only if I remind myself to check the app a lot. I recommend it for those who have really bad procrastination problems like myself. Even if the game style of this app isn't your thing, it's a great to-do-list app for habits, daily reminders and general to-do items. Only complaint is it's glitchy for me when I want to customise my avatar.\", \"This is an amazing app. You're able to customize almost everything to what you want. There are some things I'd love to see added, though. Some way to have an item reward you with money would be nice, and being able to have a task directly award you with an item, too. Developer(s), if you see this you have done an amazing job, I'll be getting the in app subscription soon to support you.\", \"Downloaded free trial and looked at it first day and it wasn't really easy to use so didn't look at it again. I had no correspondence from them to tell me that the trial was over and that they were going to take the money. I find that deceptive behaviour as they are banking o people forgetting to cancel.\", 'Really good to have when i have a busy week as can put appointments in all at once and other special dates', \"I'm really glad someone is making an app like this, but it feels like a very early version and it makes more sense to have a kickstarter instead of subscription if you need the cash for primary development. Loads more customization is needed, including a) allowing uploads for your own artwork for cover/theme b) ability to add/delete the modules you need (delete at least - I don't track water so it's a waste for me) and c) landscape mode. I plan to follow development though and good luck!\", \"For whatever stupid reason, it works, and it's adorable while it's at it. Don't let your trees die! I want the ability to add multiple tags to a tree though. Sometimes I want that 2hr tree but will be doing more than one type of task\", \"Great app, very usable, lots of features...but 36$ a year for premium? That's almost as much as I pay for my premium password manager, and that's much more complicated and costly to develop and maintain. This is a GREAT app, but there's no way I'm going to pay that much.\", \"Used to keep me organized, but all the 2020 UPDATES have made a mess of things !!! Y cudn't u leave well enuf alone ??? Guess ur techies feel the need to keep making changes to justify continuing to collect their salary !!! 🤤🤤🤤\", 'Best app for to-dos. The highlight is Natural Language Processing.', \"This is the worst app ever. My password was breached and my information may have been leaked to third parties. It won't let me delete my account or even change my password. You should be ashamed that you made an app that takes people's information like this, and then you don't have the courtesy to give them the option to delete their account. Literally the worst. Get yourselves sorted.\", 'Gtasks Sync doens´t work. Calendar Sync is ok', 'What happened? Since your last update, every time I drag items to a different time, or different order, as soon as I leave the app, they go back to where they were. Please fix this. I want to set the order. Also, the Google calendar items after the end of July are missing. Does the free version no longer sync with Google calendar? Nothing there after the beginning of May.', \"It's good app, but not great. I use it on my phone and tablet and it's great for keeping track of things that need to get done. But it doesn't sync between devices well. You have to manually open the app on both devices to get to sync, which completely bypasses the purpose of the widget.\", 'Love this app, it keep me so organized and help me keep track of my everyday activities', \"Doesn't link with my calendar or emails\", \"Please make it work again. The app is great, but it is not working and says I'm not connected to the internet, even though I have 2 available connections. Please, fix it!!!\", \"I have enough credit but I can't purchase for premium\", \"This app seems great. i've seen other apps gamifying your life, but what i feels really works, is that you can make a party of friends, and get productive together, while clearing dungeons and getting loot. if you make a group of friends, be aware that even if its just your friends in the group, a single swearword will get you banned. not a warning or anything, straight up banned. i got banned because i called my close friend a F-word C-word. mind you not in public, but in our little group, where that sort of banther is normal between us. Mind you, i'd never talk to anyone like that in a public group. i don't mind policing the language of users if they are abusive or using foul language like that in public, but to me its a bit much to ban people for a private conversation, where there was no victims, but its not within my power to change the community guidelines. hopefully i'll get unbanned so i can give the app a swing. it does seem great. only 3 stars for being so quick to jump the ban hammer. will definetly change stars for the better, if the community guidelines loosen up in regards to private conversations and partys. maybe add a report button instead?\", 'Item duplicate automatically', 'Extremely easy to use and exactly what I was looking for. LOVE the widget for this planner as well. I just wish the interface was a bit more aesthetically pleasing. Like a bit more sleek/modern?', 'Updating my review to 5 star since I was able to get back my Pro access.', 'Awesome app the best', 'This app is just what I needed to make progress on my goals. Contains a whole bunch of features and customisability. It is also easy to use. I only have an Issue with the Task List Widget not updating properly after completing a task.', \"After you figure out how to best organize yourself, it's extremely satisfying to check off items from your lists. The only thing I do not like us that you can't simply delete lists.\", 'Super', 'because of not available in my country !', 'Further to my previous comment, it looks like app is hanging on syncing. As same behaviour can be duplicated multiple times. First started happening on 7th July. P20 pro andriod 10.', 'Not bad', \"Seems like if I don't want to follow that junk on Instagram, I get - 15 points. Instant uninstall.\", \"I was little starting to be comfortable comparing to other app..unless the premium came up.. I don't any personal ac to pay just to get reminded 🤧where multiple remider doesn't work..i literally start loving and hate at the same time..u can't get multiple unless u get premium..:) this ain't my app\", 'It keeps lagging and dificult to select the traits i want for my character... ugh ! Not worth it UNINSTALL !', \"I cannot even create an account I fill in what's needed and I'm pressing the button and it's not working some1 help.\", 'Have to pay for recurrent daily task.. which is the main purpose of that app.', 'Tick tick should also inform us about the clashes when two things are scheduled at the same time', 'काम पर फोकस करने हेतु बढ़िया ऐप।', 'Free version gives only 5 habits, there are far clearer and better trackers available for free.', \"feelings disappointed bcs i paid for nothing. you should've let the premium user get at least 5 or more new trees. it was such a large amount of money just for a tree and some little feature.\", 'Please fix the Android bug whereby every new item added gets a Note added too - very annoying!!!', 'Easy and quick to update', 'Great app, easy to use. Custom colours and categories for each habit. Limited to 5 habits on the free version is the only gripe', \"It's pretty cool app, very convenient to customer everything. And really immerse into the game which is your life\", \"Having to pay to set a recurring task is ridiculous and essentially makes the app useless to anyone who doesn't want to pay so this essentially is not a free app.\", \"The interface is ok. But TickTick does *not* sync with Google Tasks. (You can import Google Tasks, but no tasks added in TickTick app will appear on Google calendar.) If a task list doesn't integrate with Google Tasks, if I am limited to using the standalone app and *cannot* see tasks on other devices / computers, then the task mgmt. app isn't really good for anything.\", \"Useful function require paid membership. Doesn't solve the purpose\", 'Nice', \"Is there a way to add events directly . I don't want to sync it with calendar.It is very time consuming.\", 'Great visual to keep you motivated.', \"I can't use it because I must to pay and be premium that rude 😒.\", \"After changing my email, I cannot use HabitBull's premium features. I have tried emailing support--no response--and finding a way to restore the purchase or even purchase it again, but no such luck. I am forever stuck with the app thinking I have pro, even though I do not. It's a shame, really, for what is otherwise a fantastic app.\", \"I think it's a pretty straightforward app. It definitely helps when you need to place certain tasks throughout your week as a reminder.\", \"It's just perfect\", 'On online anywhere can review the task, category wise task status is the key to review the pending task.', 'This is the perfect calendar app! And its gorgeous to boot!', 'Love it', 'Theres a bug, cant edit the blocks. Thank you.', \"It's great but I felt like it need a calender so you can see your to do list's you've made over the year so I suggest makeing a new version that has this on it so it will be much better if it had it I mean that's just my opinion on I but it's a great app if you just want to write your to do list and get it all over with and check of the biiiiiiiiiiiiiiiiiiiiiiiiiiiiiiiiiiiiiiiiiiiiiiiiiiiiiiiiiiiiiiigggggggggggggggggggggggggggggg gggggggggggggggggggggggggggggg check lists you need to tick of.\", 'Just started using, good so far. Maybe a start date on tasks would help', 'Nice app', 'It helped me a lot', 'Became unusable. After a few months', \"I haven't found the way to edit the days of the week for one habit.\", 'What is 599 error??? It just stop me using this app!! Hate that!', \"I miss Cal. The updates destroyed it, turned this into a cookie-cutter to-do app. It's a shame.\", 'It is a good application. It is very useful. It is just okay.', 'Doesnt work on ALL android Wear OS devices. Specifically, doesnt work with the Watch Active2.', 'Not working at all.', \"Sync is very broken, have to keep removing and relinking my account seems to stip syncing again after a few days. And there's no warning the app is no longer synching. This app has the best designed widgets so am heartbreakon by the idea i may have to uninstall as its so unreliable.\", \"I regret buying the premium version, a lot of money for only a minor update. I wish I could get a refund. Do not buy the premium version from the app, it doesn't worth your money\", 'There seems to be no way to actually mark a task as complete, so I had to delete the tasks I actually did complete and therefore have not gotten in-game rewards. There is also no way at all to contact support. If you join the Habitat Help Guild that is supposed to allow you to ask questions, there is no obvious way to post a question there. There is a button to leave the guild but not one to post a question. This app is terrible and is a waste of time.', '😎☺️😍♥', \"No new it's repeated app\", 'Ufff me ayuda demasiado xq soy de las personas q se olvidan las cosas y esta app es la unica q encontre q tenia alarma', \"Such a cool app! I'm in love with it! Sad that it doesn't work properly offline though :( also has bugs\", '5 stars', 'Nice app to keep me Focused!', 'I started using this a week ago, it has already became a useful tool for being productive. Really recommend downloading', 'Lately the ads have doubled in frequency, have become full screen, noisy and more difficult to close, while the overall usability have decreased. Quite shame. And before telling the \"it\\'s free\" slogan, think that annoyed people will delete, not buy.', 'Unable to download', 'Very usefull and fun', \"Useful easy to use and fulfil my needs But i still didn't experience it's use in sharing or groups\", 'made my phone slow and why to pay money on this app my money has gone and \\nno result.widget is not saving and changing.but idea of this app is gud.my \\nmoney gone', 'Good app', 'Notification features should be free.', \"Not a power user with a massive calender of events, so I don't need the full blown pro version, but there are a lot of basic features under pro only. No Thanks\", \"Subscription?? How does this application figure that it can be a subscription application? Ridiculous Update after developer response: This is not a subscription application. You are not Netflix or Adobe. This should be a standalone app quit trying to milk people's money. You can say anything you want. THIS WILL NEVER BE A SUBSCRIPTION APPLICATION. STOP BEING RIDICULOUS.\", 'Between tasks randomly failing without any input and undoing failed tasks creating fake duplicate tasks that cannot be deleted, this app is too buggy to use for its intended purpose.', \"I try signing up, logging in, even with Facebook and still won't even let me in\", \"I like how it allows me to set any number of reminders, minutes/hours/days/weeks in advance either by push notification or email. But many little bugs pepper this app. The calendar view will bug out and not map to the selected month from time to time. The location field tries to be smart by giving you a 'maps like' autocomplete, but this is annoying when you just want 'gym'. For some reason the first letter of an event name isn't registered by autocorrect, so 'Event' turns to 'venting'.\", 'Keeps me up to date with my task helps alot', \"I'll give it five stars when the widget stops resetting to nothing after I alter things within the app. I have to delete it off of my screen and put it back on in order for it to update.\", 'Works for me', 'Fun and easy to use. Creative and helpful way to track tasks and habits.', 'Even without an RPG element, this app is robust enough to suit any of your habit tracking needs. Its ridiculous how much better this app is compared to other regular paid or unpaid habit trackers.', 'Requires my email? No thanks.', \"Generally good but has issues, adding a subtask is just weird - why they can't do what wunderlist does with a place to add or a button, and it's all a bit sluggish with some redraw problems. But it has some great ideas to it, so maybe it'll be good in time.\", 'I love this app and has great potential , however it seriously flawed with sync issues and as such i cannot rely on it for my appointments or task due dates . Sometimes i create a task , then move it to another date time . When the sync happens the task disappeares from calendar and goes back to original date.', ', every time I put a task in it removed the number in the name and put it in my inbox.... Why???', 'This is the best to-do list app. Much better than Google or Microsoft alternatives.', \"I love the app but I'm probably going to have to uninstall it. Its had a problem lately where the notification will not go off. No matter how many times I push close or silence the sound keeps playing. It's becoming annoying.\", \"The invite user feature is horrible. You can only do it through email as the text option doesn't work. I used to be able to select a user in the app and they would be notified in the app. I was a user of Wunderlist and this is a step backwards as far as I can tell.\", 'Nice', 'Great app, easy to use!', 'Nice and simple for my needs', 'The reminders never work.', \"Had high hopes for this because it had everything I wanted but the completed tasks that I keep putting as completed come back the next day which is just irritating. Have tried all the settings to get of it but I can't and can't be bothered to persevere anymore\", 'Best gamify your todolist + productivity app, really recommend it to everyone', 'Please can l use this for my boss appointment s?', 'Great app', 'Waste app.', \"I love all the recent changes you have made - especially the ability to undo things in the history. Could you please add an option to manually reorder tasks? I would like to put mine in the order that I do them throughout the day, and none of your sorting allows that. Thanks! Update: it's been 22 months since you said you'd make drag and drop sorting an option. I see monthly updates but not the one feature that would make this app user friendly. Don't promise what you won't deliver.\", 'Easy and clear', 'Nice app', 'Great app so far', 'Good basic no- frills app', 'This is a waste app. After few days it started to shiw nothing and it says it takes time to sync with the calender but still after 24 hrs they dont sync. Please dont install this app and then expect to be productive.', \"the app is functional and the widget is very handy but the subscription model cost feels a bit much for all of the use I get out of it. I'd be much happier if it was a bit cheaper and when you consider some of the other free options that are out there, paying so much for so little feels like a bit of a con.\", 'this app helped me organize myself, thank you!', 'not good', 'nice', \"Amazing, I started using this recently and I regret that I didn't use it any earlier\", 'Very Active App', 'notifications stopped working then it deleted all my tasks', 'would like to change my my class and chat is IMPOSSIBLE to navigate. a simple notification system would make it easy.', 'Really helps me to keep things organized and is a great way to keep myself on track!', \"I use the app for years, on my iphone and laptop and I love everything about it. However, I purchased a tablet lately, I downloaded forest and when I try to log in, there's nothing but the pro-version ad. Sadly I can't use my account.\", 'This app is awesome could use better graphics but overall the idea of it is legit af', 'I had to uninstall this app as the app crashed a lot of times. I used it only once and then it abruptly stopped working.Could you please solve the issue.', 'mota moti...', \"App cannot sync in backround so it does not sync with your tasks created for example on your PC until you open it manually sync it. Very annoying feature and also making your tasks ureliable... Too bad, because otherwise it's perfect... P.S. I already has contacted the support, they sent me automatic reply and nothing has happened since...\", \"I don't care for it, when I first opened it it showed me all these appointments. I was thinking what the heck then I figured out it was showing me weeks passed along with the current. To me that's just a bunch of clutter. Then it was telling me I had five appointments this month, no, only have one, it only showed the one but it still says 5. I don't have a clue what the other four are. Anytime I try to do anyting it practically begged me to join premium, I just uninstalled it.\", \"I'm changing my rating from 5 to 2. I've used this app for many years and I love it. It's a great app! But they have recently added add on videos (skippable but still 5 seconds long.. ) after you've created or closed an event in your calendar app. It's really annoying and disgusting because you don't have time watching adds when you want to add a couple of events everyday in you schedule... You've went to far Business Calendar 2...\", 'Please fix the new sub category feature. I am a paid yearly subscriber. I love this app and I loved being able to drag items item or arrange their listing. But recently my tasks either just get lost to oblivion, duplicate themselves for some reason, or when I try to rearrange tasks by dragging them higher or lower so its more organized, it will just end up becoming a sub category to a different task. Then I have to take out time to figure what happened to the task, where it went & fixing everyt', 'I want to cancel the subscription.', 'What happened to my ability to use the themes? I paid for the upgraded version years ago. With the newest update my customized theme disappeared when I was attempting to modify the colors within my theme. Now I only have the hideous \"light\" version with the ugly black borders. All the other themes that were previously available are now marked \"pro\" and I have to fork over more money to get them back? There\\'s something really wrong with this picture.', 'Not very easy to navigate the settings', 'This app IS great, and has the potential to be greater! However, my only 2 requests is when you add a \"Parent Project\" to your \"Favorites,\" please include the projects within it as well! And to also make setting alarms to your tasks more simple, and reliable. Thanks!', \"Needs a built in timer and some stats to make it the best productivity to-do out there.. for now it's just a generic to-do with folders. Hoping it gets an update with those features soon as I do love the design and other Microsoft products, for now I'm forced to use another to-do manager. :(\", 'So far so good.', 'Good app', \"Wunderlist was an excellent app, used to get my reminders on email. Now I don't get any reminders at all, hence don't see the use of this app. I have checked my phone settings and the app settings and the reminders are on but still no reminders either via app or email\", 'Good job! Keep up the great work!', 'It was good until they updated it and took out the today, someday, upcoming categories out, which is how I organized everything', \"The problem with this is that when my phone screen is off it doesn't give a notification that the tree is planted. Even though do not disturb is off and silent mode is off and the notification are on. Please fix this\", 'my mobile is getting switched off after installing.it worked fine on 1st day of installing. please fix it', 'I really like the app. Maybe just work on improving the graphs a bit more', 'I am in the unique circumstance of liking to gamify my life and also being horrible at incentivizing doing daily chores. This is literally the perfect app for me.', 'My favourit Good', 'Eu gosto muito do aplicativo. A minha sugestão seria para ter a opção de não excluir as tarefas concluídas porque psicologicamente falando dá uma satisfação chegar ao fim do dia e ver todas as tarefas que foram feitas com um risquinho... 😉', 'Good app', \"I liked a lot about this app, but unfortunately, there is no feature to repeat tasks (hourly, daily, weekly, etc), which is kinda vital for me. Without it, I can't recommend this app. Much as I hate Todoist's subscription model, they seem to be the leader as of right now.\", 'They banned me from the chat for saying SLAYER, as in the band!! WEAK!! POLITICAL CORRECTNESS HAS GONE WAAAY TO FAR!!', \"Only used for a day but it's the best app I've found for daily tasks / to do lists. Would love to see the following: 1. Completed tasks move to the bottom 2. Tasks be linked to a numerical value. 3. The ability to order each item manually, daily.\", \"Wanted to try this, but it doesn't seem to properly load images to create my character or load tutorial pages so I can't even continue from the create screen. Seems like it's broken...\", \"Fantastic app. I was using Samsung notes before I discovered this app. Very well laid out, easy to use, and with so many good features and options. Kudos to the developer. I don't usually provide feedback on an app due to privacy, but with this one I had to let the developer and the public know. Best in class. Thanks a million.\", 'Enjoying this app', 'I wanted to use this apps independently of calendar. The apps is well done but it comes as a doublon of calendar and it become not useful for me.', 'Too complicated, trying to add items to a list, it keeps trying to use the item names instead to make a new list or send the old list to this.', \"I'm two years premium subscriber for the app. It seems great but the only thing makes all the benefits disappear for me: inability to see all finished tasks by label. Guys it's high time you added this to Android and Mac. Doesn't seem any difficult.\", 'After the latest update I cannot find a way to sort my All list by due date any more. Thus the app is now useless to me.', \"It's just opening pages forever out lighting images why!\", 'New update has lost the ability to click on the widget and open the list full screen. The font is smaller, and ticking off an item on the widget has became more difficult. Please fix, five stars otherwise.', \"So far I like the app. Question - I see a spot where it says, notes for the month, but how do I input notes? I don't see the option to enter notes.\", 'Regarding the last review, I noticed that multiple widgets of different lists lead to the \"emptied list\" glitch happening more often. Unrelated, but I really love the idea of the new batch action feature. Just wondering why I can\\'t use it to batch fail or batch perform more than one task? I expected that to be the point, but only batch delete and batch skip are available. Batch fail would help with one of the biggest issues to making the app fast to use, which is that failing takes like 3+ taps', 'It is very awkward cauz you need to give it a proper plan', 'I looooooooooooooooove it', \"I'd like to give it a 5 star, VERY MUCH. The app is very useful, convenient and easy to use and what's even better is that it allows the user to modify the alarm (sound, icon, etc) as we please that makes it much easier to organize our schedule. But the app no longer works after i've changed my phone, i don't know if the issue is about my phone (i used Mi A1 before and oppo currently) or the app. I've read about the configuration to get the app back to work but to no avail, please help. Ty\", 'I have set a sound with the notifications but it does not work', 'Great', \"I recently downloaded this app and paid for the premium subscription. I like the app, but I have two issues that are hindering its functionality. The first is that the notifications slate quite buggy. I have 3 different daily tasks which I've set to notify me when they start, and I only receive my notifications sometimes. The second is that my workweek is Sunday-Thursday, and I found out after speaking with their support that there is no option to set a non-standard workweek.\", 'Good idea but I cannot connect it with my smartwatch', \"Too complicated. It probably has a lot of, but it's not intuitive enough.\", 'Senang kerja x payah bawak buku sana sini, resit/claim amik gambar terus xdela pudar atau hilang.. This apps is worth it to purchase..', 'So far so good,I like the different habit option stand out', 'NOBODY IS RESPONDING TO MY SUPPORT EMAIL IT HAS BEEN DAYS WHAT IS THIS? I NEED HELP ALL MY INFO IS GONE AND NOBODY IS DOING ANYTHING FOR DAAAAYYSSSSSS', 'The best calendar. Period.', 'Nice all', 'App deleted my tasks out of no where, as well as the app seems to be bloated with features. Needs to be more sleek and refined. I dont believe the audience for a to do list app is looking for anything with a lot of features.', \"Just a list app. You can't do anything else unless it's on a list.\", \"The app is great for the most part, i just wish that the 'notification option' for tasks would actually alert me. No alarm or even a pop-up message. I got this to help me remember to take care of certain things due to memory issues, but it's not gonna be of any help if i can't even remember i have the app. Please fix the alarm notification system.\", \"It's user friendly... love using it..\", \"Can you please available the mobile reminder service for free? It's very important for me but I am not able to buy it.\", \"Won't let me sign in with my Microsoft account. I've clicked create a new one as well and it tells me the domain I'm trying to use is reserved. Like, I know! I was trying to sign in with it. Uninstalling.\", 'This app is awesome. I love that you can have lists and sublists. And how you can set alarms.', 'Awesome', 'This app has been life changing. Its perfect for people who are Strategic and motivated by growing as a person.', \"Seems good but I would need admin approval to access my work Outlook calendar so it's pretty unusable for me.\", \"Reminders DON'T work.\", \"I really love the app, the design and functionality. It's just that, I hope there is a way to better navigate the different tasks. They are together on the left menu with the calendar. Calendar is not even a task.\", 'Efvig', 'Great concept the idea of this is great but theres a couple things that need work and i have a few ideas app is very slow or laggy. Sometimes it wont let me click on the sugested address. Also would be useful to be able to click address in planner and pull up directions in google map, i would also like to be able to link a list to a event and or address would also like to be able to \"build my desired layout ,more themes and stickers', 'i sent them email for help regarding premium purchase and they never responced...it has been months or more.', 'I like the app. I use the weekly planner widget thw most so it is easier to get organized. It syncs with Google calendar. The only reason I am not giving it a 5 stars is becauae after an update it stopped updating the week on my screen and I have to search for the right week everytime.', \"Needs fixes... Like the repetition is screwed also the generate habit... Looks like the developers don't use it themselves.\", 'Really Helpful, Simple and Feature Rich', \"Started out strong... First few days perfect, synced to smart watch and woke with everything planned. But now it's not sending the notifications regularly - not to watch or android phone. Added it to the PC and tried the phone widget - maybe that broke it. Weird pile of repeated completed daily tasks with no time set, while the daily tasks with times don't notify. Some work then don't - very frustrating. Clearing the cache/reinstall didn't work. Feels like a battle to get it to function. :/\", \"It just don't work the way I thought it would. Not what I expected.\", \"I like this app and have been using it for a while but have started noticing appointments I put in the calendar don't sync to Google and some how disappear out of my calendar so I have no idea when they are. Extremely frustrating since i don't always notice the appointment has disappeared.\", \"It's a great organizational tool\", \"I had opted for premium. But even basic things like I wanted to start fresh, so I said delete all tasks, but it added that as a reminder from what's app.\", 'Very good', 'This app really helped me organize my life!', \"It's a great app for the one's who don't want to waste their very single moments in this life. It's helpful in achieving goals and to increase productivity in your daily life. Thank you so much to #Doist. Keep moving forward ♥️\", 'Ok.', 'Good', 'I bought the premium access and then when i change my phone, i never could get access to the premium version again... I wrote them an email 2 month ago and i havent received answers yet.', 'Ok I like it, but know what? The experience points keep expanding but not with health. Simultaneously, you will be sent backward everytime you lose your health while to refill health you need to max up the exp point. Please fix this', \"This app wouldn't up date my schedule. Only some postings would transfer to my employees phones and i couldn't be positive something actually worked unless I checked to make sure twice. I even bought the pro version. Not happy.\", 'Useful in orgnanizing lists and tasks, along with sub-lists and notes. Easy to use, and can set reminders and due dates.', 'It is an amazing app .😊😊', 'The only schedule app I undrstood..easy to use', 'This app is supperb.....from india.🇮🇳🇮🇳🇮🇳', 'Bakwas app', 'Its good but too rigid.. Add option to start the routine from a speicifc place as we wish... Say we wake up late.. I want to start the routine late instead of just going late at the old routine. .. Add a button for that please', \"It's impossible to use this app. At first, when I choosed pink theme during onboarding, the app ignored my choice. Then I filled it with all my tasks for two days, but when I closed it and opened again, the app asked me to sign up with Google. All my tasks were gone when I did it! I`m deeply disappointed...\", \"dependant on another calendar app. Why? why do I need to have another app to use this app? I can't add plans or schedule without this app throwing the task to Google Calendar. Besides, I don't use G.C anymore since I once missed an event which I put a reminder through the G.C app because it never reminded me. I read one comment for this app that it never gave a reminder for a scheduled task and yes I have an idea why it happened.\", \"Great app! It makes my family and me do specific tasks. I would give it a 5 star review but sometimes the notification doesn't pop up at all.\", 'DISCOVER FOR YAW SELF HOMIE ♡♡X MAS!!?', 'Facebook login not working', \"Why in the world there's no sign-in or backup option? How am I supposed to store my data? This app is so great but not having the very important feature makes no sense, I'm so disappointed!\", \"Application is superb with only 1 big exception which outguns every good thing - Duplicate Task feature doesn't duplicate any of the underlying subtasks but just links them under the duplicated Tasks. So you cannot create a Template Task which could be used to create other similar deep Task structures for quicker task creation with similar structures. This is a must have feature if you really want to let users use this app deeply and consistently. Without this i will be forced to look at less\", 'Not upto the mark but its okay. Ads give ptoblem and ui is little weak.', 'The best way to help a nerd getting h*s tasks done! I use it everyday.', \"Simple and useful. You're allowed to track 5 habits for free. Upgrade for up to 100 habits. Best feature is that you can track a habit in terms of counts i.e. 3 times a week (any day), instead of every Monday, Wednesday and Friday. Quite a rare feature for most habit trackers.\", 'Why do I have to create an account and sign in for a simple to do app? Hella sus', 'very useful. its where I note my accomplishments for the day as well as my planned tasks/events.. thanks to the developer of this app..', \"Almost what i need, except there's no option to set a start & end time with reminder for the start. So it's useless (for me).\", 'Was working great and I use it across desktop, Android, and iphone. For last few weeks though it does not sync, will not update to iohone, and freezes repeatedly on android so as to make it unuseable. Freezes when sel3cting or adding items. Can maybe make one change now before it freezes. Every time. Will be looking for a replacement app to use.', 'Honestly, within a month of trying this, the app just got annoying and boring.', 'Man!!we cannot have an alarm type alert here...it brings a problem', 'Love the fact it updates all 3 of my devices', \"They've redone the layout and it's horrible\", 'I really like this app so far. Its flexible ans very customizable. The only thing I would add is either more categories/the ability to add my own. Health and Home are very broad categories. So being able to have sub categories would be nice', 'Best time management app on Playstore - hands down', \"You could just use your phone's calendar\", \"A good app, although disappointed that I can't repeat a reminder without paying\", \"Seems like a good idea, but doesn't actually do anything but waste more time. Completely useless. Can't find calendar events. Each event has to be re-entered manually. Why would anyone want an app that is just MORE WORK? STUPID! HUGE waste of time!\", \"Can't adjust center clock size. Can't open alarms by touching the center clock. The image for opening the app on the play store doesn't represent what you can customize the clock to look like as a widget. Augh. Cool but lacking necessary functions.  EDIT - I was not able to click the center clock and open my alarms. Not sure why. But the developer said it is possible.\", 'Extremely easy. Works fast. Can organize alphabetically and many other ways. I used another app just before this one, and uninstalled it immediately to use this one instead. Thank you.', 'It costs an arm and a leg, unfortunately', 'Love it, keeps me motivated but you should add something to share and make my friends join, like an invite, not the one you share your level up', 'Great app! Works exactly like it says it would.', 'Please add more trees! baobab is amazing! Great incentive for funny trees', \"There should be a notification once you are done with your task. It'll help. Please update this thing in it. A notification, a beep or any sound please\", 'A simple app that could not be more complicated to operate.', \"Widget doesn't work\", 'Good experience', 'the app requires premium membership to use the widget. defeats the point for me', 'Best', 'Forced to review to avoid popups every few days. Ok so far', 'Feedback', \"I was finally able to get this installed- yay! My husband also put it on his phone so we can share the grocery list and others. I've updated to 4 stars as it seems to be working now. Thanks! Can't get it to finish installing and I have plenty if room. Gets to 97% and then stops. I will revise my review if I ever get to try it!\", 'Dud', 'Fine app. Would be perfect to have desktop web version also, to make adding routine much easier.', 'After trying a lot of time blocking apps.. to do lists.. i hav came down to this app.. its very convenient', \"I really like it. I think it's a really cool concept to have characters to build up with the habits. Only thing I wish were there is to be able to have notifications for term less habits\", 'Asks me to upgrade just to be able to connect to Google task calendar. Uninstall.', 'Love this app!!', 'Perfect, everything I wanted, exactly how I wanted it', 'This App help me In my life', 'When I try to set up avatar - photo on OnePlus 6 , I have black screen.', 'mm yes good', \"Update 2/19/2020: I cant recommend this app to anyone. The smart date parsing only works reliably if you enter it using military time. Also the fact that you have to enable alarm mode to have reminders fire on time is ridiculous. I have many apps that push notifications on time and don't require that. So the developers don't know how to do reminders correctly. Horrible app.\", 'The Next 7 Days is No Longer Showing \"the next 7 days\" but rather group by lists and not by days..', 'Good 👍', 'Great app; I wish plants and sounds were cheaper. Basically, you get coins for planting trees and you can use them to buy other types of trees and different background sounds.', 'Sorry, maybe I was a little too harsh. Anyway, this app is kind of confusing for me. Using it is not comfortable for me.', 'I like it, easy backup and simple clean interface.', \"Ticktick is one of my favourite productivity app but suddenly the habit tracker doesn't work or respond properly.\", 'Need to pay for such feature . Else should be perfect for a planner usage.', \"Ça fait le job, sans plus. L'ergonomie n'est pas des plus brillante.\", \"It would be a very helpful app if it actually worked the way you'd expect... if I say I want a task to be weekly, but make it so I can complete that task any day, what I'm trying to do, is make the task flexible, so I can do the weekly task whatever day of the week I feel like, instead however, making it available everyday turns it into a daily task, which I will be punished for by not completing daily, my only real solution at the moment is filling up my to-do list which is really frustrating.\", 'Brilliant. For the first time ever I have managed to exercise outside, do yoga, meditate and eat healthily for a full 8 days. Im on a roll! Thank you Habit Bull.', \"I had made an account for this app a long time ago but didn't use it for long and I forgot why until I re-downloaded it today. This is one of those apps that's incredibly frustrating because a lot of the main advertised features are behind a pay wall and/or you have to make an ADDITIONAL ACCOUNT FOR. Paying more than $1/mo for a list app is ridiculous. If anything it should be a one-time purchase.\", \"Like it's clarity, variety of colors\", \"At first oke, unless you don't want to give permission to Google.... Each time you Deny to share you're data, the question simply pops up 10 more times, hoping you click allow. This is pesky!!!\", 'This is the to do app with the best features (or just the features I personally need). However, my recurring tasks keep disappearing, which is simply unacceptable behaviour for a to do app.', 'It take to much time', 'Really helpful!!', \"This app is useful. BUT. It would be so much more useful if you could set a routine to be repeated every weekday/ weekend day/ week/2week/4week/month/etc. It is badly in need of this feature. I thought buying pro would allow me to do this and it hasn't helped at all and I'm disappointed I spent the money. Please say that it is an upcoming feature. Resetting routines for every day is really inconvenient!\", \"Absolutely loving electronic planner. I've been looking for something that fits what I need for AGES and once it has recurring tasks,it will have everything I need 😍 I've contacted support a few times and the response is really quick and resolves queries at first attempt.\", 'The app no longer notifies me of my tasks!!! Please fix', 'worked okay for awhile. sync between devices no longer works and I have the paid for premium account. uninstalled on both devices. sync fails on both', \"Thank you for such a gud sectograph this is so nice and perfect but i want the alarm should ring louder/to adjust but it's not available I think if it's there pls let me know how to adjust the volume.\", 'Good', \"Even after your response it doesn't change the fact that you are required to have an account to proceed. The reasoning that others do it is negligible. Only way I would rate this app better is if you had an Anonymous auto log in that can be converted to a full account on sign up or log in.\", \"I've only just started using this app, but it seems to be exactly what I was looking for. It allows you to create customised event types, programme start and end times for events, set repeating events. It's simple, but not lacking in features. One suggestion I have is the ability to see a weekly view of the schedule.\", 'Hate subscription uninstalled', 'Increíble app!!', 'The most trash app i have ever seen.', \"Great in theory, doesn't play nice with outlook which is s shame as this could be the next must have app\", \"Nice idea with a few issues: some tasks never seem to go away. Whether I say I did them or fail or skip or try to edit they always stay there for the same day. Also, if I miss one day it takes forever going through each missed task and either skipping or failing or deleting or whatever. And like I said sometimes that doesn't work. Fix these issues and I could really get behind using this app.\", 'A bit of headache in beginning.. but awesome!', 'Asking for sign in frequently', \"I don't want make an account before trying out the app! Give us a week trial before making us sign up, please.\", 'Bug found. A whole week if appointments keep disappearing a few hours after I put them in.', \"If you pay for premium, you won't actually get the premium services (as other reviewers have noted). Troubleshooting steps from their site don't work, and no one responds to the support email. Contact Google and they'll reject your refund request.\", 'Its okay. I unlocked a tree, it took my coins, but when I went to plant the tree it said I needed to unlock it (all my coins were still gone)', 'It blocked me for no reason when I just only joined, i dislike this app.', 'Jus started using. So far I like it.', \"I LOVE THIS APP VERY MUCH. When the quarantine started, I gained a few kilos, didn't exercise enough and would sit on my phone all day. When I found this app, I started to do things - even making habits that I want to have. Also, this app is also a semi-RPG game, so it's a really big plus. 5 stars, GUARANTEED.\", 'Need to register, immediately deleted', \"Using this app for atleast 5+ yrs and suddenly the team choose to make reminders a paid feature !! I mean if you are so desperate atleast set a small amount for reminders but that's unacceptable to pay full premium for such a small feature which was the basic thing since the start. Goodbye Todoist Edit (after reply): So you mean, me & every other person who is complaining are all wrong. Reminders were never premium until some time ago. I was using that for more than 5 yrs on free plan. Have courtesy to not lie atleast :(\", 'Loved this app but I prefer writing things down', 'This is by far the best out there but it is not reliable because if i get a new phone for whatever reason the data will not transfer to new phone (data will be lost or i will not have time to set the settings and input previous data in new phone )and that is only reason i cant trust this app. I am very upset that one flaw kills a very good app. Anyone that uses a calender heavily knows the trouble of my example. Again, by far it is a very very good calendar app.', 'Great job!!!', 'Too complicated, too many details', 'Very good', 'Works very well.. easy to use', 'Great App for students', 'Сильно не хватает возможности поделиться списком, например покупок, с семей', 'Слишком сложно, но при этом нет того, что нужно. Очень много возможностей, но не смог элементарно сделать TODO список на _каждый_ день. И постоянно лезут с предложением купить премиум. Да не вопрос, если бы был необходимый функционал. Ощущение, что приложение разработано рубить бабло, но при этом не задумываясь о потребностях пользователя.', \"It's completely a mess. Can't understand what to do and where.\", 'This app is a big help for me in my Work-Study-Life Management.', 'Lnot friendly interface', 'A very simple habit tracker. Easy to use.', 'Not sure', \"NOBODY USE THIS APP. Read all the forums. The app does not support the sync once you've bought premium. Everyone's saying the same. And the devs DO NOT RESPOND TO HELP REQUESTS. I have an error that makes me unable to sync due to a connection error though clearly I am connected to the internet. I am a premium user. The app is great but please help me with my problem. I'm tired of taking screenshots of all my pages every week as my remedy for the sync error.\", \"I'm loving it 😁\", \"Does almost everything i need. I have tasks that occur on the 2nd Sunday, 3rd Thursday, etc of each month. Can't figure out how to set the repeat for that.\", 'Everything is premium', \"Doesn't show empty hours like Gcalender, also asking me to subscribe from the get go.\", \"It's now almost as good as Wunderlist and has a dark theme and a nice dark widget! Please add commenting like Wunderlist had as it's really helpful on shared items. Migration could be better though, as you have to share all the lists one by one again and delete the old ones, where you are not the owner. Also, it now forces you to use a Microsoft account.\", \"Very useful. I think it's best for a day-to-day use, but I'm particularly impressed with the grocery list function period really dig it! And it's really cool that it sinks with my calendar!\", \"It's a good app and was very helpful. However when the app updated it signed me put of my account and apparently I can't restore it. Would be helpful if you could fix this\", 'Good, but notifications not working.', 'Excellent app for to do lists and reminders either by alarm or notification. Would love if it also added a banner to the locked phone screen', 'Its very helpful', 'Nice', \"I am upset I switch phones and don't know what happen I dont have anything I wrote in calender there anymore... and it was buisness stuff!!!\", 'I love the variety of settings and options', \"This is the best planner app I've used so far.\", 'Great app', \"How do to stop monthly payment because i don't use this app anymore\", 'The app is really good , it just needs a tick box system to mark what you have done and not done , and a tracker of how many days u ticked off these routines to assess progress', 'I purchased the upgrade subscription and found no meaningful difference between the free application and the subscription application. I feel ripped off and immediately ask for the return of my money.', 'It is great', 'Very nice app! Easy to use.', 'The most favorite part - add widget to the main screen is unavailable, very disappointed', \"As I am a regular user of this app...This app needs some update like the calendar based listing method. People will go to date and list the task...Another problem is so many color for list. It's annoying... Who don't like colors they can select one color for every task list... That is all...🙂🙂🙂\", \"I'm still looking forward to it's impacts at this point.\", \"Great looks and concept. Has some important features for accountability that other apps don't. Task scheduling not as good as the competition. Tutorial needs to be more explanatory.\", 'Good', \"How to disable the everyday 9am reminder to keep a reminder? Honestly don't need it. That's just a noise!\", 'At fırst it seems complicated, but after some days you will find it handy and usefull. It really organized my day. If I could invite my friends via different social media it would be great. In the mean time inviting them via email is the only choice.', 'Edited. Three stars because it could use some improvements (like ability to select text, cut/copy, and paste). It only gives the \"Select All\" option. Ability to drag items on lists (mobile) would be good too. These work fine on the web but not mobile. The app is gorgeous. Great sync with Google Calendar & visually pleasing, but too many glitches on my end, including web app (things not updating, making what you just typed disappear or not deleting when you try to delete). May retry in future.', 'Used it for quite a few years, decent app, always room for improvement, but it works well.', 'Pay for everything except if you are here only to create and delete tasks. You have to pay for reminder, label, comments or for atleast the dark theme.', \"Can't assign to multiple people. Verry bad !!!\", 'Not used', 'Solid habit tracking app. Great for what I needed it for.', 'The best', 'Easy to use, works great..i downloaded it yesterday , pretty much what I was looking for..which was more a keep my schedule, track my schedule..remind me to drink water, you can add to do things..but i do have a separate app for daily, weekly, months GOALS..but on this app I remind myself to look at it lol.', 'Sooow good', 'You create good think bt every option you when i use just close it and subscription to much price 350 par month os is really....', 'It thinks about the day the way I do', \"Love the app, but I have a question. In the options under daily tasks, we can choose between Daily or weekly, What's the difference?\", 'He ha', \"It's ok but I wish I could move activities around in a routine instead of having to manually change the time one by one E.g. if I have yoga 9-10 then study 10-12 and want to swap them I can't just move around the blocks I have to delete study, change the time of yoga then add study with the new time. It's time consuming and not practical. Would also be good to be able to change settings of a routine e.g. from 4 days to 2 instead of deleting the entire routine and start over\", \"Like the look but it messes up straight away. Instead of saving an entry the app cashed and deleted it instead. Don't get!!\", \"Pretty useful and very helpful, but it seems like it's not being developed any further. Could have a lot more great features.\", 'It would be 5 star but 1 star for you dammm new update which is purchasing plants😤😤😤', 'Excited to try it out, but the app crashes whenever I try to create or edit tasks!', 'good so far. only used a few times may review later on.', \"I love this app and all my friends use it and compete against each other. This is a brilliant concept! however the app seems a bit buggy. I was in beta programme and then I was unable to send invites or buy certain items. I thought it's because of beta being unstable so I opted out of beta and reinstalled the app, still didn't fix the issue. I'm the party leader and the group isnset so that only I can start quests, still anyone starts a quest without me knowing and I don't face this on browser.\", 'Nice', \"Update: Used to be great. Now they've added so many steps it's no longer the simple app it used to be. Very disappointed.\", 'Love it 😊', \"What's up this app I open another app and deletes what info I put in I can't go back and forth with it .. disqualified! !!\", \"Won't  sync\", 'No bad habits to simply punish me, just could make good habits?', \"Sharing does not work in ANY way. For basic ToDo its OK, Sharing its Absolute TRASH. If you share a list with somebody and that somebody addicts and item or creates an item you don't see any changes. The person that you share a list with only sees an initial review of your list however no changes are propagated between the owner and sharing destination. And what is even worse is if the sharing destination user updates any tasks that task disappear from The To Do List. that means items disappear\", \"I have tried a lot to set up reminder..but unfortunately it's not working which is pretty excruciating as a new user. It seems good initially but this is pissing me off. Do ler me know I can fix up this ..\", \"Could be a great app except that like another user said, it does not sync between devices when the description claims that it can. That's a big letdown for me because when used any other of my devices, and when I switched phones, I couldn't sync the app up with my data or any habits I've been tracking, even though I have the premium account. When attempting to sync It always says that there is no internet connection, but there always is. So I can't give it a full 5/5 rating, otherwise I might.\", 'I do not understand how I will add events. I tried adding events but it only shows up in my calendar not at the sectograph. It seems to be useful but I need to know how to make it work.', \"It's an ok replacement to Wunderlist, but it's worse. I cannot duplicate a list from the app, which is a basic feature one would expect from a todo list tracker.\", 'Love it! Has been super helpful in getting me more focused ans organized. Super easy to use and love the reminders!', 'He guys', \"Best planner app. There's more to it than any simple work planner app. Highly customisable and easy to use.\", 'Good but not ok', \"I've been using this happily for years, but I have realised that it desperately needs iCal feeds functionality to make it perfect. I need to see personal and work calendars, and an university provided ical feed all in the same place. Update: A year on from my last comment and a university year and this still doesn't seem to support live iCal feeds from a url. One-off iCal import has always been there, but this will leave me with a potentially out of date snapshot of my timetable rather than the latest version.\", 'Its just wooooow this is an amazing app it has almost all features that u need without upgrading to premium there literally no adds wich I loooove , a plus I really want the calendar I wish if they could made it free ㅠㅅㅠ anyway this app is loove . Waaaaaaay better than todoist', \"I like this app because it's simple and easy to use.\", 'Why too many steps to remove a project?', 'No notification. When I will the app then it will remind me', \"I personally would like to add to this app, if I had a chance is change how the entires were set up. You had to make up the name. But it would make it better if it had a date and name. To me it feels like something you can do on a piece of paper. Add more cool features that you can't find anywhere else.\", 'Helps me focus on my work but the downside is whenever I close my phone it takes 10 to 15 minutes and shuts down maybe this is because of my phone or something but nonetheless I enjoyed using it.', \"Missing a few good features and isn't always the most stable of apps\", \"Features are all right. It doesn't seem to me like they actually USE their own product. Else the idiosyncrasies would have been ironed out.\", 'Good integration with Google home, but needs widget to be able to access the shopping list', 'A bit disappointed,  bought a new phone and re-download ed the app, would not bring my calander in from my old phone and asking me to repay for the full version.', 'You cannot delete the account from application for some unknown reason', 'Month widget failed to show the calendar month erroneously, but just show a week on the first row of the calendar month weirdly.', 'Great App', 'So far it does what I need', 'I liked the app until it told me I could only have 5 goals. :(', \"Great interface and concept. What I appreciate most that other apps don't do is that they distinguish between habits, dailies, and to do's!! Props. Also I love the guilds concept as well. One suggestion is maybe have a clear visualization tool too see the progress made. But I get it the point of this app is to level up your avatar! Overall good job 👌\", \"This app has not been functioning this week, it has not been reminding me on any of my habits... super frustrating!!! I loved this tracker and now I may have to look into another 😬 I've tried deleting, reseting, uninstalled and reinstalled, nothing. But if you remember on your own you can put it in and it'll keep track\", \"I want to make a weekly habit (routine), but there's not any option to choose the name of the week's and plan! please add that option (instead of day 1, day 2 add: Sunday, Monday) and a option to choose first day of the week. thanks.\", \"Ads are obnoxious. I've used this app for over 2 years and now whenever I edit a calendar event, an ad comes up and takes up my entire screen. Unfortunately I'll be looking for a new app.\", 'This app really helps me focus I can study with a go', 'Cost$$$$$$', 'Good app, but not exactly what I was looking for. This app uses your calendar events and organizes them in the circle. The controls are great, I love when I move the red time bar it scrolls through all the things and shows the time changing. Love the widget. I wanted this to work out a homeschool schedule. I ended up having to make a new calendar and syncing only that one. I was able to change the colors of each event in the app. Very easy to use overall.', 'I REGULARLY USED THIS APP N IT HELP ME TO TRACK MY HABBIT N ENCOURAGE ME TO BE BETTER N BETTER TASK IS ALWAYS CHALLANGE FOR ME N WITH THE HELP OF THIS APP I COMPLETE MY TASK WITHOUT FORGOTTEN OR TAKE IT SERIOUSLY SO IT CHANGE MY LIFE N SOMEWHAT MY LIFE IS REGULAR WITH THIS APP. THANKS HABITNOW', 'Too complicated', \"I can't download it to my phone\", 'Very bad', 'From the beginning of downloading this app everything was perfectly fine, I would have given it 5 stars about 2 weeks ago. Now I have given it 2 stars because as I try to open store and get new plants and trees the app crashes and closes so I am unable to get new plants. PLEASE FIX!', 'Sufro de ansiedad y TOC, han cambiado el diseño de la aplicación SIN PREVIO AVISO y no te están las cosas como yo deseo, cómo hago para regresar a ver los colores y los íconos, ESTO ES REALMENTE MOLESTO', 'Good', 'Nice app not complicated at all.Super easy to use.The perfect app is here .', \"This app isn't very good. It's laggy and you need pro to do any important stuff\", 'Well I have suggestion make a system where students could track time... Like total available time then distribute it over task..', \"Was great, but line breaks in 'notes' section is making unusable. Please fix immediately or I'll find another tool, which would be a shame :(\", 'Recurring tasks are behind a pay wall. Ridiculous to have to pay a monthly subscription for such a simple feature App is a little ugly and not customisable.', \"Ever get a phone call from a Salesman whom you don't remember giving your phone number out to? this is the app that does it. it reads your phone number and identity and uploads it to the cloud where it can later be sold to the highest bidder. this app makes sure that it gets your identity because you have to login before you can even use it. once you log in, the game is a huge disappointment. mypoli has everything over this.\", 'simple app, widget is bad (left side has a bar that ruins symmetry, also you cant remove the new task button), also, why can I change list color but cant change button color? would also be cool to preview what \"compact/cozy\" and whatnot settings do instead of having to select them one by one, leave settings, and go back in to change them again. all in all, its almost a 5 star app, but the nuissances ruin the experience a bit.', \"I use it mainly for its widgets. ONE THING THOUGH: please fix the widgets so that the they show the current date and don't stay put on the previous day unless manually changed.\", 'Good app', 'So helpful and sweet', \"It's fun, a great concept, but the app itself needs work. It locks up constantly and has to be manually shut down and then re-started, and the reminders basically don't work at all. Honestly I think it would be best to remove the reminder feature for now until it can be fixed, because not having a way to set one at all is better than using the feature and thinking you'll get a needed reminder when you won't because it doesn't actually work.\", \"Hey guys great game but I'm a mage and my mana keeps changing itll go to 300 and then ill level up and itll drop back down to 268, its been doing that for a few days please help us :)\", 'i sent an ivite to people and everyone got over 50 emails for the one invite. What a joke of a an app.', 'Good app', 'I really like this app, I purchsed it forever. ❤❤🙏🙏', \"Just installed and trying out (I'll update along with my experiences). UI/UX is pleasant and clear. Looks promising. Love the Free full-featured & Premium accessory-features philosophy; I'll pay later on to support development. ISSUES: 1) can't change start-date & repetition of a habit; if it'll break history data, at least allow duplication 2) would expect SCHEDULED days to be colored/marked in the single habit calendar, as future overview; not just as achievement overview. ## So far, good job!\", \"I noticed a slight anomaly in the app. If you start focus for a subtask e.g. SubtaskX of TaskX, then why isn't that focus time added to the total time of TaskX? That SubtaskX does fall under the TaskX, so any time invested in SubTaskX should also be added into the main TaskX otherwise it defeats the whole purpose of SubTaskX if it is independent of the TaskX. I hope you will 'focus' on this issue. Thanks. ●Edit1: The app has a lot of useful features but they are often hard to find. Simplify it.\", \"Worthless, u can add tasks and things to do in the future but it won't remind you or allow u to set alarms unless you pay for premium membership... Lame.. #instantdelete\", 'cant get demo to play .its probably a great app..', 'When I buy a product on the list and touch the item that I bought, I simply wish to see a line through it, and it is that deleted item along with all other deleted items that I wish to keep forever so that when time comes again, I can touch the deleted item and simply remove the line strikethrough as an item to purchase again, so it is the deleted items I wish to keep forever.', \"fantastic app a critical flaw... one touch completion, now when you brush the screen your tasks get set to complete and you can't find them easily.. (updated July 25) the developer asked me to respond to comment... thanks for responding. don't fuss on my part .\", 'Not able to understand how to use this productive app', 'The app is exactly what I was searching for since a long long time. It would be even better if there was some web app or desktop app for it.', \"It doesn't work on multiple devices\", 'Its a great app if you want a calender or routine app. I really like the colour coded tags for different types of activities. I would love to see a separate to-do list. I would prefer the to-do list to be separate to the calendar, or have a linking capability so that when you schedule your task into your calender it disappears or you have to choice for it to disappear from the to-do list.', \"I really have loved this app but it has lately been bugging out on me, even though it is up to date. It won't let me view certain days at all, it will just take me to the day before or the same date in a different month if I try clicking on it. It only started for the past week or two.\", 'Get multiple entries of same appointment! Problem is with Outlook and Exchange 360 occurs with other calendars too.', 'Nice work', 'Love this calendar. Ease of use to add, move and delete appointments, different colours, linking accounts. Love it so much that after a year I moved to the paid version. I would love to see fun backgrounds though. Cheers!', 'Why am I not getting any notification? None at all! I even checked the notification settings.', \"I liked the version before the update where it had blocks to show the event. That's the only reason why I downloaded it and now it got rid of it.\", \"I've been doing this for several days and it's been working wonders\", 'Linking tasks to higher level skills & characteristics, and then seeing them increase, is perfect motivation for me.', 'Good app. Easy input and navigation.', 'Just installed. Keyed in all tasks n to-do list. Server error. Lost everything. Redo. Server error. Lost. Kept repeating. Frustrating = Uninstalled.', 'Paywall, even for dark theme. Very disappointed', 'FYI, Adding more reminders is not free. You need to buy the premium version.', \"Can't sign up with email!!\", \"It's soooo good. ^-^♡\", 'great app', \"I love everything! I just want the XP bar to have a cool animation of actually filling up in front of me!!! It's the only reasons I still use RPG life...I know it's petty...but animations are important for an app\", 'Terimakasih sudah membantu', 'The app worked fine for awhile but all the events I added were simply gone this morning. This was a frustrating experience.', 'Great', \"Can't complete events. Must keep dismissing it or delete it.\", \"The app is making me sign in to an account but won't  let me sign in. Frustrated!\", 'will not be using ever again.', \"This app is perfect! I've been looking for a great digital planner that I can sync on everything. I have an Android as a personal phone, iPhone for work, Mac for personal laptop, and PC for work. For suggestions, I would like more sticker packs, a habit tracker, and finance section. Great job!\", 'I enjoy this app because I am a task oriented person and I can see how much I have completed and the XP gaming quality to it makes me feel like I m reaching for a goal with immediate gratification not just doing work', 'Disks', 'I need more than 15 days in atypical routine Actually I need 28 days (7x4) i work 7 days in the morning And 7 in the evening And 7 at night', 'Set a color which depends on percentage for goals.', 'Features for the free version are just disappointing.', 'Великолепное приложение. Отзывчивая поддержка. Отличный дизайн. Продуманная и удобная система развития. Очень интересно ставить себе и родным задачи и вознаграждение за них. Рекомендую.', \"I've been using it for a couple of years & it's worked well for me. I like being able to set reminders on tasks, something GTasks doesn't do by itself. I did spring for the paid version since i use it pretty heavily and to get the all-in-one widget. Worth it!\", 'Why To do auto add the notes in all tasks?', 'Imposter', 'Any Do Moments are not working for me.. 😪 Please look into it.', 'I used to like this app. Been using it for a few years with tolerably okay results. But it\\'s been having too many problems with sync, and with failing to load \"Karma\" data. Not only that, but if you miss checking a box but don\\'t see that omission until the next day, there\\'s nothing you can do about it. Maybe the fatal flaw of this app is that it has too many features for its own good. I\\'d like to get rid of sync entirely and just use the app on my Android, but apparently that can\\'t be done, and if I delete my online account I delete everything. I think I just want to dump this flawed app and see if I can find a good app that does everything offline in one device with no registration required.', 'Prefer wunderlist! This is a sad adaptation and should have never replaced an app that worked so well.', 'Great app helps me to structure my day and not be lazy', 'Just amazing. I just want an option to set the list in order that i prefer even if I set them by !!1 !!2 !!3 or !!4.', '🙄🙄🙄', 'widgets are broken on my OP6T stock , please fix.', \"Absolutely love this! I love that you can copy schedules so you don't have to keep doing repeats. I can't wait to see what else this can do!\", 'Wonderful app to keep you up to date and to remind you to complete your tasks in time.', \"Awesome app The best i've ever used\", 'Edit (June 5, 2020): Fix the party chat. Please. It is very annoying having to switch to other categories just to see the new message. Even the private messages are the same way', \"This app is amazing! Very convenient to be honest. Everything is just there for u to setup, the interface looks simple but great, especially the dark theme. I love it. One main thing about this app is that the premium section of it does not overwhelm the user. It's there but it doesn't shovel itself to the users face. Compared to the others I've used this is a better deal.\", \"I haven't used the app in about a year and when I opened it now, I find that I'm totally enjoying the new update. 👍 Thank you for making the app more interesting than before. I went premium right away!\", \"rlly good,just 4 for bugs.. but it's really good!!\", \"To view your calendar you have to sign up & then after you sign up it say you have to upgrade & by upgrade they mean buy it for a month subscription or pay for a year. 😅 Can't really use it for it's intended purpose without having to buy it. I downloaded it because I was under the assumption that it's basic functioning was free. The subscription price is cheap but I'm careful which places I put my bank/card info as I don't feel comfortable putting any info about myself out there.\", \"I have been using Planner Pro for several years. I like this organizer much better than others I've tried. I don't like the ones that come with the phones. Planner Pro works better, for me, with my Samsung Notes than with my LG's. The calendar is clean and well organized. I can have several different calendars all working together or separately, ie work, family, personal, groups, and volunteer. I definitely recommend the Planner Pro. Plus it works well with my Gmail calendar.\", 'Best app keep it up 👍👍', \"It's pretty simple and there are discussion boards where other people share their experience on similar experiences.\", 'Great app. Love how it learns abt my events and notifies me accordingly.', 'Please Add UPI feature because I tried many debit cards to get the Premium Versionof this app but any of them was accepted.', 'Helps a lot to manage my hectic schedule try it', \"It's nice and helpful\", 'Fairly limited', \"Bizarre task app. You add a task and then tap some strange icons like tags etc. that seem to do nothing in particular, then you send it to an inbox for reasons unknown. You then have to click through two more screens to tap it again just to add a reminder and set the time. To make all that official there's a tiny check at the top of the screen to tap. Then, nothing really. No confirmation or summary, nothing. You have to double check that you got it right. Also, updates do nothing. Laborious.\", \"This is a fantastic app. I paid for the pro version after trying for a few weeks. The features are just about right for me. I switched from another paid app that I've been using for over 10 years. 4 stars because: 1. Colors set manually for events/tasks do not carry across devices. 2. Minimum task synch time you can set is one hour.\", 'user friendly. nice.', 'The best customer experience I had in 12 years.', \"I'm using a tablet where it's only available in landscape orientation. Just not for me, I think.\", \"UPDATE: Tags have started syncing back again. Tags do not sync between the mobile and desktop app. I am a premium user and I put in a ticket about the issue. After frequent back and forth over the email the issue hasn't been resolved yet. I will update my rating after the issue has been fixed.\", \"Paid for premium so I could sync between devices, but it doesn't work and customer service will not respond to my inquiries.\", \"Have relied on this app for work since it 1st came out. Great for project management & tracking/budgeting time. REQUESTS: • Please bring back hourly repeat function (i.e. Set an event to repeat every 3 hours). It was a useful Interval timer. • CHROME EXTENSION or online version (as paid user, I'd pay more for this). • Increase maximum # of days for atypical routines, with option to create monthly routines. • Sync Google tasks & reminders (in addition to events). 2-way sync w/Google Thanks!\", \"I think it's pretty cool how this app communicate with the calender, smart watch greatly enhanced the experience as well, good job. I just wish there was a galaxy watch version of it. :(\", 'I really liked this until I realized that unfinished daily/repeating tasks get marked as done whether you complete them or not the next day. That makes it pretty useless for tracking tasks I need to do each week.', 'It just keep on showing only one event whereas there are more than one events', \"I'm really enjoying this app. It's helping me juggle between planning my cross-country move and daily life\", \"Works well. Does more than I need. A little awkward setting up reminders. 4/24/19 UPDATE: New app update forces me to read how long ago was the task due and then it shows what it is. Very very annoying. Will be looking for a new app if they don't fix this. 4/30/19 RESPONSE: Pop up notifications show how long was the task due, then what it is. And I mostly read pop up or slide down from the top. Disabling Countdown doesn't solve the problem.\", 'Max of 9 lists, then you pay 3 bucks a month.', 'So helpful tool.', \"I like this app, I bought the premium version last year and I still can't synchronize my data, I have to change my phone and I will lose all the data! Could you fix that?\", 'Notes sign is in ALL notes. All over the internet. YET. Microsoft NOT fixing. WHAT DOES IT TAKE TO FIX THE BUG? IT HAS BEEN A MONTH THAT WE HAVE BEEN REPORTING THIS.', \"App is good but habit notification doesn't make any sound\", \"The new adds system is getting really annoying. Ads were a footnote in previous versions... now they interrupt what I'm doing ... really frustrating\", \"I like it but it started putting a note icon below each item I add to the list. It makes the item box twice as tall and it's super annoying.\", 'How can I change the language??', \"It used to be my everyday companion in every organisational way, but after the new update, there was no way to place a new task into the right day. It automatically put the task in the current day, not it's intentional deadline\", \"This app is good and it's useful. Yes it's true that it has a few bugs here and there but the app itself is good and I like it. I wish it had an offline mode because I can't stay on all the time but I can see why we need to be online at all times.\", 'Only 3 stars because after the first 5 options No more Then u have to pay', 'Super bueno, salvo porque estar en la app diciendo que hiciste y que no te resta tiempo de tareas que debes hacer', 'This app is crashing whenever I try to mark as task completed on a \\nparticular date.', 'Just started using it. So far so good. May change rating after using it for awhile.', 'Enjoying the app.', 'Great app and well thought of, love the wear os integration. However paying for the full version, I wish there was more customizable options such as custom background or custom font for the numbers. Would be great to include that.', 'Super app but, mb kuduthalan', 'Absolutely love this app! Keeps me accountable and on track 😁', 'Bad', 'There is some problem. It no longer gives me warning and redirects me back to forest when I use some other app.', \"Was really good but I think it'd be even better if it had a widget that could just take up a whole screen and mark complete on tasks from there\", 'Your app is awesome, please add sticky notification', \"I'm sure the premium might be fine, but all of the most important features are locked behind a paywall. I wanted a simple app that would let me set repeated reminders on my phone, but this surely isnt it. At first, it told me I just needed to sign up to do that, so I did, but then it said I needed premium! Very misleading, I immediately uninstalled because that is just untrustworthy behaviour to me.\", 'needs online account? you want to see our habits eh? no thank you.', 'Widget freezes, app does not sync. I had a galaxy S7 edge and just got an S10+. App fails with both phones. Regret spending money on this.', 'Really cool app.', \"My phone is a Samsung S8+. The introduction screen is mostly blank, and the character customization seems to be broken because your character and customization options don't show up. I didnt go any further.\", 'Very helpful on study', 'Very bad', 'Lost another star for your reply to my previous comment. I like the \"moment\" notification. I like planning my day.. i hate the dumb sounds I can\\'t turn off for every item I snooze.', 'Great', \"While i can understand limiting somethings for premium only, i've never seen an app block widgets behind a pay wall and quite frankly this is only useful to me if I can keep track of things on the homescreen. Maybe I would have liked it but so far i havent used it because i keep forgetting its there.\", \"The best app to start a new habit or quit a bad one, it includes statistics on how you really performing, which is great. You can also put password for your privacy. In addition to that you can also add tasks your goal date, reminders,.... If you have not yet downloaded it I don't know what you are waiting for😄\", 'Thank you this made a difference', \"It's perfect,I love it.😍😍😍\", 'Practical', 'great app for your phone but if you need smartwatch functionality, look to Any.Do rather than this app. In dialogues with the devs, theyve stated they have no intentions of integrating even simple WearOS apps (like add task from watch). Uninstalled', \"Don't get any notification at all\", \"The ease of use for everyday things is great, I have a note pad, task pad and calendar and I just set a task to call back a customer after hrs.. Sure it might note be a flashy business planner but if you just want something to remind you of events store something quickly for later reference, what more do you need, so far any ads haven't been intrusive the main reason people stop using these kind of apps\", \"Not much better than Wunderlist but now it's attached to my Microsoft account for work so I cannot share my personal lists, like the grocery list, with my family.\", 'Excellent', \"I really like the idea and would of easily voted 5 on it but it has no alerts or alarms on mine to remind me to do the set task. Doesn't even send me a notification.\", 'I have subscribed and have been charged for the whole year. Though no features of premium appeared. Can someone clarify the reason????', 'App has no images on S10+ and is completely unusuable', 'Please add a feature to assign tasks to multiple users. And for no reason, the app ads an empty note to every new task being created with the Android app.', 'I like this update.. however i still think this app could be better in UI.. \\nin future, could you add the visual improvement like adding progress bar in \\neach characteristics and skills so we can track our progress more fun.. \\nalso just suggestions you could add health and magic point like in real RPG \\ngame.. alot people would like that i guess..', 'This app was good, until I purchased the Pro Version. I was saving up coins to buy a 2k tree. When I was finally able to buy it, the system keeps on saying that I did not have enough coins. I tried buying a 600 coin tree and suddenly, my coin went down to 500. From 2k to 500, and I only bought a 600 coin tree. It happened twice already, and this is frustrating.', 'Very clean and straight forward to use.', \"After getting the premium subscription I found that, Windows 10 app doesn't have any app lock mechanism. So anyone using the machine has access to Todoist! I'd request you to fix these kind of basic things before bringing more features.\", 'This app is absolutely useless. Because of this i missed an important event because the reminder alarm supposedly forgot to rang. Its pathetic and useless.', 'Simple and intuitive', 'Always reliable when I needed it. Easy to use.', 'Pretty average app', 'As someone who has ADHD and deals with executive dysfunction, this is a very useful app! There are a LOT of paywalls though.', 'I love this app, it only app that keeps my interested. I love the to do list, habits and daily :) then if you want you have a change to challenge yourself. I wish they had a search bar to search up challenge, maybe a group and create group button and way to invite friends and become friends with your real friends so you can do challenges together but I would totally reccomend this app download it now you will not regret it :)', 'Simple and nice. Can add up little more', 'ItS pretty good.', 'Suddenly stopped giving audio reminders. Tried everything including re-installing and turning on all notifications. Uninstalled.', 'new update is full of bugs, pls do something', 'Unnecessarily complex. A simple one dimensional version would be fine', 'I like this app because it helps me to set my working,exercising, teaching, sleeping time... and I want to request one thing add alarm feature for tasks...that will help much better', \"Wonderful apps remind me of those important dates, such as credit card statements, utility bills that you don't want to miss.... simple to use, you can set up a reminder in less than 30 seconds. Highly recommended.\", \"Pretty good app. However, there's a point where I'm not making much progress unless I have gems. I understand why the gems are there, but as someone who isn't willing to spend money on an app, it makes it a little boring. Overall, great experience and helped with my habit building.\", 'Love this app, very helpful.', \"can't really use it without the ability to create your own categories\", 'It was good on first day...but it did not remind me. Not even the first day. Worst app ever used. 👎👎🙅🙅🙅😖😖', 'Vidhya Hodkashiya Very nice time saving', 'Simple to enter and monitor appointments', \"I am a huge fan of Fantastical (on iOS) so I needed an app like it when I got an Android phone. I love the widget and I love the reminders feature! My only critique is I wish there was a simpler view for the monthly view. It's a little overwhelming to see it all the way it is right now. I like Fantastical's monthly view better.\", \"I'm close to leaving Todoist now. Loving Todo more and more. Can't jump because there's still no Alexa integration.\", 'Just downloaded the app.Loving the idea of adding my own habits & to do stuff which i used to tick off daily on notepad(uff) ,now I am glad its automated with rewards too!!.(yay!)Have a suggestion to make all sections of list tabs movable up/down (like the rewards section) to organise as per customisable preference.(-:)', 'Needs comment option on each task', 'This seems like a great app, but if you fall off the wagon or take a long vacation, with dozens of daily tasks, then there\\'s no realistic way to recover, because you have to dismiss potentially thousands of pass/fails until you can get a list of just current and relevant tasks remaining for today. Multi-select helps, but still no good after a summer break, or older user with a 12 tasks triggering daily for a year = 4380 to dismiss by tapping each one. Could solve with a \"Select All\" feature.', \"Great , use it daily . Quick and easy when i'm in a hurry. Would be nice to have a vehicle checklists ...etc\", 'Great tool', 'Nice', \"Good app but needs ability to customize recurring events by allowing us to input an end date.. i.e can't end a private lesson series after 8 lessons, it reoccurs forever.\", 'because of this app, i could organize my time. From morning to evening. Go download this app!', 'no reminders notifications', 'Expecting better. Need alarm facilty to remind me in advance.', 'But then it started locking up everytime I tried to load it.  ←ved it until then.', 'A sloth is faster than this app. Literally.', 'The aap good but not some updates are required, such as - In notes section add photo upload option, Add Journal Option,', 'This app was great a year or two ago. They spam you now with premium service purchase requests (which are costly) and have restricted all the good options to their premium service.', 'Super glitchy. Too frustrating to bother trying to use it.', \"Used to like this app alot but now I have less motivation in earning coins since I have to get premium to get the trees i want. 😔 Saw the developer's reply in others' alike review but I hope they make an effort to create trees that compensate the update.\", \"Very nice looking app for tracking habits and tasks. Have already replaced my old task app for HabitNow. Glad you can purchase the premium version and not have to buy a subscription like many other apps are now doing. I've been unable to figure out how to make tasks repeat and modify the schedule of existing habits. If these capabilities don't exist, would love to see these as improvements.\", \"I newly installed this app, it works basically good but I haven't been happy with its user interface. For example, there is no feature showing all weekly or monthly tasks in a table. I would like to see my future plans at one glance without scrolling down!\", 'All the main options are charged. Then why list the app for free. Might as well list it as charged app', 'Love it! Simple to use, and just the perfect amount of prompting', 'It is a real time management tool.', \"I wanted to like it, iinitially it looked great but it has such a limited window of time view it's no good for planning. A few hours view and that's it. Scrolling hour by hour day by day? Useless. Its sole function appears to be to tell you what you've got coming up in the next few hours which frankly is not much use to anyone as far as I can see. Cloud Cal uses similar circles with a view of the whole month which would be great but sadly the pro version doesn't work so no go there either.\", 'good app', 'Missing lots of features, Predefined reminder dates/times suggestion must be editable!!', \"By far the coolest darn app I have ever played in my life!! I love the whole concept of what is trying to be portrayed here. I doubt I'd actually be good at it because I kind of procrastinate on things a lot😂but it sure is fun already so maybe I've got a chance. But thank you developers for creating this. This can really help people towards their future😊🙏in the most bizarre but absolutely amazing and fun way🤗\", \"It doesn't work or show any reminders whatsoever and no picturea as it says. I wasted my money\", 'Useful and very nice apps, I bought premium, 5 stars when can backup with gdrive😁', 'Normal app the most features on premium account like backup cloud, comment, labels and reminders too.', \"I really liked it at first but it keeps turning on the alarm for my events even though I pressed no alarm I don't know how many times :(\", 'Wish adding attachment and links are easier,', 'Very bad', 'Great app! I suggest a timer on this one, so we can still track our rest periods every time we take a short rest.', 'Overall impressive app but it does not updated in real time. Always showing delayed time until manual update.', 'This app automatically downloaded when i did not ask for it. Very intrusive.', 'I cant even registered.', 'I can not change my font size..', 'Really enjoying using this planner and now my lists and tasks can repeat it is slowly replacing my old calendar and to-do apps altogether.', \"I'm sad I paid for this app. It used to be great. But now it keeps lagging and freezing intermittently, (Huawei P30 pro) I have disabled battery management, tried using original and custom launcher, but app still freezes for 5+ seconds for many actions. Nothing works, and I can't use it in this state... I have no other issues with any other apps. - scrolling in week view - creating event - editing event - deleting event Sometimes freeze, sometimes crash\", 'It crossed my mind to buy the full version but then i saw they want a monthly payment. Why not just make it $5 lifetime? Seems like a good app not sure who copied who with liferpg seems too similar.', 'Excellent app!!! I would rate it 6/5 if calendar option somehow exist. Imagine you do have birds-eye view in days, weeks or even years. May not be a rating/review more kinda suggestions hehe. Admins and Developers great job! Salute to them for making this app awesome. :)', 'app is great but the events are not getting created . Only one two events for a day is created than even it shows created its not', \"Suddenly not displaying all other calendars. And after reinstalling, app won't open.\", 'The app crashes when there are less than 2 characteristics of the Hero. I like customizing, so at first I deleted all presets to replace them with my own, but if I delete all characteristics and then try to add 1 new characteristic the app crashes and the only way to get it to work again is to clear all the data and start the app from scratch.', 'Added feature synchronizer Connect, added the note writing feature during the call, added a feature synchronized with the mail', \"I purchsed this specifically for the pomodoro feature (among other features). It's not included in the app.\", \"the reviews are sending a clear message to you. Act on them. I think the last update has messed everyone up. If you don't act;you're sending a message back:ie. you meant to mess everyone up by locking them out\", 'All the features are premium 😐', \"I love the idea but there are syncing issues.  Events take forever to show on the graph regardless of whether i entered them in the sectograph app or my google calendar.  They show up in my google calender almost automatically regardless of the same.  Also i think 12 hour clock makes it tricky to read since the switch from am to pm is in the middle of the day.  I have something starting at 12:30 and i cant see it on the sectograph but there is a little arrow at that start time with the first letter of that event and nothing else.  It's confusing.\", \"I used this calander app for years and found it to be excellent. But recently it started playing full page video ads making accessing information on the fly unreliable. I'm sure the paid version is still great but I cant recommend using this as a free calander app anymore.\", 'I love nearly everything about this app, but it eats up the battery on my phone like crazy because it is always running in the background.', 'Best app to manage your to do list, and its syncing feature b/w laptop & mobile is amazing...', \"Best productivity app I've used!!!\", \"Nice to track challenges, it gives it's own incentive to keep those day trains going.\", 'Very very bad', 'overall its a very good app, does the job, great user interface. however facing issues sometimes when tasks marked completed on widgets are again showed as pending.', '2019/10/24 - revised from 5 to 1 star. App is dead. All my data gone. Never again trust an app you cannot export and organize your data, and to a universal format. Avoid as others said recently.', 'I love this app. This is very helpful for me especially for my studies. It notifies me and it easier for me to take down or type down my assignments or requirements that needs to be accomplish.', \"It's all good and all but it doesn't help with productivity. Plus, without premium, a lot of the features cannot be used which is a sad thing for a broke student like me. For me, it's overhyped.\", 'Simple, easy to use.... makes it very easy to keep track of habits...', 'Best but paid.', '24 hour mode is a PRO feature?!', 'Sync no longer working:(', 'Great', \"Best free calendar app I've used, syncs with Google and outlook calendars...... ....Edited from 5 to 2 stars...the video ads are too painful. I've already read the default reply to the other reviews complaining about this. I know the fee is low and one time...I promised myself I'd get the paid versions of all the free software I use once I'm not on student income. But I'm not rewarding this painful ad practice by going paid. I will pay for a different calendar.\", 'It was really good for helping me to get motivated for a few days, but when I shut my phone off the notifications stop coming until I open the app again, and check off something.', 'Not sync with Google Calendar', \"This app is actually more functional than Wunderlist, the app it devoured. And that is really atypical for Microsoft's developers.\", \"It was already very irritating to see your latest added tasks being pushed at the bottom and you have to everytime open the app to rearrange. And with new update you can't even open the app from the widget, you have to create a seperate icon which is super super annoying. Probably gonna uninstall the app if this is not fixed soon.\", 'Works well', 'Simple and very helpful', 'Awsm app', 'I love it', \"It's a good app, but I wish it would allow multiple users to see each others task list and to send task to each other.\", 'Free version is missing some bells and whistles but overall gets the job done.', \"Love it. Pretty simple, and it helps me get things done, and even helped to break bad habits like sleeping wayyy too late and waking up at like 12PM. I haven't talked to other users all that much but from reading tavern messages, the community seems very helpful and supportive. I've been using Habitica for about a year now, and I plan to continue using it until I can finally get things done without having to be threatened by a party quest boss lol. 11/10\", 'Full power app! Sometimes a task gets shuffled on its own. Otherwise amazing.', 'Very Good', 'Amazing!', 'This app is very good', \"I love that the app interface is so easy to use. The reason I don't give it 5 stars is because you can't export notes. It would be ideal if that could be done.\", 'Very nice app. Helps me focus, and it has cute trees😊', \"I used to use Habitica, and I must say this is a great step up. I'd like to see more social features, such as sharing tasks - only one person has to perform said task for it to be checked off, but only giving that person the experience and gold. Otherwise, the price for subscription is too steep, thus resulting in a sub-perfect score. I could easily justify $0.99/month or eternal subscription for $15. If that price could be met, as well as fine tuning, this would be easily worth 5 stars.\", 'Homescreen widget would be nice with more display option such as the progress bar.. etc', 'good', \"Great app for managing your activities. Been using this for 3 years and it still meets my requirement in managing my to-do's\", \"Can't sync!! I paid to have the ability to make more tasks, but that's about all it's good for.\", 'Not free', \"Excellent app, great habit tracker. I've found in this app an exciting way to be productive! There are some bugs and functionalities that need to be fixed, however, it's worth using it. I really recommend it.\", \"The widget is useful to see what's next in a glance. Looks very good as well.\", \"Used to love it, but the latest version broke it. Couldn't get it to work. All widget face buttons would work for a few seconds then break. Tried all settings, didn't work. Fix it and I'll reconsider my rating.\", 'Gufy', 'yeah!🤩', 'You\\'re good guys. Your efforts are admirable Please consider making the app \\navailable to milions of people and support \"rtl\".', 'Good base. Needs greater rewards and harsher punishments. Include more visual/audio cues for success and failure. Take notes from other games that make a big show out to clicking a button, which heightens the stimulation the player recieves.', \"Love this app!! I'm much more organized with it!\", 'I bought premium and now I can\\'t login to the app using Facebook. (and I can\\'t login any other way) I get this message: \"Login Failed: You can\\'t use Facebook to log into this app or website because there\\'s an issue with its implementation of Facebook Login.\"', 'Is quite expensive', 'I\\'m really enjoying this app, but I wish it had the following: more view, color, and size options, analytics on all habits done in the course of a week or month, and better widgets. The text is so small in the widget and the texts for the habits in the app doesn\\'t stand out. Oh and setting rewards for completing habits would be really cool. A \"Rewards Earned\" section that you check off once you use the reward (like buy yourself an ice cream).', \"Please help. Relogging in after several months disuse. It has asked me to enter a username and it's stuck on 'username taken'. Will not let me progress to the app. I've tried every random letter/number combination so it's definitely not taken. Just buggy app?\", 'Best to do app ever', 'This app is so good, but premium is very is not very good as before it was released lots of the now premium trees where not originally paid for so i think that there should be no premium.', 'It is very useful in Grocery shopping! And for a daily routine! I recommend you getting it, especially if you are a busy person!', 'It was great but when my phone was reset and I installed again the app, I cannot login even after purchasing the Pro version. It sucks having to purchase again.', 'This app seemed very interesting until I got into the app and at the very start of it it made itself very clear that this app is geared towards women. The avatar customization part all the hair and accessories were for women. App seemed cool but unwelcoming for guys.', 'I uninstalled because the app was a little confusing. it has a great idea and all bit I just didnt quite get how to use it...', '#5 jsmallaadawy Tz🇹🇿', 'Dashboard/ charts better be inclusive all habits. Not just per one habit. Also download to excel would be nice', 'Even after buying it displays ads and says it is a free version.... After some time it is working ( got an technical support too from the app manufacturer Tq)', \"Need to be online to use this app. In case you make changes in offline mode. It doesn't sync automatically when online. You need to again make those changes. Enable offline feature and offline data should be synced when ever we are online. Once this is done, you got my 5 star.\", 'Missing back buttons on some screens. Otherwise great.', 'Very bad app what i think but this app is wrost', 'Good app, really helpfull', 'Nice looking app albeit does not seem to sync with Google calendar and not cross platform. Certainly cannot do $15/yr.', \"Easy to add and remove tasks. I need simple or I wont do it. Lazy? Maybe but I'm being real.\", \"I really want to love this app but it won't even let me select PM so its constantly telling me its past the due date, which makes the app very useless to me.\", 'It is quite good for managing your schedule and having your schedule written down somewhere instead of it being in your head. You could definitely use it for your professional life. I only use it for personal.', \"Why can't I see completed tasks in any project? Sometimes the program shows them, sometimes doesn't.\", 'Great muti-organiser with multiple lists', \"I've only just started up, but this app has progressed so much since I last saw it! UI is really tidy and easy to use. It doesn't feel like everything is locked behind a paywall (though I plan to support). Tasks/rewards/etc. are easy to customize, so the game can be tailored to exactly what you need. I have ADHD, so an app that makes every task a fun/novel experience is fantastic. I'm hoping this becomes a well worn tool in my belt. Thanks to the devs for creating such a useful resource ❤\", \"For anyone who wants to use this app: Devs stopped updating this in 2018. So they won't reply to your queries and/or issues. Look elsewhere...\", 'This app helps me alot in tracking and managing my different jobs.', 'फर्जी', 'Decent app', 'Easy to use and does the job in an easy user friendly format.', \"You shouldn't have to have an account\", \"Great organizer, however, too many features require you to have a paid membership, while similar apps don't require any membership fees.\", \"This app is able to sync across your devices and has a simple user interface. Still, I'd like greater organization facilities than are currently available. I wish you could assign tags on items in different lists and then filter by tag. For example, I have a work list with my tasks in it and I'd like to assign tags corresponding to the work sub project the task belongs to.\", 'É um aplicativo pra quem é visual se você ê mais chegado a listas não recomendo o uso. Mas é um aplicativo muito bom para ver seu tempo livre e o tempo que você gasta com tarefas relacionadas a eventos', \"YOUR LIFE WILL BE CHANGED BY THIS APP! I have always used paper planners. I've also used digital planners. I also have my digital calendars. This app takes all of those platforms and makes a beautiful pastry! You need a list? They've got lists! And stickers! Really. It's a no brainer\", 'Stupid app keeps kicking me out of my account.', 'I am not providing email addresses or google or Facebook accounts for a todo list', \"It's really a good app,but they need to add some more features to it like copy schedule and some other good features.\", \"Great app. I don't even play video games but I love the set up of this application, the split into habits, dailies and tasks is perfect. The streaks and rewards are motivational, I like the capability to set reminders and being able to have a task list widget on my home page. I tried a couple other to do apps and none have kept me consistent besides this one.\", 'I am very much satisfied with this app. Well structured. Will like to use this app life long. Option for recurring task (unfinished task) seems awesome', 'The app is great, but there some glitches and ways to access other apps, also there should be an option for creating a list of apps that you want open during the session, like calculator or any other useful, or the other person wants to use.', 'only 7 free habits', 'Best I could find for my needs', \"Love the app. Especially the sound it gives off when you tick off a task. Only thing is that you can't thoroughly organise the tasks you have set. Other than that, I highly recommend.\", 'Great app', \"My original review seems to have disappeared. I have an issue on my Galaxy Note S8 where I can't turn off the alarms without uninstalling. I received a response from support, but couldn't respond directly. Their response was simply that I should be able to swipe the notification and the sound go away. Yes, I agree, that should happen. However, that isn't what happens. There is no notification from the app for the alarm. I receive other notifications from the app. Running out of room to explain.\", \"Guys - I really want to like this app more and give it 5 stars! Everything is there and I can see the work and effort that has gone into making it so thank you so much! But on Android the habits screen is quite buggy and won't let me adjust the streaks. The keyboard comes up but closes immediately so I can't do anything. The dailies work fine. I look forward to any updates you're planning but considering this is free, I think what you've achieved is great!\", 'helps to concentrate 🤪', 'Nice app best planner in play store Good app for busy people', 'Good list app. Simple to use.', 'I consider it as not easy to use.', \"The settings don't work well and it's really confusing when it doesn't function at all!!!! 😤\", \"I absolutely love this app & pc program. To be able to keep constant notes between work then mobile in my pocket is fantastic... Until I discovered, I'm not experiencing sync in real time. So down to 2 star and my suggestion to get the app to 5-stars would be if each input would automatically be visibly dated & if real time sync actually was real- time. Needed vital info and thought I could just check the note on my smart phone but, this has not been the case. Wasted a lot of my time & nothing.\", 'Too hard to use. No tutorials make it worse', 'How to use this app? 🤔 Very bad experience. Please simplify the process. Nobody wants to take a extra tutorials to use your app to plan our day.', \"Some things should be made easier like typing in the tasks one after the other easily without having to press 'Save and New' everytime.\", \"Too casual, cannot create routines for specific days only. App assumes that every day is exactly the same. Stats are random and don't represent actual skills. I prefer life rpg + time time + pomodoro app.\", 'Wow! Adhd helper for sure', \"Really cool idea, but not supported on my Wear OS Fossil Watch (Gen 3). I was able to hack it as a watch face via the Wearable Widgets app, but it's not optimized. Please add watch face support for Fossil Wear OS devices!\", 'Works really well', 'Please tell how to get a audible alarm after setting date and time in reminder? Without an audible alarm at set date and time for any task this app is of no use to me', 'good', \"Horrible app. I'm a big Microsoft fan for their products, but Google keep is 100 times better.\", 'Good idea but there is on reapeat routine, i have to add evertime so make me hang more. And its work only 12 hours basis', 'I had to switch from Wunderlist and one of the most important features no longer exists..the ability to duplicate a list. I have a couple long lists with sub tasks that needs to be replicated on a regular basis so this is a deal breaker for me.', 'Does not work', 'you should have name to change date with \"yesterday\" \"today\" \"tomorrow\" (not number) on widget view', 'good app...but they could add something like notification bar tab or floating widget or something so as to remind us constantly to keep us in check in order to develop out habits', 'i cannt acces my account anymore since their \"password reset\" feature does not work. tried on my iphone, android oreo, web version. i don\\'t receive any email to reset my password.', \"(Works now) Time stops in Adroid 10 (Upd: ok will try. Thanks for the quick response!) (Upd: it still doesn't work) (Upd: thanks for your help once again, but i've tired all means to no avail) (Upd: it worked when i removed the widget and re-applied it! Thank u for the great support!)\", 'Troublesome widget organization. When I tap a date it opens app to date previously open not new date needed. Very time consuming and creates booking mistakes when not careful.', 'I really find this app helpful', 'good', 'Superb app! fulfilling more than expected', 'Decent app, but not worthy of monthly fees. What happened to 1x Pro licenses?', 'Good app...helps you keep track of your schedule well!', \"Recurring reminders are available for free in Google reminder. You can't Monetize the basic functions.\", 'Works perfectly it is easy to use 10/10', \"I really love this app, but it's not perfect. Here's my thoughts: Pros: - Allows you to make reminders either a push notification OR AN ALARM. This is VERY hard to find in a reminder app. - Highly flexible and customizable, allowing you to set priority, add sub-tasks, custom snooze lengths, etc. Cons: - Not a super clean interface. - Not always an intuitive interface. - The widget often gets behind. Overall, great for someone looking for a very flexible app, but not for a minimalist.\", 'Go', 'Just started using this, I like it so far. There is a broken image on the main screen display, so I am not sure if I am missing something there. Does any one else see this?', \"It doesn't gives a reminder of of my tasks and planned items at all\", 'Good', \"I really liked the app but suddenly from nowhere all of my data were gone. One second they were fine then when I connect to the internet, it's back at lvl 0 with the Johnny avatar.  It seemed that there was no way to get my data back. Dropbox saved data seemed to have been overwritten so idk what to do. I feel betrayed being immersed in the apo then suddenly left hanging with the fact that I don't even know what caused it.\", \"I think it's a good app.\", 'Not the old Palm app, but still usefu l.', \"Unable to download...its already showing downloaded but it's not downloaded in my phone\", 'Please just add alarm and its good easy to use the app', \"Guys I really love this app and feature am.bkt confused of putting repeated reminder as am use to it and I love that reminder alarm to make me awake all the time I miss something. I can't find that or else please help me guiding for that..and also upload more videos on YouTube for new users to understand as you guys have hardly any video\", \"I have used this app for years. I have always paid for the premium version. At first, it was my favorite app, but it has gotten steadily worse. Now it is very glitchy. It closes randomly and typically takes up to three minutes to open which is very embarrassing when I'm trying to set an appointment with a customer. It also randomly unchecks completed tasks and reverts to older versions of my schedule. The developers are uncaring and blame my phone (Note 8). I'm looking for a new app.\", \"The App has a lot of functionality but what is the use of flagging your emails but you cannot open the email messages from Microsoft To Do directly in Outlook? It worked well in Wunderlist but since Wunderlist was transferred to Microsoft To Do it doesn't work anymore.\", \"Hi I love this app, but something was really not good about this app. The App Permission thingy, I thought it was automatic but not. I don't know how to possibly fix it but please fix it or help me to fix it. Actually I already turn on the App Permission and This app was allowed but still it says it was Blocked by the System. Hurry Please, I don't want to waste my time anymore.\", 'It was confusing', 'Great app! It is working very well for our family in planning our days! Would like for it to fully interface with my calendar though - so I could edit from Sectograph as well. Otherwise, I think it is an excellent way to spatially visualize time management.', 'the planner does not work well. when I set it as every Monday, it shows different days.', 'Excellent and very straightforward and easy to use especially now Boards (kanban-style) are here. As I am very spatially-oriented this is ideal for me.', 'Downloads the app but package file is invalid error pops up before completing installation', 'Unfortunately the app somehow does not actually give you reminders on the time and date you set them. Very disappointing. I had hoped this would be fixed moving from Wunderlist to this replacement. The problem seems to be that whenever you do not complete a task on the due date and leave it as is, the app will no longer remind you of anything. If all your tasks are in the future, it will remind you on that date although it might decide to do so later than planned. Weird ass bug needs a fix.', \"Does not log in. After 5 minites it's still trying to log itself in.\", \"I immediately encountered a problem when I began, by misclicking on one of my Habits. There's no way to correct for that. Manually change the values, yes, but the xp and hp don't change to reflect that automatically. Secondly, the settings page is broken on my S9, and the issue is difficult to describe. The display freezes so if you scroll, an instance of the text moves while the another is stuck below. Honestly the tutorial really needs work. I could go on but space constraints.\", 'Very Effective Application', \"Cool concept, but I don't have the attention span for it.\", 'Amazing... Love it', 'Great. I would recommend the following features: - Skills. When you work on a task, you could select which skills you will be working on. - A timer: keep track of how long you spent working on a task, and consequently on the skills. This would allow a summary of how long the player spent on each skill. - (maybe?) Skill trees. Being able to create publix skill trees for a project/hobby/etc... would be a very nice feature too.', \"The Google Calendar integration is riddled with bugs and it has been this way for months. They don't fix it and they are pretty slow on their communication. TickTick is becoming very tempting.\", 'Error code 600 when I try to insert a friend code', \"It was good but I guess Google is sabotaging it, so I lost a couple of notifications. Removed it and started using Google calendar and notifications are now ok. Sorry.  I have uninstalled the program since I missed an important appointment I can no longer trust it.  Probably the solution you provide works, but I think it you should force the user to check those settings on start so one doesn't miss appointments.\", \"Amazing app. One of the main reasons I like having a smart watch is to keep track of my appointments on my wrist, and this has been one of, if not the best way I've tried of having easy visual access to my daily agenda. The visuals is seeing the hand move towards my meetings and the time listed until then is a great touch as well\", \"for years I use ticktick, I love it so much, I rated it 5 in Play store.. But the recent several changes to the app are make the app getting worse and keep getting worse than before. I incredibly sad and disappointed. for years I rely on ticktick as my todolist app, and now I have to find other alternative that can be as good as ticktick that I know before. that's not an easy thing to do\", 'Incredible, the best app of organization.', 'It crashes when you complete a task', \"Doesn't even have a repeat feature\", \"2nd Edited review: The app is worst for reminders since it takes many minutes to fire. Which simply means, the app is worthless. Now the customer service told me that I'm using a cheap device, when in fact it i m using a premium budget phone. Bulls**t customer service as well since they clearly can't take the blame like a real man/woman. Bunch of frauds n scammers tryna make their customer buy their failed invention. Go fu*k urself customer service! Good luck selling nud*s coz u failed it here!\", 'I dont need my card to set the reminder', 'Bom', 'I like this app and I bought Premium, even it was a little expensive (5,49 Euro). What I don\\'t like is: Habits \"with a numeric value\" don\\'t allow \"at least 0 times a day\". If you want to do something 6 times a week, with the possibility to do it twice on one day, it will stay undone the other days (-1 *). Tasks/Habits which are marked as undone may be send to the bottom, too (-1 *). Whitout Premium you only can scedule up to 7 habits! After a removal of any named defect I will change my rating.', 'Great calendar', 'It won\\'t let me set a username. Just says \"username already taken\" even if I type in a random string of letters/numbers', 'Good app! I just wish their was a way to add a morning routine with subtasks or sub habits. Also I wish you could order your habits/tasks however you want, drag and drop style.', \"Really useful, it helps me organize and keep track of my daily tasks. I use To Do on both windows and android. My only problem is when it sync the changes on desktop , the widget on my phone doesn't change at all until I open the app. A refresh button on the widget would do, or make it sync like google keep.\", 'It is not working', 'The user interface is not user friendly No one likes to use a complicated app to build habits which will make their work even more harder Make it simple and easy to understand man', 'Best GUI with few bugs', 'Not Bad', 'Good for daily too list but not much more.', 'Please tell me how to use the app', 'The best 👌', \"I actually really love this app. I used it to create some serious personal progress. I purchased the full app but when I bought a new phone, it wouldn't let me sign out of my old device and into my new device. I emailed support about it...crickets. Never heard from them. If they can put together a decent support team I would give the app a 5 for sure.\", \"I really liked the app and had been using it for a few weeks. But a while ago whenever I would open the app, it would load for a bit but then freeze and crash if I tapped anything. The rest of my phone still works fine (doesn't freeze) while this happens. Is there anything I can do to fix this? I would love to continue using this app. Thank you! (And I have tried uninstalling and reinstalling.) Edit: Clearing did solve the problem for now. Too bad I had to give up all the progress I made. But thank you anyway, at least I can use the app again.\", 'Best App. pls allow to add upto 10 Habits in free version 😅', 'The presentation is slick, highly customizable and the skills and characteristics offer an encouraging meta to \"just do one more thing before bed time\". Liking it! It would have been an easy 5 star if not for the widgets. Unfortunately they do not continue the established level of customizability. Especially rescaling elements of the Ui of \"All Tasks\" to fit it into a smaller screen is missing. Further, there is a bug that \"All tasks are done\" after clicking away two tasks. Oxygen OS 10.3.3', 'No habits library', 'Good App👍👍👍👍', 'This is the best app for me!', \"Would be 5 stars, because it's really great, the best calendar I've ever used, but it keeps losing things I enter where I have poor reception. It's like it thinks it has uploaded them and then forgets them somehow.\", \"App is very buggy. Completed tasks keep showing up as not completed. Notification alarm won't work. Uninstalling.\", \"I just updated the app and I can't use it anymore cause it suddenly closes:(My android version is 8.where can I find the previous version to download? I'm sooo sad:(((\", 'An outright scam!!!! For absolutely any basic functionality they are going to charge and everything you add will incur extra charges. Just a get rich quick scam by a couple of cheats.', \"I paid for a year subscription based off the demo, having not used Google's own, free, task manager. Big mistake. All I needed was Google's free version of the same thing, in fact they are almost identical. Moral of the story don't pay for this unless you are in extreme taskmaster.\", \"This APP's widgets can't realtime refresh in new android core 10.\", \"Honestly the premium version is just not worth it, what's the point of having advanced calendar views and event setup and calendar import if, in every case, you can't see future recurring events? (The next event in the list of recurring appears only if you have ticked off the previous instance) In order to use a calendar efficiently for planning you ought to see what events are next, this hindrance has been made present by the users as far as 2015 (as I'm seeing online) and nothing has been done, that not only shows poor hindsight (what's a calendar without planning) but also a strikingly deaf customer service. The app is probably just as good as its free version, the pomodoro timer is ok, but the extra features are just not worth the expense for the premium version.\", \"I love the idea but it's not working on my Samsung S10e. Like the main screen is just purple when I first open and then the features for designing my character didn't show any options. I'll happily try again once bugs are worked out. Keep us posted!\", \"It's really only useful if you are doing recurring tasks at the same time, on the same days, etc. I set up a lot of tags (categories) but they can only be applied to the routines, not events or reminders. I was also not able to copy/duplicate events, which would have allowed me to reuse the same tasks at different times or days without setting up a brand new event. Disappointed in the app's scheduling capabilities.\", \"OK, it's sending hundreds of notifications with no end after an update yesterday!\", \"Finally found what I'm looking for. Great app!\", 'Gud', \"Does what it's supposed to, one time charge for premium (which is still pretty basic...) I wish there was a was to make the list view more compact, visually hard to scan over the list. Also a custom order option would be great.\", 'Using it everyday obviously !!! Super stable.', 'Terrible experience. If you forget to acknowledge a recurring task when it reminds you, it will no longer send reminders for that task. Randomly changes \"remind me when due\" selection to \"do not remind me\". In one week, with 4 tasks per day, it has failed to remind me 9 times. Absolutely useless! ETA: AFTER THE DEVELOPERS REPLY, I checked my power saving and HAD NONE ACTIVATED. DO NOT BELIEVE HIM. DO NOT BUY!', \"Galaxy S10 on Android 10. FTUE is busted. First two slides don't load. You get to the character creation and the avatar and all of the customize options are invisible/don't display. Please fix or mark the app as incompatible with Android 10.\", 'Great app. 5 stars for sure. What would make it even better from my POV: /- An option to set recurring tasks. e.g I want to pay my bills every month on the 1st, and I want to add a single recurring task. New Habit has the option \"How often do you want to do it\", but New Task does not. /- An \"are you sure\" question before deleting or undo option after. /- The option to filter the list of tasks by category. Especially if you also use it for work tasks, like I do', \"Great app, most of the features with reasonable limitations are available in the free plan already. Pomo sometimes doesn't work though, the timer just gets stuck at 25:00 after it starts\", \"The app is constantly loading and you can't even record your habits, and reminders don't work also, having just 5 habits free is bad too.\", 'Waste', 'Hello Team, I am not able to set different colours for different sectors. Could you please help me show how its done?? I purchased your app in light that It will give me option for above.', 'Would love to be able to customize the app more.  Need to add a dark theme and also add an agenda view.', 'Great app - on a tablet. However, I have one issue. When I create a repeated task, say to repeat daily, when I check it completed the first time, all subsequent days are checked complete. This defeats the purpose of creating a repeating task. Hope you guys can fix it! Love the service.', 'Do I have to add tasks daily? or can I copy whole list for daily?', 'Try', \"This could have been the one but I can't take pictures.\", 'Very nice app......', 'The reminder for recuurring tasks is not working.', \"Having to find players to be able to do anything is a bit annoying, it's really boring otherwise. Reminders don't work properly - I set a bunch for last night that never happened, and a bunch this morning that never happened. It's not really built for proper daily routines including things you need to do twice per day so... It's not really useful for me.\", 'Play voice option does not work consistently. It regularly does not sound \\nthe vocal reminder. This is a function I rely on. How do I contact you to \\ndiscuss further?', 'This is very good app but I have to get premium get access to work essential apps, overall very good', 'Phenomenal productivity application.', 'love it. Cant wait for it to do even more.', 'Paywall for nice features. Overpriced for what it does. $5 for dark mode, get out of here.', \"What would I do without this? Seriously. I don't know. This has honestly helped me work out, and floss. How dumb is that? I don't want to disappoint my party, so I have a certain amount of reps and chores to take care of every day. And darn it, I do them. I have 100% seen improvement in my muscle-mass. It seems... So weird. But this game/whatever you want to call it has started to make me buffer. And I love it.\", \"earlier this was a very good apps, suit for me and my activities. But after I installed it on my PC & change my password, the apps on my phone keeps telling me to reset password from web (even though I already did it) :( so now I can't use it on my phone coz every time I try to open the apps, it always making my phone restart\", \"Deceiving little app! Nowhere in your app or YouTube commercial did it state that for the first 2 week trial, that you needed a credit card on file. I CAN NOT use the 2 week trial unless I have a credit card on file, that really sucks! Why call it a trail, it's more like an ambush.\", 'Great App', 'Ver y often the application does not open, you sen question and ask what is happening, and you get No replied,, Roger J Sanchez from Miami', \"when adding a task it transferring you to Google calendar then after adding the event it doesn't appear on the widget?\", 'Nice app finally some good frikin friends', 'Nice integration with Teams & Planner. Would get an extra star if I could assign tasks directly from To Do.']\n"
          ]
        }
      ]
    },
    {
      "cell_type": "code",
      "source": [
        "from sklearn.metrics import confusion_matrix, classification_report\n",
        "print(classification_report(y_test, y_pred, target_names=classnames))"
      ],
      "metadata": {
        "colab": {
          "base_uri": "https://localhost:8080/"
        },
        "id": "fuq3Z_Ove70N",
        "outputId": "246ebc18-b4f1-490e-81cc-f71723f2cc0e"
      },
      "execution_count": 98,
      "outputs": [
        {
          "output_type": "stream",
          "name": "stdout",
          "text": [
            "              precision    recall  f1-score   support\n",
            "\n",
            "    negative       0.77      0.79      0.78       480\n",
            "     neutral       0.39      0.35      0.37       216\n",
            "    positive       0.83      0.84      0.84       554\n",
            "\n",
            "    accuracy                           0.74      1250\n",
            "   macro avg       0.66      0.66      0.66      1250\n",
            "weighted avg       0.73      0.74      0.73      1250\n",
            "\n"
          ]
        }
      ]
    },
    {
      "cell_type": "code",
      "source": [
        "def show_confusion_matrix(confusion_matrix):\n",
        "  hmap = sns.heatmap(confusion_matrix, annot=True, fmt=\"d\", cmap=\"Blues\")\n",
        "  hmap.yaxis.set_ticklabels(hmap.yaxis.get_ticklabels(), rotation=0, ha='right')\n",
        "  hmap.xaxis.set_ticklabels(hmap.xaxis.get_ticklabels(), rotation=30, ha='right')\n",
        "  plt.ylabel('True sentiment')\n",
        "  plt.xlabel('Predicted sentiment');\n",
        "\n",
        "cm = confusion_matrix(y_test, y_pred)\n",
        "df_cm = pd.DataFrame(cm, index=classnames, columns=classnames)\n",
        "show_confusion_matrix(df_cm)"
      ],
      "metadata": {
        "colab": {
          "base_uri": "https://localhost:8080/",
          "height": 300
        },
        "id": "k20FDsjre_DK",
        "outputId": "7e45f4a6-694a-4066-82d8-547e79c4354a"
      },
      "execution_count": 99,
      "outputs": [
        {
          "output_type": "display_data",
          "data": {
            "text/plain": [
              "<Figure size 432x288 with 2 Axes>"
            ],
            "image/png": "[encoded data removed]"
          },
          "metadata": {
            "needs_background": "light"
          }
        }
      ]
    },
    {
      "cell_type": "code",
      "source": [
        "idx = 2\n",
        "\n",
        "review_text = y_review_texts[idx]\n",
        "true_sentiment = y_test[idx]\n",
        "pred_df = pd.DataFrame({\n",
        "  'class_names': classnames,\n",
        "  'values': y_pred_probs[idx]\n",
        "})"
      ],
      "metadata": {
        "id": "KG-3sZ0AfB-p"
      },
      "execution_count": 100,
      "outputs": []
    },
    {
      "cell_type": "code",
      "source": [
        "from textwrap import wrap\n",
        "print(\"\\n\".join(wrap(review_text)))\n",
        "print()\n",
        "print(f'True sentiment: {classnames[true_sentiment]}')"
      ],
      "metadata": {
        "colab": {
          "base_uri": "https://localhost:8080/"
        },
        "id": "qYM1yLuxfJfc",
        "outputId": "1d3971e2-8f3f-46d8-fe12-bee77f97e7dc"
      },
      "execution_count": 101,
      "outputs": [
        {
          "output_type": "stream",
          "name": "stdout",
          "text": [
            "Easy to use. No dramas. Very streamline for basic list use.\n",
            "\n",
            "True sentiment: positive\n"
          ]
        }
      ]
    },
    {
      "cell_type": "code",
      "source": [
        "sns.barplot(x='values', y='class_names', data=pred_df, orient='h')\n",
        "plt.ylabel('sentiment')\n",
        "plt.xlabel('probability')\n",
        "plt.xlim([0, 1]);"
      ],
      "metadata": {
        "colab": {
          "base_uri": "https://localhost:8080/",
          "height": 279
        },
        "id": "MYBCSGBdfKQO",
        "outputId": "a935031e-36a8-45b0-c4b1-83acca3fe796"
      },
      "execution_count": 102,
      "outputs": [
        {
          "output_type": "display_data",
          "data": {
            "text/plain": [
              "<Figure size 432x288 with 1 Axes>"
            ],
            "image/png": "[encoded data removed]"
          },
          "metadata": {
            "needs_background": "light"
          }
        }
      ]
    },
    {
      "cell_type": "code",
      "source": [
        "#predict one text\n",
        "review_text = \"I love completing my todos! Best app ever!!!\""
      ],
      "metadata": {
        "id": "kPbIG0_bkdl5"
      },
      "execution_count": 103,
      "outputs": []
    },
    {
      "cell_type": "code",
      "source": [
        "encoded_review = tokenizer.encode_plus(\n",
        "  review_text,\n",
        "  max_length=max_length,\n",
        "  add_special_tokens=True,\n",
        "  return_token_type_ids=False,\n",
        "  pad_to_max_length=True,\n",
        "  return_attention_mask=True,\n",
        "  return_tensors='pt',\n",
        ")"
      ],
      "metadata": {
        "id": "awo4oEIYkjcR"
      },
      "execution_count": 106,
      "outputs": []
    },
    {
      "cell_type": "code",
      "source": [
        "input_ids = encoded_review['input_ids'].to(device)\n",
        "attention_mask = encoded_review['attention_mask'].to(device)\n",
        "\n",
        "output = model(input_ids, attention_mask)\n",
        "_, prediction = torch.max(output, dim=1)\n",
        "\n",
        "print(f'Review text: {review_text}')\n",
        "print(f'Sentiment  : {classnames[prediction]}')"
      ],
      "metadata": {
        "colab": {
          "base_uri": "https://localhost:8080/"
        },
        "id": "jwvnKjaekm2D",
        "outputId": "a83bbfd7-ed91-47e9-8b77-8c94219e161c"
      },
      "execution_count": 107,
      "outputs": [
        {
          "output_type": "stream",
          "name": "stdout",
          "text": [
            "Review text: I love completing my todos! Best app ever!!!\n",
            "Sentiment  : positive\n"
          ]
        }
      ]
    },
    {
      "cell_type": "code",
      "source": [],
      "metadata": {
        "id": "FgxTH_9Ik3Dw"
      },
      "execution_count": 108,
      "outputs": []
    },
    {
      "cell_type": "code",
      "source": [],
      "metadata": {
        "id": "_TRZOQWClu5g"
      },
      "execution_count": null,
      "outputs": []
    }
  ]
}